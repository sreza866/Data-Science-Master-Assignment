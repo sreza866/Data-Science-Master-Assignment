{
 "cells": [
  {
   "cell_type": "code",
   "execution_count": 1,
   "id": "0d9a2be2",
   "metadata": {},
   "outputs": [],
   "source": [
    "# Q1. Which function is used to open a file? What are the different modes of opening a file? Explain each mode\n",
    "# of file opening."
   ]
  },
  {
   "cell_type": "markdown",
   "id": "8284a6d6",
   "metadata": {},
   "source": [
    "### Solution 1-\n",
    "<span style = 'font-size:0.8em;'>\n",
    "    \n",
    "In Python, the open() function is used to open a file. It takes two main arguments: the file path and the mode in which you want to open the file.<br>\n",
    "The different modes of opening a file in Python are:<br>\n",
    "\n",
    "'r' (Read Mode): This is the default mode. It opens the file for reading. If the file doesn't exist or cannot be opened for some reason, it raises a FileNotFoundError. You can only read from the file in this mode.<br>\n",
    "\n",
    "'w' (Write Mode): It opens the file for writing. If the file exists, it truncates it (removes all the contents) before writing. If the file doesn't exist, it creates a new file.<br>\n",
    "\n",
    "'a' (Append Mode): It opens the file for appending new content to the end of the file. If the file doesn't exist, it creates a new file.<br>\n",
    "\n",
    "'b' (Binary Mode): This mode is used to open the file in binary mode. It is used in combination with other modes like 'rb' or 'wb'. This mode is mainly used for non-text files like images or executable files.<br>\n",
    "\n",
    "'+' (Read/Write Mode): This mode allows you to read and write to the file. It's used in combination with other modes like 'r+', 'w+', or 'a+'. It means you can perform both read and write operations on the file.<br>\n",
    "\n",
    "'x' (Exclusive Creation Mode): This mode is used for exclusive creation, which means it opens the file for exclusive creation and fails if the file already exists.\n",
    "</span>\n",
    "    "
   ]
  },
  {
   "cell_type": "code",
   "execution_count": 2,
   "id": "e909cdf4",
   "metadata": {},
   "outputs": [],
   "source": [
    "# Q2. Why close() function is used? Why is it important to close a file?"
   ]
  },
  {
   "cell_type": "markdown",
   "id": "7eba82a0",
   "metadata": {},
   "source": [
    "### Solution 2-\n",
    "<span style = 'font-size:0.8em;'>\n",
    "The <code>close()</code> function in Python is used to close a file after it has been opened using the<code>open()</code> function. closing a file is important because it ensures proper resource management, data integrity, and prevents potential issues related to file locking and operating system limits.<br> \n",
    "Closing a file ensures that it is properly finalized and ready for other operations. For example, if you want to rename or delete a file, you may encounter issues if it is still open in another process. Closing the file releases any locks or resources associated with it, allowing other operations to proceed without interference.<br>\n",
    "It's a good practice to always close files after you're done using them to avoid these problems.\n",
    "</span>\n"
   ]
  },
  {
   "cell_type": "code",
   "execution_count": 3,
   "id": "df077444",
   "metadata": {},
   "outputs": [],
   "source": [
    "# Q3. Write a python program to create a text file. Write ‘I want to become a Data Scientist’ in that file. Then\n",
    "# close the file. Open this file and read the content of the file."
   ]
  },
  {
   "cell_type": "markdown",
   "id": "25a31c09",
   "metadata": {},
   "source": [
    "### Solution 3-"
   ]
  },
  {
   "cell_type": "code",
   "execution_count": 4,
   "id": "9f43371c",
   "metadata": {},
   "outputs": [
    {
     "name": "stdout",
     "output_type": "stream",
     "text": [
      "I want to become a Data Scientist\n"
     ]
    }
   ],
   "source": [
    "data = \"I want to become a Data Scientist\"\n",
    "with open(\"mytext.txt\",\"w\") as file:\n",
    "    file.write(data)\n",
    "    file.close()\n",
    "\n",
    "with open(\"mytext.txt\",\"r\") as file:\n",
    "   print(file.read())"
   ]
  },
  {
   "cell_type": "code",
   "execution_count": 5,
   "id": "67a16a3d",
   "metadata": {},
   "outputs": [],
   "source": [
    "# Q4. Explain the following with python code: read(), readline() and readlines()."
   ]
  },
  {
   "cell_type": "markdown",
   "id": "c95b769e",
   "metadata": {},
   "source": [
    "### Solution 4-\n",
    "<span style ='font-size:0.8em;'>\n",
    "    <code>1.read()</code>: This method reads the entire content of the file as a single string.\n",
    "</span>"
   ]
  },
  {
   "cell_type": "code",
   "execution_count": 6,
   "id": "a6017e35",
   "metadata": {},
   "outputs": [
    {
     "name": "stdout",
     "output_type": "stream",
     "text": [
      "Content of the file:\n",
      "Data Science Masters course is highly curated and uniquely designed according to the latest industry standards. This program instills students the skills essential to knowledge discovery efforts to identify standard, novel, and truly differentiated solutions and decision-making, including skills in managing, querying, analyzing, visualizing, and extracting meaning from extremely large data sets. This trending program provides students with the statistical, mathematical and computational skills needed to meet the large-scale data science challenges of today's professional world. You will learn all the stack required to work in data science industry including cloud infrastructure and real-time industry projects. This course will be taught in Hindi language.\n",
      "this is my second line that i am trying to write\n"
     ]
    }
   ],
   "source": [
    "# Open file in read mode\n",
    "with open(\"test.txt\", 'r') as file:\n",
    "    # Read the entire content of the file\n",
    "    file_content = file.read()\n",
    "\n",
    "# Print the content of the file\n",
    "print(\"Content of the file:\")\n",
    "print(file_content)"
   ]
  },
  {
   "cell_type": "markdown",
   "id": "2e39601b",
   "metadata": {},
   "source": [
    "<span style ='font-size:0.8em;'>\n",
    "   <code>2.readline()</code>: This method reads a single line from the file each time it's called. It returns an empty string when it    reaches the end of the file.\n",
    "</span>"
   ]
  },
  {
   "cell_type": "code",
   "execution_count": 7,
   "id": "1d91dbe9",
   "metadata": {},
   "outputs": [
    {
     "name": "stdout",
     "output_type": "stream",
     "text": [
      "First line of the file: Data Science Masters course is highly curated and uniquely designed according to the latest industry standards. This program instills students the skills essential to knowledge discovery efforts to identify standard, novel, and truly differentiated solutions and decision-making, including skills in managing, querying, analyzing, visualizing, and extracting meaning from extremely large data sets. This trending program provides students with the statistical, mathematical and computational skills needed to meet the large-scale data science challenges of today's professional world. You will learn all the stack required to work in data science industry including cloud infrastructure and real-time industry projects. This course will be taught in Hindi language.\n",
      "\n",
      "Second line of the file: this is my second line that i am trying to write\n"
     ]
    }
   ],
   "source": [
    "# Open file in read mode\n",
    "with open(\"test.txt\", 'r') as file:\n",
    "    # Read the first line of the file\n",
    "    line1 = file.readline()\n",
    "    # Read the second line of the file\n",
    "    line2 = file.readline()\n",
    "\n",
    "# Print the lines read from the file\n",
    "print(\"First line of the file:\", line1)\n",
    "print(\"Second line of the file:\", line2)\n"
   ]
  },
  {
   "cell_type": "markdown",
   "id": "218e0460",
   "metadata": {},
   "source": [
    "<span style= 'font-size:0.8em;'>\n",
    "    <code>3.readlines()</code>: This method reads all the lines of the file and returns them as a list of strings.\n",
    "</span>"
   ]
  },
  {
   "cell_type": "code",
   "execution_count": 8,
   "id": "c81f7621",
   "metadata": {},
   "outputs": [
    {
     "name": "stdout",
     "output_type": "stream",
     "text": [
      "Content of the file (as a list of lines):\n",
      "Data Science Masters course is highly curated and uniquely designed according to the latest industry standards. This program instills students the skills essential to knowledge discovery efforts to identify standard, novel, and truly differentiated solutions and decision-making, including skills in managing, querying, analyzing, visualizing, and extracting meaning from extremely large data sets. This trending program provides students with the statistical, mathematical and computational skills needed to meet the large-scale data science challenges of today's professional world. You will learn all the stack required to work in data science industry including cloud infrastructure and real-time industry projects. This course will be taught in Hindi language.\n",
      "this is my second line that i am trying to write\n"
     ]
    }
   ],
   "source": [
    "# Open file in read mode\n",
    "with open(\"test.txt\", 'r') as file:\n",
    "    # Read all lines of the file\n",
    "    lines = file.readlines()\n",
    "\n",
    "# Print the lines read from the file\n",
    "print(\"Content of the file (as a list of lines):\")\n",
    "for line in lines:\n",
    "    print(line.strip())  # Strips newline character from each line\n"
   ]
  },
  {
   "cell_type": "code",
   "execution_count": 9,
   "id": "401d6d51",
   "metadata": {},
   "outputs": [],
   "source": [
    "# Q5. Explain why with statement is used with open(). What is the advantage of using with statement and\n",
    "# open() together?"
   ]
  },
  {
   "cell_type": "markdown",
   "id": "28771a1f",
   "metadata": {},
   "source": [
    "### Solution 5-\n",
    "<span style = 'font-size:0.8em;'>\n",
    "    The <code>with</code>statement in Python is used to simplify resource management by automatically taking care of the setup and cleanup  of resources. When used with the <code>open()</code> function for file operations, it ensures that the file is properly opened and closed, even if an error occurs during the execution of the code block inside the with statement.\n",
    "</span>"
   ]
  },
  {
   "cell_type": "code",
   "execution_count": 10,
   "id": "91b6e769",
   "metadata": {},
   "outputs": [
    {
     "name": "stdout",
     "output_type": "stream",
     "text": [
      "I want to become a Data Scientist\n"
     ]
    }
   ],
   "source": [
    "# Open file using with statement\n",
    "with open(\"mytext.txt\", 'r') as file:\n",
    "    # Read content of the file\n",
    "    content = file.read()\n",
    "    # Process the content\n",
    "    print(content)\n",
    "\n",
    "# File is automatically closed when the block exits\n"
   ]
  },
  {
   "cell_type": "markdown",
   "id": "c3dea54b",
   "metadata": {},
   "source": [
    "<span style = 'font-size:0.8em;'>\n",
    "In this example, the file is opened within the <code>with</code> statement, and the <code>close()</code> method is automatically called when the block exits, regardless of whether an exception occurs or not. This ensures proper resource management and cleaner code\n",
    "</span>"
   ]
  },
  {
   "cell_type": "code",
   "execution_count": null,
   "id": "f57380b3",
   "metadata": {},
   "outputs": [],
   "source": []
  }
 ],
 "metadata": {
  "kernelspec": {
   "display_name": "Python 3 (ipykernel)",
   "language": "python",
   "name": "python3"
  },
  "language_info": {
   "codemirror_mode": {
    "name": "ipython",
    "version": 3
   },
   "file_extension": ".py",
   "mimetype": "text/x-python",
   "name": "python",
   "nbconvert_exporter": "python",
   "pygments_lexer": "ipython3",
   "version": "3.10.9"
  }
 },
 "nbformat": 4,
 "nbformat_minor": 5
}
