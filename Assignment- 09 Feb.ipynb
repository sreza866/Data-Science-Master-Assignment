{
 "cells": [
  {
   "cell_type": "code",
   "execution_count": 1,
   "id": "63896a19",
   "metadata": {},
   "outputs": [],
   "source": [
    "# Q1. Create a vehicle class with an init method having instance variables as name_of_vehicle, max_speed\n",
    "# and average_of_vehicle."
   ]
  },
  {
   "cell_type": "code",
   "execution_count": 2,
   "id": "5403a5cf",
   "metadata": {},
   "outputs": [],
   "source": [
    "class Vehicle:\n",
    "    def __init__(self, name_of_vehicle, max_speed, average_of_vehicle):\n",
    "        self.name_of_vehicle = name_of_vehicle\n",
    "        self.max_speed = max_speed\n",
    "        self.average_of_vehicle = average_of_vehicle"
   ]
  },
  {
   "cell_type": "code",
   "execution_count": 3,
   "id": "d6989a57",
   "metadata": {},
   "outputs": [],
   "source": [
    "# Q2. Create a child class car from the vehicle class created in Que 1, which will inherit the vehicle class.\n",
    "# Create a method named seating_capacity which takes capacity as an argument and returns the name of\n",
    "# the vehicle and its seating capacity."
   ]
  },
  {
   "cell_type": "code",
   "execution_count": 4,
   "id": "c27090e7",
   "metadata": {},
   "outputs": [],
   "source": [
    "class Car(Vehicle):\n",
    "    def seating_capacity(self, capacity):\n",
    "        return f\"{self.name_of_vehicle} has a seating capacity of {capacity}.\""
   ]
  },
  {
   "cell_type": "code",
   "execution_count": 5,
   "id": "8e22e98e",
   "metadata": {},
   "outputs": [
    {
     "name": "stdout",
     "output_type": "stream",
     "text": [
      "Mustang has a seating capacity of 7.\n"
     ]
    }
   ],
   "source": [
    "# Example usage:\n",
    "c1 = Car('Mustang', 360, 17)\n",
    "print(c1.seating_capacity(7))\n",
    "        \n",
    "    "
   ]
  },
  {
   "cell_type": "code",
   "execution_count": 6,
   "id": "f6eefd2f",
   "metadata": {},
   "outputs": [],
   "source": [
    "# Q3. What is multiple inheritance? Write a python code to demonstrate multiple inheritance."
   ]
  },
  {
   "cell_type": "markdown",
   "id": "bd8a8152",
   "metadata": {},
   "source": [
    "<span style = 'font-size:0.8em;'>\n",
    "Multiple inheritance is a feature in object-oriented programming languages where a subclass or child class inherits from multiple superclasses or parent class, combining attributes and methods from all parent classes.\n",
    "</span>"
   ]
  },
  {
   "cell_type": "code",
   "execution_count": 7,
   "id": "0954351e",
   "metadata": {},
   "outputs": [
    {
     "name": "stdout",
     "output_type": "stream",
     "text": [
      "I can live on land\n",
      "I can live in water\n",
      "Cool! I can live anywhere i want\n"
     ]
    }
   ],
   "source": [
    "# Example of Multiple Inheritance\n",
    "class Terrestrial:\n",
    "    def terrestrial_feature(self):\n",
    "        return \"I can live on land\"\n",
    "\n",
    "class Aquatic:\n",
    "    def aquatic_feature(self):\n",
    "        return \"I can live in water\"\n",
    "    \n",
    "class Amphibious(Terrestrial,Aquatic):\n",
    "    def amphi_feature(self):\n",
    "        return \"Cool! I can live anywhere i want\"\n",
    "\n",
    "    \n",
    "amp1 = Amphibious()\n",
    "print(amp1.terrestrial_feature())\n",
    "print(amp1.aquatic_feature())\n",
    "print(amp1.amphi_feature())"
   ]
  },
  {
   "cell_type": "code",
   "execution_count": 8,
   "id": "0fe5851f",
   "metadata": {},
   "outputs": [],
   "source": [
    "# Q4. What are getter and setter in python? Create a class and create a getter and a setter method in this\n",
    "# class."
   ]
  },
  {
   "cell_type": "code",
   "execution_count": 9,
   "id": "1c00b8a8",
   "metadata": {},
   "outputs": [],
   "source": [
    "class car:\n",
    "    def __init__(self,year,make,model,speed):\n",
    "        self.__year = year\n",
    "        self.__make = make\n",
    "        self.__model = model\n",
    "        self.__speed = speed\n",
    "    def speed_setter(self,speed):\n",
    "        self.__speed = 0 if speed<0 else speed\n",
    "        \n",
    "    def speed_getter(self):\n",
    "        return f\"{self.__model} is running with speed of {self.__speed}\""
   ]
  },
  {
   "cell_type": "code",
   "execution_count": 10,
   "id": "0530d0cc",
   "metadata": {},
   "outputs": [],
   "source": [
    "c1 = car(1969,'Ford','Mustang Boss',360)"
   ]
  },
  {
   "cell_type": "code",
   "execution_count": 12,
   "id": "170343e8",
   "metadata": {},
   "outputs": [],
   "source": [
    "c1.speed_setter(400)"
   ]
  },
  {
   "cell_type": "code",
   "execution_count": 13,
   "id": "0ef8070b",
   "metadata": {},
   "outputs": [
    {
     "name": "stdout",
     "output_type": "stream",
     "text": [
      "Mustang Boss is running with speed of 400\n"
     ]
    }
   ],
   "source": [
    "print(c1.speed_getter())"
   ]
  },
  {
   "cell_type": "code",
   "execution_count": 14,
   "id": "bd51ce7e",
   "metadata": {},
   "outputs": [],
   "source": [
    "# Q5.What is method overriding in python? Write a python code to demonstrate method overriding."
   ]
  },
  {
   "cell_type": "markdown",
   "id": "f0fe022c",
   "metadata": {},
   "source": [
    "<span style = 'font-size:0.8em;'>\n",
    "Method overriding is a concept in object-oriented programming where a subclass provides a specific implementation of a method that is already defined in its superclass. When a subclass overrides a method, it replaces the implementation of that method in the superclass with its own implementation. This allows the subclass to customize or extend the behavior of the method.\n",
    "</span>"
   ]
  },
  {
   "cell_type": "code",
   "execution_count": 15,
   "id": "75400e68",
   "metadata": {},
   "outputs": [
    {
     "name": "stdout",
     "output_type": "stream",
     "text": [
      "Parent class speaks\n",
      "Child class speaks better\n"
     ]
    }
   ],
   "source": [
    "class Parent:\n",
    "    def speak(self):\n",
    "        print(\"Parent class speaks\")\n",
    "\n",
    "class Child(Parent):\n",
    "    def speak(self):\n",
    "        print(\"Child class speaks better\")\n",
    "\n",
    "# Creating instances of Parent and Child classes\n",
    "parent = Parent()\n",
    "child = Child()\n",
    "\n",
    "# Calling the speak method for each object\n",
    "parent.speak()  \n",
    "child.speak()   \n"
   ]
  },
  {
   "cell_type": "code",
   "execution_count": null,
   "id": "b7e1cc50",
   "metadata": {},
   "outputs": [],
   "source": []
  }
 ],
 "metadata": {
  "kernelspec": {
   "display_name": "Python 3 (ipykernel)",
   "language": "python",
   "name": "python3"
  },
  "language_info": {
   "codemirror_mode": {
    "name": "ipython",
    "version": 3
   },
   "file_extension": ".py",
   "mimetype": "text/x-python",
   "name": "python",
   "nbconvert_exporter": "python",
   "pygments_lexer": "ipython3",
   "version": "3.10.9"
  }
 },
 "nbformat": 4,
 "nbformat_minor": 5
}
