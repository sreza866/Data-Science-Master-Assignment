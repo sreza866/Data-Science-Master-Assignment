{
 "cells": [
  {
   "cell_type": "markdown",
   "id": "aa588f60",
   "metadata": {},
   "source": [
    "## Assignment 02-Feb"
   ]
  },
  {
   "cell_type": "markdown",
   "id": "2a267549",
   "metadata": {},
   "source": [
    "Solution 1-<br>\n",
    "\n",
    "\n",
    "<span style=\"font-size:0.8em;\">\n",
    "Tuple is a collection of objects separated by commas. In some ways, a tuple is similar to a Python list in terms of indexing, nested objects, and repetition but the main difference between both is Python tuple is immutable, unlike the Python list which is mutable.<br>\n",
    "\n",
    "The characteristics of the tuples are:<br>\n",
    "\n",
    "1.Immutable: Tuples are immutable, meaning once they are created, their elements cannot be changed or modified. However, if the elements themselves are mutable (like lists), their contents can be modified.\n",
    "\n",
    "2.Ordered: Tuples maintain the order of elements, meaning the position of each element in the tuple is fixed.\n",
    "\n",
    "3.Heterogeneous: Tuples can contain elements of different data types. For example, a tuple can contain integers, strings, floats, or even other tuples.\n",
    "\n",
    "4.Iterable: Like lists, tuples are iterable, meaning you can loop through their elements using a loop construct like for.\n",
    "\n",
    "5.Indexed: You can access elements of a tuple using their index, starting from 0 for the first element.\n",
    "\n",
    "6.Hashable: Tuples are hashable if all their elements are hashable. This means tuples can be used as keys in dictionaries and elements of sets.\n",
    "   </span>\n"
   ]
  },
  {
   "cell_type": "markdown",
   "id": "ef6662ba",
   "metadata": {},
   "source": [
    "Solution 2-\n",
    "\n",
    "\n",
    "<span style=\"font-size:0.8em;\">\n",
    "In Python, tuples have two built-in methods:\n",
    "\n",
    "1. count(): This method returns the number of occurrences of a specified value in the tuple.\n",
    "\n",
    "2. index(): This method returns the index of the first occurrence of a specified value in the tuple.\n",
    "\n",
    "Here are examples of each method:\n",
    "   </span>"
   ]
  },
  {
   "cell_type": "code",
   "execution_count": 1,
   "id": "eb777309",
   "metadata": {},
   "outputs": [
    {
     "name": "stdout",
     "output_type": "stream",
     "text": [
      "Number of occurrences of 2: 3\n"
     ]
    }
   ],
   "source": [
    "# Example of count() method\n",
    "t = (1, 2, 3, 2, 4, 2)\n",
    "count_of_2 = t.count(2)\n",
    "print(\"Number of occurrences of 2:\", count_of_2) "
   ]
  },
  {
   "cell_type": "code",
   "execution_count": 2,
   "id": "b8129f41",
   "metadata": {},
   "outputs": [
    {
     "name": "stdout",
     "output_type": "stream",
     "text": [
      "Index of value 3: 2\n"
     ]
    }
   ],
   "source": [
    "# Example of index() method\n",
    "index_of_3 = t.index(3)         # Return first index of value\n",
    "print(\"Index of value 3:\", index_of_3) "
   ]
  },
  {
   "cell_type": "markdown",
   "id": "a23f671a",
   "metadata": {},
   "source": [
    "Solution 3-\n",
    "\n",
    "\n",
    "<span style=\"font-size:0.8em;\">\n",
    "\n",
    "In Python, sets and dictionaries do not allow duplicate items.\n",
    "    \n",
    "\n",
    " Write a code using a set to remove duplicates from the given list.\n",
    "\n",
    "\n",
    "List = [1, 1, 1, 2, 1, 3, 1, 4, 2, 1, 2, 2, 2, 3, 2, 4, 3, 1, 3, 2, 3, 3, 3, 4, 4, 1, 4, 2, 4, 3, 4, 4]\n",
    " </span>   "
   ]
  },
  {
   "cell_type": "code",
   "execution_count": 3,
   "id": "c6a861c7",
   "metadata": {},
   "outputs": [],
   "source": [
    "# Given List\n",
    "l = [1, 1, 1, 2, 1, 3, 1, 4, 2, 1, 2, 2, 2, 3, 2, 4, 3, 1, 3, 2, 3, 3, 3, 4, 4, 1, 4, 2, 4, 3, 4, 4]"
   ]
  },
  {
   "cell_type": "code",
   "execution_count": 4,
   "id": "1e3d2e3b",
   "metadata": {},
   "outputs": [],
   "source": [
    "l_unique = list(set(l)) # set removes dupicate elements"
   ]
  },
  {
   "cell_type": "code",
   "execution_count": 5,
   "id": "18250c64",
   "metadata": {},
   "outputs": [
    {
     "name": "stdout",
     "output_type": "stream",
     "text": [
      "[1, 2, 3, 4]\n"
     ]
    }
   ],
   "source": [
    "print(l_unique)"
   ]
  },
  {
   "cell_type": "markdown",
   "id": "29da5c54",
   "metadata": {},
   "source": [
    "Solution 4-\n",
    "\n",
    "<span style=\"font-size:0.8em;\">\n",
    "The union() and update() methods are both used with sets in Python, but they have different behaviors:\n",
    "\n",
    "<u>union() Method:</u><br>\n",
    "The union() method returns a new set containing all the unique elements from the sets involved in the operation.<br>\n",
    "It does not modify the original sets.<br>\n",
    "\n",
    "<u>update() Method:</u><br>\n",
    "The update() method adds all elements from another set (or any iterable) to the current set.<br>\n",
    "It modifies the original set in place.<br>\n",
    "</span>"
   ]
  },
  {
   "cell_type": "code",
   "execution_count": 6,
   "id": "4bdebda4",
   "metadata": {},
   "outputs": [],
   "source": [
    "# Example of union() method\n",
    "set1 = {1, 2, 3}\n",
    "set2 = {3, 4, 5}"
   ]
  },
  {
   "cell_type": "code",
   "execution_count": 7,
   "id": "c13f5d4d",
   "metadata": {},
   "outputs": [
    {
     "data": {
      "text/plain": [
       "{1, 2, 3}"
      ]
     },
     "execution_count": 7,
     "metadata": {},
     "output_type": "execute_result"
    }
   ],
   "source": [
    "set1"
   ]
  },
  {
   "cell_type": "code",
   "execution_count": 8,
   "id": "1243f759",
   "metadata": {},
   "outputs": [
    {
     "data": {
      "text/plain": [
       "{3, 4, 5}"
      ]
     },
     "execution_count": 8,
     "metadata": {},
     "output_type": "execute_result"
    }
   ],
   "source": [
    "set2"
   ]
  },
  {
   "cell_type": "code",
   "execution_count": 9,
   "id": "0020f037",
   "metadata": {},
   "outputs": [
    {
     "name": "stdout",
     "output_type": "stream",
     "text": [
      "Union of set1 and set2: {1, 2, 3, 4, 5}\n"
     ]
    }
   ],
   "source": [
    "union_set = set1.union(set2) # Using union() method\n",
    "print(\"Union of set1 and set2:\", union_set) "
   ]
  },
  {
   "cell_type": "code",
   "execution_count": 10,
   "id": "037309d8",
   "metadata": {},
   "outputs": [],
   "source": [
    "# Example of union() method\n",
    "set1 = {1, 2, 3}\n",
    "set2 = {3, 4, 5}"
   ]
  },
  {
   "cell_type": "code",
   "execution_count": 11,
   "id": "a6220073",
   "metadata": {},
   "outputs": [
    {
     "data": {
      "text/plain": [
       "{1, 2, 3}"
      ]
     },
     "execution_count": 11,
     "metadata": {},
     "output_type": "execute_result"
    }
   ],
   "source": [
    "set1"
   ]
  },
  {
   "cell_type": "code",
   "execution_count": 12,
   "id": "ddf6343d",
   "metadata": {},
   "outputs": [
    {
     "data": {
      "text/plain": [
       "{3, 4, 5}"
      ]
     },
     "execution_count": 12,
     "metadata": {},
     "output_type": "execute_result"
    }
   ],
   "source": [
    "set2"
   ]
  },
  {
   "cell_type": "code",
   "execution_count": 13,
   "id": "ea2b2eb9",
   "metadata": {},
   "outputs": [
    {
     "name": "stdout",
     "output_type": "stream",
     "text": [
      "Updated set1: {1, 2, 3, 4, 5}\n"
     ]
    }
   ],
   "source": [
    "set1.update(set2) # Using union() method\n",
    "print(\"Updated set1:\", set1)"
   ]
  },
  {
   "cell_type": "markdown",
   "id": "65027430",
   "metadata": {},
   "source": [
    "Solution 5-\n",
    "\n",
    "\n",
    "<span style=\"font-size:0.8em;\">\n",
    "A dictionary in Python is a collection of key-value pairs. It is also known as an associative array or a hash map in other programming languages. Each key-value pair in a dictionary maps the key to its corresponding value. Keys within a dictionary must be unique, but values can be duplicated. Dictionaries are mutable, meaning they can be modified after creation.\n",
    "</span>"
   ]
  },
  {
   "cell_type": "code",
   "execution_count": 14,
   "id": "f76a717e",
   "metadata": {},
   "outputs": [
    {
     "name": "stdout",
     "output_type": "stream",
     "text": [
      "Name: Subhan\n",
      "Age: 23\n",
      "City: Bangalore\n"
     ]
    }
   ],
   "source": [
    "# Example of a dictionary\n",
    "d1 = {'name': 'Subhan', 'age': 23, 'city': 'Bangalore'}\n",
    "\n",
    "# Accessing values using keys\n",
    "print(\"Name:\", d1['name'])  \n",
    "print(\"Age:\", d1['age'])   \n",
    "print(\"City:\", d1['city'])  "
   ]
  },
  {
   "cell_type": "markdown",
   "id": "d80b56c4",
   "metadata": {},
   "source": [
    "<span style=\"font-size:0.8em;\">\n",
    "\n",
    "In Python 3.6 and earlier, dictionaries were unordered, meaning the order of insertion of key-value pairs was not guaranteed to be preserved. However, starting from Python 3.7, dictionaries maintain the order of insertion,This means that in Python 3.7 and later versions, the order of items in a dictionary is guaranteed to be the same as the order in which they were inserted.\n",
    "</span>"
   ]
  },
  {
   "cell_type": "markdown",
   "id": "a574e10b",
   "metadata": {},
   "source": [
    "Solution 6-\n",
    "\n",
    "<span style=\"font-size:0.8em;\">\n",
    "Yes, we can create a nested dictionary in Python. A nested dictionary is a dictionary where the values are themselves dictionaries.\n",
    "</span>"
   ]
  },
  {
   "cell_type": "code",
   "execution_count": 15,
   "id": "38d53354",
   "metadata": {},
   "outputs": [],
   "source": [
    "# Example of a nested dictionary\n",
    "nested_dict = {\n",
    "    'instructor1': {'name': 'Krish', 'age': 32, 'city': 'Delhi'},\n",
    "    'instructor2': {'name': 'Sudhansu', 'age': 30, 'city': 'Mumbai'}\n",
    "}"
   ]
  },
  {
   "cell_type": "code",
   "execution_count": 16,
   "id": "a7135210",
   "metadata": {},
   "outputs": [
    {
     "name": "stdout",
     "output_type": "stream",
     "text": [
      "Details of instructor1: {'name': 'Krish', 'age': 32, 'city': 'Delhi'}\n",
      "Name of instructor2: Sudhansu\n"
     ]
    }
   ],
   "source": [
    "# Accessing values from the nested dictionary\n",
    "print(\"Details of instructor1:\", nested_dict['instructor1'])\n",
    "print(\"Name of instructor2:\", nested_dict['instructor2']['name'])\n"
   ]
  },
  {
   "cell_type": "markdown",
   "id": "9259994f",
   "metadata": {},
   "source": [
    "Solution 7-<br>\n",
    "\n",
    "\n",
    "<span style=\"font-size:0.8em;\">\n",
    "<u>setdefault()</u> method is used to create a new key in a dictionary if it doesn't already exist, and set its default value if it's not already specified. \n",
    "</span>\n"
   ]
  },
  {
   "cell_type": "code",
   "execution_count": 17,
   "id": "fb617278",
   "metadata": {},
   "outputs": [
    {
     "data": {
      "text/plain": [
       "['Python', 'Machine Learning', 'Deep Learning']"
      ]
     },
     "execution_count": 17,
     "metadata": {},
     "output_type": "execute_result"
    }
   ],
   "source": [
    "# Given dictionary\n",
    "dict1 = {'language' : 'Python', 'course': 'Data Science Masters'}\n",
    "# Using setdefault() method \n",
    "dict1.setdefault('topics', ['Python', 'Machine Learning', 'Deep Learning'])"
   ]
  },
  {
   "cell_type": "code",
   "execution_count": 18,
   "id": "445d0753",
   "metadata": {},
   "outputs": [
    {
     "name": "stdout",
     "output_type": "stream",
     "text": [
      "{'language': 'Python', 'course': 'Data Science Masters', 'topics': ['Python', 'Machine Learning', 'Deep Learning']}\n"
     ]
    }
   ],
   "source": [
    "print(dict1)"
   ]
  },
  {
   "cell_type": "markdown",
   "id": "1e816d57",
   "metadata": {},
   "source": [
    "Solution 8-<br>\n",
    "\n",
    "<span style=\"font-size:0.8em;\">\n",
    "In Python, dictionaries have three view objects:\n",
    "\n",
    "1.dict_keys: This represents a view of all keys in the dictionary.<br>\n",
    "2.dict_values: This represents a view of all values in the dictionary.<br>\n",
    "3.dict_items: This represents a view of all key-value pairs in the dictionary as tuples.<br>\n",
    "</span>\n",
    "\n"
   ]
  },
  {
   "cell_type": "code",
   "execution_count": 19,
   "id": "38088bcd",
   "metadata": {},
   "outputs": [],
   "source": [
    "# Given dictionary\n",
    "dict1 = {'Sport': 'Cricket', 'Teams': ['India', 'Australia', 'England', 'South Africa', 'Sri Lanka', 'New Zealand']}"
   ]
  },
  {
   "cell_type": "code",
   "execution_count": 20,
   "id": "1e9c1d64",
   "metadata": {},
   "outputs": [
    {
     "name": "stdout",
     "output_type": "stream",
     "text": [
      "dict_keys: dict_keys(['Sport', 'Teams'])\n"
     ]
    }
   ],
   "source": [
    "# Displaying dict_keys\n",
    "keys_view = dict1.keys()\n",
    "print(\"dict_keys:\", keys_view)"
   ]
  },
  {
   "cell_type": "code",
   "execution_count": 21,
   "id": "4f2789cc",
   "metadata": {},
   "outputs": [
    {
     "name": "stdout",
     "output_type": "stream",
     "text": [
      "dict_values: dict_values(['Cricket', ['India', 'Australia', 'England', 'South Africa', 'Sri Lanka', 'New Zealand']])\n"
     ]
    }
   ],
   "source": [
    "# Displaying dict_values\n",
    "values_view = dict1.values()\n",
    "print(\"dict_values:\", values_view)\n"
   ]
  },
  {
   "cell_type": "code",
   "execution_count": 22,
   "id": "0abab3e5",
   "metadata": {},
   "outputs": [
    {
     "name": "stdout",
     "output_type": "stream",
     "text": [
      "dict_items: dict_items([('Sport', 'Cricket'), ('Teams', ['India', 'Australia', 'England', 'South Africa', 'Sri Lanka', 'New Zealand'])])\n"
     ]
    }
   ],
   "source": [
    "# Displaying dict_items\n",
    "items_view = dict1.items()\n",
    "print(\"dict_items:\", items_view)"
   ]
  },
  {
   "cell_type": "code",
   "execution_count": null,
   "id": "88752a39",
   "metadata": {},
   "outputs": [],
   "source": []
  },
  {
   "cell_type": "code",
   "execution_count": null,
   "id": "cc9f1693",
   "metadata": {},
   "outputs": [],
   "source": []
  }
 ],
 "metadata": {
  "kernelspec": {
   "display_name": "Python 3 (ipykernel)",
   "language": "python",
   "name": "python3"
  },
  "language_info": {
   "codemirror_mode": {
    "name": "ipython",
    "version": 3
   },
   "file_extension": ".py",
   "mimetype": "text/x-python",
   "name": "python",
   "nbconvert_exporter": "python",
   "pygments_lexer": "ipython3",
   "version": "3.10.9"
  }
 },
 "nbformat": 4,
 "nbformat_minor": 5
}
