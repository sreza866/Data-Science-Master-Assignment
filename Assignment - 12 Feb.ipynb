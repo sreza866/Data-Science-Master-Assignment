{
 "cells": [
  {
   "cell_type": "code",
   "execution_count": 1,
   "id": "1130b18b",
   "metadata": {},
   "outputs": [],
   "source": [
    "# Q1. What is an Exception in python? Write the difference between Exceptions and Syntax errors"
   ]
  },
  {
   "cell_type": "markdown",
   "id": "8b8f8018",
   "metadata": {},
   "source": [
    "### Solution 1-\n",
    "<span style = 'font-size:0.8em;'>\n",
    "In Python, an exception is an event that occurs during the execution of a program that disrupts the normal flow of instructions. When an error occurs, Python generates an exception, which can be caught and handled by the program if appropriate measures are taken. Exceptions are typically caused by errors in the code or unexpected conditions at runtime.<br>\n",
    "    \n",
    "Here's the key differences between Exceptions and Syntax errors:-<br>\n",
    "\n",
    "<b>Exceptions:<br></b>\n",
    "\n",
    "Exceptions occur during the execution of a program.<br>\n",
    "They disrupt the normal flow of the program when something unexpected happens.<br>\n",
    "Examples of exceptions include division by zero, accessing a non-existent file, or trying to perform an operation on incompatible data types.\n",
    "Exceptions can be caught and handled using try-except blocks.<br>\n",
    "\n",
    "<b>Syntax Errors:<br></b>\n",
    "\n",
    "Syntax errors occur during the parsing of code, i.e., when Python interpreter is trying to understand the code.<br>\n",
    "They occur when the code violates the rules of Python syntax.<br>\n",
    "Syntax errors prevent the program from being executed and must be fixed before running the program.<br>\n",
    "Examples of syntax errors include missing colons at the end of statements, mismatched parentheses, or misspelled keywords.\n",
    "</span>"
   ]
  },
  {
   "cell_type": "code",
   "execution_count": 2,
   "id": "a47da4c8",
   "metadata": {},
   "outputs": [],
   "source": [
    "# Q2. What happens when an exception is not handled? Explain with an example"
   ]
  },
  {
   "cell_type": "markdown",
   "id": "74c3a99e",
   "metadata": {},
   "source": [
    "### Solution 2-\n",
    "<span style = 'font-size:0.8em;'>\n",
    "When an exception is not handled, it propagates up the call stack until it either encounters a handler or reaches the top level of the program. If an exception reaches the top level without being handled, it typically results in the program terminating abruptly and displaying an error message or stack trace.\n",
    "<span>"
   ]
  },
  {
   "cell_type": "code",
   "execution_count": 3,
   "id": "f0cd94d3",
   "metadata": {},
   "outputs": [
    {
     "ename": "ValueError",
     "evalue": "invalid literal for int() with base 10: 'abc'",
     "output_type": "error",
     "traceback": [
      "\u001b[1;31m---------------------------------------------------------------------------\u001b[0m",
      "\u001b[1;31mValueError\u001b[0m                                Traceback (most recent call last)",
      "Cell \u001b[1;32mIn[3], line 6\u001b[0m\n\u001b[0;32m      3\u001b[0m     \u001b[38;5;28;01mreturn\u001b[39;00m \u001b[38;5;28mint\u001b[39m(s)\n\u001b[0;32m      5\u001b[0m \u001b[38;5;28;01mtry\u001b[39;00m:\n\u001b[1;32m----> 6\u001b[0m     result \u001b[38;5;241m=\u001b[39m \u001b[43mconvert_to_int\u001b[49m\u001b[43m(\u001b[49m\u001b[38;5;124;43m\"\u001b[39;49m\u001b[38;5;124;43mabc\u001b[39;49m\u001b[38;5;124;43m\"\u001b[39;49m\u001b[43m)\u001b[49m  \u001b[38;5;66;03m# This will raise a ValueError\u001b[39;00m\n\u001b[0;32m      7\u001b[0m     \u001b[38;5;28mprint\u001b[39m(\u001b[38;5;124m\"\u001b[39m\u001b[38;5;124mResult is:\u001b[39m\u001b[38;5;124m\"\u001b[39m, result)  \u001b[38;5;66;03m# This line will not execute\u001b[39;00m\n\u001b[0;32m      8\u001b[0m \u001b[38;5;28;01mexcept\u001b[39;00m \u001b[38;5;167;01mZeroDivisionError\u001b[39;00m:\n",
      "Cell \u001b[1;32mIn[3], line 3\u001b[0m, in \u001b[0;36mconvert_to_int\u001b[1;34m(s)\u001b[0m\n\u001b[0;32m      2\u001b[0m \u001b[38;5;28;01mdef\u001b[39;00m \u001b[38;5;21mconvert_to_int\u001b[39m(s):\n\u001b[1;32m----> 3\u001b[0m     \u001b[38;5;28;01mreturn\u001b[39;00m \u001b[38;5;28;43mint\u001b[39;49m\u001b[43m(\u001b[49m\u001b[43ms\u001b[49m\u001b[43m)\u001b[49m\n",
      "\u001b[1;31mValueError\u001b[0m: invalid literal for int() with base 10: 'abc'"
     ]
    }
   ],
   "source": [
    "# Example\n",
    "def convert_to_int(s):\n",
    "    return int(s)\n",
    "\n",
    "try:\n",
    "    result = convert_to_int(\"abc\")  # This will raise a ValueError\n",
    "    print(\"Result is:\", result)  # This line will not execute\n",
    "except ZeroDivisionError:\n",
    "    print(\"Caught a ZeroDivisionError\")\n"
   ]
  },
  {
   "cell_type": "markdown",
   "id": "97eaf42c",
   "metadata": {},
   "source": [
    "<span style = 'font-size:0.8em;'>\n",
    "In this example, the convert_to_int() function attempts to convert the string \"abc\" to an integer using the int() function, which raises a ValueError because \"abc\" cannot be converted to an integer. However, the except block is looking for a ZeroDivisionError, which doesn't match the exception raised. Since there's no matching handler for ValueError, the exception propagates up to the next enclosing try statement, which doesn't exist in this case since it's the top level. Therefore, the program terminates abruptly, and you'll see a traceback indicating the ValueError.\n",
    "</span>"
   ]
  },
  {
   "cell_type": "code",
   "execution_count": 5,
   "id": "4d749e55",
   "metadata": {},
   "outputs": [
    {
     "name": "stdout",
     "output_type": "stream",
     "text": [
      "Caught a ValueError\n"
     ]
    }
   ],
   "source": [
    "# Example\n",
    "def convert_to_int(s):\n",
    "    return int(s)\n",
    "\n",
    "try:\n",
    "    result = convert_to_int(\"abc\")  # This will raise a ValueError\n",
    "    print(\"Result is:\", result)  # This line will not execute\n",
    "except ValueError:\n",
    "    print(\"Caught a ValueError\")"
   ]
  },
  {
   "cell_type": "code",
   "execution_count": 6,
   "id": "e9e4982c",
   "metadata": {},
   "outputs": [],
   "source": [
    "# Q3. Which Python statements are used to catch and handle exceptions? Explain with an example"
   ]
  },
  {
   "cell_type": "markdown",
   "id": "1a31e18b",
   "metadata": {},
   "source": [
    "### Solution 3-\n",
    "<span style = 'font-size:0.8em;'>\n",
    "In Python, the try, except, else, and finally statements are used to catch and handle exceptions.<br>\n",
    "\n",
    "<b>try</b>: The try block is used to enclose the code that may potentially raise an exception.<br>\n",
    "<b>except</b>: The except block is used to handle specific exceptions that occur within the try block. You can have multiple except blocks to handle different types of exceptions.<br>\n",
    "<b>else</b>: The else block is optional and is executed if no exceptions occur in the try block.<br>\n",
    "<b>finally</b>: The finally block is optional and is always executed, regardless of whether an exception occurs or not. It's typically used for cleanup operations."
   ]
  },
  {
   "cell_type": "code",
   "execution_count": 7,
   "id": "6f5f4fa0",
   "metadata": {},
   "outputs": [
    {
     "name": "stdout",
     "output_type": "stream",
     "text": [
      "Result is: 5.0\n",
      "This is always executed, regardless of whether an exception occurred.\n",
      "Cannot divide by zero!\n",
      "This is always executed, regardless of whether an exception occurred.\n"
     ]
    }
   ],
   "source": [
    "# Example\n",
    "def divide(a, b):\n",
    "    try:\n",
    "        result = a / b\n",
    "    except ZeroDivisionError:\n",
    "        print(\"Cannot divide by zero!\")\n",
    "    else:\n",
    "        print(\"Result is:\", result)\n",
    "    finally:\n",
    "        print(\"This is always executed, regardless of whether an exception occurred.\")\n",
    "\n",
    "\n",
    "divide(10, 2)  \n",
    "divide(10, 0)  \n"
   ]
  },
  {
   "cell_type": "markdown",
   "id": "ea08fd8d",
   "metadata": {},
   "source": [
    "<span style = 'font-size:0.8em;'>\n",
    "In this example:<br>\n",
    "\n",
    "The try block attempts to perform a division operation.<br>\n",
    "If a ZeroDivisionError occurs, the except block catches it and prints a message.<br>\n",
    "If no exception occurs, the else block prints the result of the division.<br>\n",
    "Finally, the finally block is always executed, regardless of whether an exception occurred or not. It prints a message indicating that it's always executed.<br>\n",
    "</span>"
   ]
  },
  {
   "cell_type": "code",
   "execution_count": 1,
   "id": "31a15214",
   "metadata": {},
   "outputs": [],
   "source": [
    "# Q4. Explain with an example:\n",
    "\n",
    "#  a. try and else\n",
    "#  b. finally\n",
    "#  c. raise"
   ]
  },
  {
   "cell_type": "markdown",
   "id": "37f12719",
   "metadata": {},
   "source": [
    "### Solution 4-\n",
    "<span style = 'font-size:0.8em;'>\n",
    "a. try and else:\n",
    "\n",
    "The try and else blocks are used in exception handling. Code within the try block is executed, and if any exception occurs, it is caught and handled in the except block. If no exception occurs, the code within the else block is executed.\n",
    "</span>"
   ]
  },
  {
   "cell_type": "code",
   "execution_count": 2,
   "id": "e503d638",
   "metadata": {},
   "outputs": [
    {
     "name": "stdout",
     "output_type": "stream",
     "text": [
      "Enter a number: 0\n",
      "Cannot divide by zero!\n"
     ]
    }
   ],
   "source": [
    "# Example\n",
    "# In this example, if the user enters 0, a ZeroDivisionError occurs, and the message \"Cannot divide by zero!\" is printed. \n",
    "# Otherwise, the division result is printed.\n",
    "try:\n",
    "    x = int(input(\"Enter a number: \"))\n",
    "    result = 10 / x\n",
    "except ZeroDivisionError:\n",
    "    print(\"Cannot divide by zero!\")\n",
    "else:\n",
    "    print(\"Division result:\", result)"
   ]
  },
  {
   "cell_type": "markdown",
   "id": "21ec410f",
   "metadata": {},
   "source": [
    "<span style = 'font-size:0.8em;'>\n",
    "\n",
    "b. finally:\n",
    "\n",
    "The finally block is used to execute code regardless of whether an exception occurred or not. It is often used for cleanup operations like closing files or releasing resources.\n",
    "</span>"
   ]
  },
  {
   "cell_type": "code",
   "execution_count": 5,
   "id": "45c720af",
   "metadata": {},
   "outputs": [
    {
     "name": "stdout",
     "output_type": "stream",
     "text": [
      "I want to become a Data Scientist\n"
     ]
    }
   ],
   "source": [
    "# Example\n",
    "# In this example, whether an exception occurs or not, the file will always be closed after the try block is executed.\n",
    "try:\n",
    "    file = open(\"mytext.txt\", \"r\")\n",
    "    data = file.read()\n",
    "    print(data)\n",
    "    # Perform file operations\n",
    "except FileNotFoundError:\n",
    "    print(\"File not found!\")\n",
    "finally:\n",
    "    file.close()  # This will always execute, ensuring the file is closed\n"
   ]
  },
  {
   "cell_type": "markdown",
   "id": "fd3888b0",
   "metadata": {},
   "source": [
    "<span style = 'font-size:0.8em;'>\n",
    "c. raise:\n",
    "\n",
    "The raise statement is used to raise exceptions in Python. It allows programmers to force a specified exception to occur.\n",
    "</span>"
   ]
  },
  {
   "cell_type": "code",
   "execution_count": 7,
   "id": "0a348b34",
   "metadata": {},
   "outputs": [
    {
     "name": "stdout",
     "output_type": "stream",
     "text": [
      "Welcome!\n"
     ]
    }
   ],
   "source": [
    "# Example\n",
    "# In this example, the validate_age function raises a ValueError if the age is negative or less than 18. \n",
    "# Otherwise, it prints \"Welcome!\".\n",
    "def validate_age(age):\n",
    "    if age < 0:\n",
    "        raise ValueError(\"Age cannot be negative!\")\n",
    "    elif age < 18:\n",
    "        raise ValueError(\"You must be at least 18 years old.\")\n",
    "    else:\n",
    "        print(\"Welcome!\")\n",
    "validate_age(19)"
   ]
  },
  {
   "cell_type": "code",
   "execution_count": 8,
   "id": "762c4e9e",
   "metadata": {},
   "outputs": [],
   "source": [
    "# Q5. What are Custom Exceptions in python? Why do we need Custom Exceptions? Explain with an example"
   ]
  },
  {
   "cell_type": "markdown",
   "id": "8590eeea",
   "metadata": {},
   "source": [
    "### Solution 5-\n",
    "<span style = 'font-size:0.8em;'>\n",
    "Custom exceptions, also known as user-defined exceptions, are exceptions defined by the programmer to handle specific error conditions in their code. They allow developers to create their own exception hierarchy tailored to their application's needs, making error handling more expressive and meaningful.<br>\n",
    "    \n",
    "Why do we need Custom Exceptions?<br>\n",
    "    \n",
    "<i>Expressiveness</i>: Custom exceptions make the code more readable and expressive by clearly indicating the type of error being raised.<br>\n",
    "<i>Granular Error Handling</i>: They enable finer-grained error handling, allowing different parts of the code to catch specific types of errors and respond accordingly.<br>\n",
    "<i>Modularity</i>: Custom exceptions promote modularity by encapsulating error-handling logic within the components that are most familiar with the error conditions.<br>\n",
    "</span>"
   ]
  },
  {
   "cell_type": "code",
   "execution_count": 9,
   "id": "ade77034",
   "metadata": {},
   "outputs": [
    {
     "name": "stdout",
     "output_type": "stream",
     "text": [
      "Cannot calculate square root of a negative number\n"
     ]
    }
   ],
   "source": [
    "# Example\n",
    "class NegativeNumberError(Exception):\n",
    "    \"\"\"Exception raised when a negative number is encountered.\"\"\"\n",
    "    pass\n",
    "\n",
    "def square_root(num):\n",
    "    if num < 0:\n",
    "        raise NegativeNumberError(\"Cannot calculate square root of a negative number\")\n",
    "    else:\n",
    "        return num ** 0.5\n",
    "\n",
    "# Example usage:\n",
    "try:\n",
    "    result = square_root(-9)\n",
    "    print(\"Square root:\", result)\n",
    "except NegativeNumberError as e:\n",
    "    print(e)\n"
   ]
  },
  {
   "cell_type": "markdown",
   "id": "cddbbaeb",
   "metadata": {},
   "source": [
    "<span style = 'font-size:0.8em;'>\n",
    "In this example:\n",
    "\n",
    "We define a custom exception NegativeNumberError, which inherits from the base Exception class.<br>\n",
    "The square_root function calculates the square root of a number but raises a NegativeNumberError if the input number is negative.<br>\n",
    "When attempting to calculate the square root of a negative number, the NegativeNumberError exception is raised and caught in the try block.<br>\n",
    "The error message is printed, indicating that the calculation of the square root of a negative number is not allowed.<br>\n",
    "</span>"
   ]
  },
  {
   "cell_type": "code",
   "execution_count": 11,
   "id": "27204b85",
   "metadata": {},
   "outputs": [],
   "source": [
    "# Q6. Create a custom exception class. Use this ,class to handle an exception."
   ]
  },
  {
   "cell_type": "code",
   "execution_count": 23,
   "id": "0a00960f",
   "metadata": {},
   "outputs": [
    {
     "name": "stdout",
     "output_type": "stream",
     "text": [
      "Enter your age: 23\n",
      "Welcome to Data Science!\n"
     ]
    }
   ],
   "source": [
    "class validateage(Exception):\n",
    "    def __init__(self, msg):\n",
    "        self.msg = msg\n",
    "\n",
    "def validateAge(age):\n",
    "    if age < 0:\n",
    "        raise validateage(\"Age cannot be negative!\")\n",
    "    elif age < 18:\n",
    "        raise validateage(\"You must be at least 18 years old.\")\n",
    "    else:\n",
    "        print(\"Welcome to Data Science!\")\n",
    "\n",
    "try:\n",
    "    age = int(input(\"Enter your age: \"))\n",
    "    validateAge(age)\n",
    "except validateage as e:\n",
    "    print(e)\n"
   ]
  },
  {
   "cell_type": "markdown",
   "id": "4bc5f521",
   "metadata": {},
   "source": [
    "<span style = 'font-size:0.8em;'>\n",
    "In this example,<br>\n",
    "We create a custom exception class validateage inheriting from Exception.<br>\n",
    "We define a function validateAge(age) to check if the age is valid.<br>\n",
    "If the age is negative or less than 18, it raises a validateage exception with a specific message.<br>\n",
    "In the main part, we prompt the user to input their age and handle exceptions using a try-except block.<br>\n",
    "If an exception of type validateage occurs, we print the error message.<br>\n",
    "</span>"
   ]
  },
  {
   "cell_type": "code",
   "execution_count": null,
   "id": "f0e91521",
   "metadata": {},
   "outputs": [],
   "source": []
  }
 ],
 "metadata": {
  "kernelspec": {
   "display_name": "Python 3 (ipykernel)",
   "language": "python",
   "name": "python3"
  },
  "language_info": {
   "codemirror_mode": {
    "name": "ipython",
    "version": 3
   },
   "file_extension": ".py",
   "mimetype": "text/x-python",
   "name": "python",
   "nbconvert_exporter": "python",
   "pygments_lexer": "ipython3",
   "version": "3.10.9"
  }
 },
 "nbformat": 4,
 "nbformat_minor": 5
}
