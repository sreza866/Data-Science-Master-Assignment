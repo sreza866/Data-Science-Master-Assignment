{
 "cells": [
  {
   "cell_type": "markdown",
   "id": "8023c5a4",
   "metadata": {},
   "source": [
    "<small> Solution 1- </small>"
   ]
  },
  {
   "cell_type": "code",
   "execution_count": 1,
   "id": "93ac817e",
   "metadata": {},
   "outputs": [
    {
     "name": "stdout",
     "output_type": "stream",
     "text": [
      "Enter the percentage: 68\n",
      "Grade: C\n"
     ]
    }
   ],
   "source": [
    "percentage = float(input(\"Enter the percentage: \"))\n",
    "\n",
    "if percentage > 90:\n",
    "    print(\"Grade: A\")\n",
    "elif percentage > 80 and percentage <= 90:\n",
    "    print(\"Grade: B\")\n",
    "elif percentage >= 60 and percentage <= 80:\n",
    "    print(\"Grade: C\")\n",
    "else:\n",
    "    print(\"Grade: D\")\n"
   ]
  },
  {
   "cell_type": "markdown",
   "id": "d3c09da0",
   "metadata": {},
   "source": [
    "<small> Solution 2- </small>"
   ]
  },
  {
   "cell_type": "code",
   "execution_count": 2,
   "id": "267c9773",
   "metadata": {},
   "outputs": [
    {
     "name": "stdout",
     "output_type": "stream",
     "text": [
      "Enter the cost price of the bike (in Rs): 75000\n",
      "Road tax to be paid: Rs 7500.0\n"
     ]
    }
   ],
   "source": [
    "cost_price = float(input(\"Enter the cost price of the bike (in Rs): \"))\n",
    "\n",
    "if cost_price > 100000:\n",
    "    road_tax = 0.15 * cost_price\n",
    "elif cost_price > 50000 and cost_price <= 100000:\n",
    "    road_tax = 0.10 * cost_price\n",
    "else:\n",
    "    road_tax = 0.05 * cost_price\n",
    "\n",
    "print(\"Road tax to be paid: Rs\", road_tax)\n"
   ]
  },
  {
   "cell_type": "markdown",
   "id": "d83be732",
   "metadata": {},
   "source": [
    "<small> Solution 3- </small>"
   ]
  },
  {
   "cell_type": "code",
   "execution_count": 3,
   "id": "27a401df",
   "metadata": {},
   "outputs": [
    {
     "name": "stdout",
     "output_type": "stream",
     "text": [
      "Enter a city name: Delhi\n",
      "Monuments in Delhi:\n",
      "- Red Fort\n"
     ]
    }
   ],
   "source": [
    "city = input(\"Enter a city name: \")\n",
    "\n",
    "if city == \"Delhi\":\n",
    "    print(\"Monuments in Delhi:\")\n",
    "    print(\"- Red Fort\")\n",
    "elif city == \"Agra\":\n",
    "    print(\"Monuments in Agra:\")\n",
    "    print(\"- Taj Mahal\")\n",
    "elif city == \"Jaipur\":\n",
    "    print(\"Monuments in Jaipur:\")\n",
    "    print(\"- Jal Mahal\")\n",
    "else:\n",
    "    print(\"Sorry! Monuments for this city is not available right now.\")\n"
   ]
  },
  {
   "cell_type": "markdown",
   "id": "f6f12ede",
   "metadata": {},
   "source": [
    "<small> Solution 4- </small>"
   ]
  },
  {
   "cell_type": "code",
   "execution_count": 11,
   "id": "d2dfcbdb",
   "metadata": {},
   "outputs": [
    {
     "name": "stdout",
     "output_type": "stream",
     "text": [
      "Enter a number: 300\n",
      "The number can be divided 4 times before it becomes less than or equal to 10.\n"
     ]
    }
   ],
   "source": [
    "number = int(input(\"Enter a number: \"))\n",
    "count = 0\n",
    "\n",
    "while number > 10:\n",
    "    number = number/3\n",
    "    count = count+1\n",
    "\n",
    "print(\"The number can be divided\", count, \"times before it becomes less than or equal to 10.\")\n"
   ]
  },
  {
   "cell_type": "markdown",
   "id": "79883961",
   "metadata": {},
   "source": [
    "<small> Solution 5- </small><br>\n",
    "\n",
    "<span style='font-size:0.8em;'>\n",
    "The <em>while</em> loop in Python is used to repeatedly execute a block of code as long as a specified condition is <code>true</code>. It's often used when the number of iterations required isn't known before, and the loop needs to continue until a certain condition is met or becomes <code>false</code>. <br>\n",
    "\n",
    "<em>Unknown Iterations:</em> When you don't know how many times a loop should run but need to keep going until a specific condition is met, use a while loop. <br>\n",
    "\n",
    "<em>Iterating Over Unknown Length Sequences:</em> Use a while loop when looping through sequences like lists or strings without knowing their length beforehand. <br>\n",
    "\n",
    "<em>Handling Indefinite Conditions:</em> For tasks with conditions that may not have a definite endpoint, such as event-driven actions or system monitoring, a while loop is suitable.\n",
    "</span>\n"
   ]
  },
  {
   "cell_type": "code",
   "execution_count": 5,
   "id": "b105f6fb",
   "metadata": {},
   "outputs": [
    {
     "name": "stdout",
     "output_type": "stream",
     "text": [
      "1 2 3 4 5 "
     ]
    }
   ],
   "source": [
    "# Example for printing numbers using a while loop\n",
    "num = 1\n",
    "while num <= 5:\n",
    "    print(num,end=' ')\n",
    "    num += 1\n"
   ]
  },
  {
   "cell_type": "markdown",
   "id": "0d73bd74",
   "metadata": {},
   "source": [
    "<span style='font-size:0.8em;'>\n",
    "In this example, the loop starts with num equal to 1. The loop continues as long as num is less than or equal to 5. Inside the loop, the current value of num is printed, and then num is incremented by 1 in each iteration. This loop prints numbers from 1 to 5.\n",
    "</span>"
   ]
  },
  {
   "cell_type": "markdown",
   "id": "0bf84dd8",
   "metadata": {},
   "source": [
    "<small> Solution 6-</small>"
   ]
  },
  {
   "cell_type": "code",
   "execution_count": 6,
   "id": "5175ecf6",
   "metadata": {},
   "outputs": [
    {
     "name": "stdout",
     "output_type": "stream",
     "text": [
      "Pattern 1:\n",
      "1\n",
      "12\n",
      "123\n",
      "1234\n",
      "12345\n"
     ]
    }
   ],
   "source": [
    "# printing pattern 3\n",
    "print(\"Pattern 1:\")\n",
    "i = 1\n",
    "while i <= 5:\n",
    "    j = 1\n",
    "    while j <= i:\n",
    "        print(j, end=\"\")\n",
    "        j += 1\n",
    "    print()\n",
    "    i += 1"
   ]
  },
  {
   "cell_type": "code",
   "execution_count": 7,
   "id": "d9150a11",
   "metadata": {},
   "outputs": [
    {
     "name": "stdout",
     "output_type": "stream",
     "text": [
      "Pattern 2:\n",
      "*****\n",
      "****\n",
      "***\n",
      "**\n",
      "*\n"
     ]
    }
   ],
   "source": [
    "# printing pattern 2\n",
    "print(\"Pattern 2:\")\n",
    "i = 5\n",
    "while i >= 1:\n",
    "    j = 1\n",
    "    while j <= i:\n",
    "        print(\"*\", end=\"\")\n",
    "        j += 1\n",
    "    print()\n",
    "    i -= 1"
   ]
  },
  {
   "cell_type": "code",
   "execution_count": 8,
   "id": "3b0a69ba",
   "metadata": {},
   "outputs": [
    {
     "name": "stdout",
     "output_type": "stream",
     "text": [
      "Pattern 3:\n",
      "1\n",
      "22\n",
      "333\n",
      "4444\n",
      "55555\n"
     ]
    }
   ],
   "source": [
    "# printing pattern 3\n",
    "print(\"Pattern 3:\")\n",
    "i = 1\n",
    "while i <= 5:\n",
    "    j = 1\n",
    "    while j <= i:\n",
    "        print(i, end=\"\")\n",
    "        j += 1\n",
    "    print()\n",
    "    i += 1"
   ]
  },
  {
   "cell_type": "markdown",
   "id": "efe0b652",
   "metadata": {},
   "source": [
    "<span style='font-size:0.8em;'>\n",
    "Solution 7-\n",
    "</span>"
   ]
  },
  {
   "cell_type": "code",
   "execution_count": 9,
   "id": "85eac2ee",
   "metadata": {},
   "outputs": [
    {
     "name": "stdout",
     "output_type": "stream",
     "text": [
      "10 9 8 7 6 5 4 3 2 1 "
     ]
    }
   ],
   "source": [
    "# Reverse a while loop to display numbers from 10 to 1.\n",
    "num = 10\n",
    "\n",
    "while num >= 1:\n",
    "    print(num,end=\" \")\n",
    "    num -= 1\n"
   ]
  },
  {
   "cell_type": "markdown",
   "id": "96e3524c",
   "metadata": {},
   "source": [
    "<span style='font-size:0.8em;'>\n",
    "Solution 8-\n",
    "</span>"
   ]
  },
  {
   "cell_type": "code",
   "execution_count": 10,
   "id": "d2ca68a0",
   "metadata": {},
   "outputs": [
    {
     "name": "stdout",
     "output_type": "stream",
     "text": [
      "10 9 8 7 6 5 4 3 2 1 "
     ]
    }
   ],
   "source": [
    "num = 10\n",
    "while num >= 1:\n",
    "    print(num,end=\" \")\n",
    "    num -= 1\n"
   ]
  },
  {
   "cell_type": "code",
   "execution_count": null,
   "id": "8092a16e",
   "metadata": {},
   "outputs": [],
   "source": []
  }
 ],
 "metadata": {
  "kernelspec": {
   "display_name": "Python 3 (ipykernel)",
   "language": "python",
   "name": "python3"
  },
  "language_info": {
   "codemirror_mode": {
    "name": "ipython",
    "version": 3
   },
   "file_extension": ".py",
   "mimetype": "text/x-python",
   "name": "python",
   "nbconvert_exporter": "python",
   "pygments_lexer": "ipython3",
   "version": "3.10.9"
  }
 },
 "nbformat": 4,
 "nbformat_minor": 5
}
