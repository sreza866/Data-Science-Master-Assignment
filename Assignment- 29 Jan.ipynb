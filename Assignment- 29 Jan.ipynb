{
 "cells": [
  {
   "cell_type": "code",
   "execution_count": 1,
   "id": "249d963f",
   "metadata": {},
   "outputs": [],
   "source": [
    "# Q1. Who developed Python Programming Language? "
   ]
  },
  {
   "cell_type": "markdown",
   "id": "e474464c",
   "metadata": {},
   "source": [
    "<span style = 'font-size:0.8em;'>\n",
    "Solution 1-<br>\n",
    "Python was developed by Guido van Rossum, and first released on February 20, 1991.\n",
    "</span>"
   ]
  },
  {
   "cell_type": "code",
   "execution_count": 2,
   "id": "152fc68d",
   "metadata": {},
   "outputs": [],
   "source": [
    "# Q2. Which type of Programming does Python support? "
   ]
  },
  {
   "cell_type": "markdown",
   "id": "d4043ae7",
   "metadata": {},
   "source": [
    "<span style = 'font-size:0.8em;'>\n",
    "Solution 2-<br>\n",
    "Python is an interpreted programming language, which supports object-oriented, structured, and functional programming.\n",
    "</span>"
   ]
  },
  {
   "cell_type": "code",
   "execution_count": 3,
   "id": "45770222",
   "metadata": {},
   "outputs": [],
   "source": [
    "# Q3. Is Python case sensitive when dealing with identifiers? "
   ]
  },
  {
   "cell_type": "markdown",
   "id": "f707cf16",
   "metadata": {},
   "source": [
    "<span style = 'font-size:0.8em;'>\n",
    "Solution 3-<br>\n",
    "Yes,Case is always sensitive while dealing with identifiers in python.\n",
    "</span>"
   ]
  },
  {
   "cell_type": "code",
   "execution_count": 4,
   "id": "323b6bd8",
   "metadata": {},
   "outputs": [],
   "source": [
    "# Q4. What is the correct extension of the Python file? "
   ]
  },
  {
   "cell_type": "markdown",
   "id": "6cbbf02e",
   "metadata": {},
   "source": [
    "<span style = 'font-size:0.8em;'>\n",
    "Solution 4-<br>\n",
    "    <code>.py</code> is the correct extension of the Python file.\n",
    "</span>"
   ]
  },
  {
   "cell_type": "code",
   "execution_count": 5,
   "id": "02f642af",
   "metadata": {},
   "outputs": [],
   "source": [
    "# Q5. Is Python code compiled or interpreted? "
   ]
  },
  {
   "cell_type": "markdown",
   "id": "31125cc0",
   "metadata": {},
   "source": [
    "<span style = 'font-size:0.8em;'>\n",
    "Solution 5-<br>\n",
    "Python code is both compiled and interpreted\n",
    "</span>"
   ]
  },
  {
   "cell_type": "code",
   "execution_count": 6,
   "id": "497c70f7",
   "metadata": {},
   "outputs": [],
   "source": [
    "# Q6. Name a few blocks of code used to define in Python language? "
   ]
  },
  {
   "cell_type": "markdown",
   "id": "87d21dcf",
   "metadata": {},
   "source": [
    "<span style = 'font-size:0.8em;'>\n",
    "Solution 6-<br>\n",
    "In Python, code blocks are defined by indentation, rather than explicit block delimiters like braces {} in languages such as C or Java.\n",
    "</span>"
   ]
  },
  {
   "cell_type": "code",
   "execution_count": 7,
   "id": "58cc1cac",
   "metadata": {},
   "outputs": [
    {
     "name": "stdout",
     "output_type": "stream",
     "text": [
      "a is lesser than b\n"
     ]
    }
   ],
   "source": [
    "# Example\n",
    "a = 10\n",
    "b = 15\n",
    "if a<b:\n",
    "    print('a is lesser than b')          # here, if-else block is define by indentation\n",
    "else:\n",
    "    print('b is lesser than a')\n"
   ]
  },
  {
   "cell_type": "code",
   "execution_count": 8,
   "id": "1ff60ab8",
   "metadata": {},
   "outputs": [],
   "source": [
    "# Q7. State a character used to give single-line comments in Python? "
   ]
  },
  {
   "cell_type": "markdown",
   "id": "43f4653d",
   "metadata": {},
   "source": [
    "<span style = 'font-size:0.8em;'>\n",
    "Solution 7-<br>\n",
    "    To write single-line comments in Python,the Hash character <code>(#)</code> is used at the beginning of the line\n",
    "</span>"
   ]
  },
  {
   "cell_type": "code",
   "execution_count": 9,
   "id": "2993517c",
   "metadata": {},
   "outputs": [],
   "source": [
    "# Q8.Mention functions which can help us to find the version of python that we are currently working on? "
   ]
  },
  {
   "cell_type": "markdown",
   "id": "3a077470",
   "metadata": {},
   "source": [
    "<span style = 'font-size:0.8em;'>\n",
    "Solution 8-<br>\n",
    "The function <code>sys.version</code> can help us to find the version of python that we are currently working on. It also contains information on the build number and compiler used.This function also returns the current date, time, bits etc along with the version.\n",
    "</span>"
   ]
  },
  {
   "cell_type": "code",
   "execution_count": 10,
   "id": "45a8fd89",
   "metadata": {},
   "outputs": [],
   "source": [
    "# Q9. Python supports the creation of anonymous functions at runtime, using a construct called "
   ]
  },
  {
   "cell_type": "markdown",
   "id": "a6e926df",
   "metadata": {},
   "source": [
    "<span style = 'font-size:0.8em;'>\n",
    "Solution 9-<br>\n",
    "Python supports the creation of anonymous functions (i.e. functions that are not bound to a name) at runtime, using a construct called lambda. Lambda functions are restricted to a single expression. They can be used wherever normal functions can be used.\n",
    "</span>"
   ]
  },
  {
   "cell_type": "code",
   "execution_count": 11,
   "id": "ca9f9f95",
   "metadata": {},
   "outputs": [],
   "source": [
    "# Q10. What does pip stand for python?"
   ]
  },
  {
   "cell_type": "markdown",
   "id": "2f962183",
   "metadata": {},
   "source": [
    "<span style = 'font-size:0.8em;'>\n",
    "Solution 10-<br>\n",
    "pip is a package manager for python. It is also called Preferred Installer Program.\n",
    "</span>"
   ]
  },
  {
   "cell_type": "code",
   "execution_count": 12,
   "id": "ec898254",
   "metadata": {},
   "outputs": [],
   "source": [
    "# Q11. Mention a few built-in functions in python?"
   ]
  },
  {
   "cell_type": "markdown",
   "id": "84c20816",
   "metadata": {},
   "source": [
    "<span style = 'font-size:0.8em;'>\n",
    "Solution 11-<br>\n",
    "some commonly used built-in functions in Python:<br>\n",
    "    print(): Outputs the given object to the standard output.<br>\n",
    "    len(): Returns the length (the number of items) of an object.<br>\n",
    "    input(): Reads a line from input, converts it to a string (stripping a trailing newline), and returns that.<br>\n",
    "    range(): Returns a sequence of numbers, starting from 0 by default, and increments by 1 (by default), and stops before a specified number.<br>\n",
    "    type(): Returns the type of an object.<br>\n",
    "    str(), int(), float(), list(), tuple(), dict(), set(): Convert a value to a string, integer, float, list, tuple, dictionary, or set respectively.\n",
    "    sorted(): Returns a new sorted list from the items in an iterable.<br>\n",
    "    max(), min(): Returns the maximum or minimum value in an iterable.<br><br>\n",
    "These are just a few examples of built-in functions in Python. Python provides a wide range of built-in functions for various purposes, and you can also define your own functions as needed.\n",
    "\n",
    "\n",
    "\n",
    "\n",
    "\n",
    "\n",
    "    \n",
    "</span>"
   ]
  },
  {
   "cell_type": "code",
   "execution_count": 13,
   "id": "07afb52f",
   "metadata": {},
   "outputs": [],
   "source": [
    "# Q12. What is the maximum possible length of an identifier in Python? "
   ]
  },
  {
   "cell_type": "markdown",
   "id": "98b18a45",
   "metadata": {},
   "source": [
    "<span style = 'font-size:0.8em;'>\n",
    "Solution 12-<br>\n",
    "In Python, the maximum possible length of an identifier (i.e., the name of a variable, function, class, etc.) is implementation-dependent. However, according to the Python language reference, the practical limit is 255 characters.\n",
    "</span>"
   ]
  },
  {
   "cell_type": "code",
   "execution_count": 14,
   "id": "a60ffa15",
   "metadata": {},
   "outputs": [],
   "source": [
    "# Q13. What are the benefits of using Python? "
   ]
  },
  {
   "cell_type": "markdown",
   "id": "4c0e8fdb",
   "metadata": {},
   "source": [
    "<span style = 'font-size:0.8em;'>\n",
    "Solution 13-<br>\n",
    "There are several key benefits of using Python:<br><br>\n",
    "1. <i>Readability</i>: Clear and understandable syntax.<br>\n",
    "2. <i>Extensive Library</i>: Vast standard library for diverse tasks.<br>\n",
    "3. <i>Portability</i>: Runs on multiple platforms without modifications.<br>\n",
    "4. <i>Interpreted</i>: Code executes directly without compilation.<br>\n",
    "5. <i>Dynamic Typing</i>: Simplifies variable handling.<br>\n",
    "6. <i>Community</i>: Large and active developer community.<br>\n",
    "7. <i>Versatility</i>: Supports various programming paradigms.<br>\n",
    "8. <i>Scalability</i>: Suitable for projects of any size.<br>\n",
    "</span>"
   ]
  },
  {
   "cell_type": "code",
   "execution_count": 15,
   "id": "e13a2362",
   "metadata": {},
   "outputs": [],
   "source": [
    "# Q14. How is memory managed in Python? "
   ]
  },
  {
   "cell_type": "markdown",
   "id": "76643878",
   "metadata": {},
   "source": [
    "<span style='font-size:0.8em;'>\n",
    "    Solution 14-<br>\n",
    "    <ul>\n",
    "        <li>Python makes use of automatic memory management through garbage collection.</li>\n",
    "        <li>The garbage collector keeps track of objects and frees memory when they are no longer in use.</li>\n",
    "        <li>Python uses reference counting to manage memory, incrementing and decrementing reference counts as needed.</li>\n",
    "        <li>A cyclic garbage collector handles objects with circular references.</li>\n",
    "        <li>Python also provides tools like context managers and the “with” statement to release resources automatically.</li>\n",
    "        <li>Python’s memory management simplifies coding by handling memory allocation and deallocation automatically.</li>\n",
    "    </ul>\n",
    "</span>\n"
   ]
  },
  {
   "cell_type": "code",
   "execution_count": 16,
   "id": "a0aa1052",
   "metadata": {},
   "outputs": [],
   "source": [
    "# 15. How to install Python on Windows and set path variables?"
   ]
  },
  {
   "cell_type": "markdown",
   "id": "5c4ac0bb",
   "metadata": {},
   "source": [
    "<span style='font-size:0.8em;'>\n",
    "Solution 15 - <br></span>\n",
    "\n",
    "<span style='font-size:0.8em;'>\n",
    "\n",
    "- **Add Python to PATH:**\n",
    "  - On the installation type screen, make sure to check the box that says \"Add Python [version] to PATH.\" This will automatically set up the necessary environment variables to access Python from the command line.\n",
    "\n",
    "- **Set PATH Variables (if not added):**\n",
    "  1. Right-click on \"This PC\" or \"My Computer\" and select \"Properties.\"\n",
    "  2. Click on \"Advanced system settings\" on the left sidebar.\n",
    "  3. Click on the \"Environment Variables\" button.\n",
    "  4. Under \"System variables,\" find the \"Path\" variable and select it. Click \"Edit...\"\n",
    "  5. Add the path to your Python installation directory (e.g., `C:\\Python39`) to the list of paths. Make sure to separate it from existing paths with a semicolon (`;`).\n",
    "  6. Click \"OK\" to save the changes.\n",
    "\n",
    "- **Verify PATH Configuration:**\n",
    "  - Open a new command prompt and type `python --version` again to ensure that Python is now accessible from any directory.\n",
    "</span>\n"
   ]
  },
  {
   "cell_type": "code",
   "execution_count": 17,
   "id": "41b59072",
   "metadata": {},
   "outputs": [],
   "source": [
    "# Q16. Is indentation required in python? "
   ]
  },
  {
   "cell_type": "markdown",
   "id": "3c896055",
   "metadata": {},
   "source": [
    "<span style='font-size:0.8em;'>\n",
    "Solution 15 - <br>\n",
    "Yes, indentation is required in Python. In Python, indentation is used to define the structure and scope of code blocks.. Unlike many other programming languages that use braces {} or keywords like begin and end to delimit code blocks, Python uses indentation to indicate which statements belong to which block.\n",
    "</span>"
   ]
  },
  {
   "cell_type": "code",
   "execution_count": null,
   "id": "c66cecf9",
   "metadata": {},
   "outputs": [],
   "source": []
  }
 ],
 "metadata": {
  "kernelspec": {
   "display_name": "Python 3 (ipykernel)",
   "language": "python",
   "name": "python3"
  },
  "language_info": {
   "codemirror_mode": {
    "name": "ipython",
    "version": 3
   },
   "file_extension": ".py",
   "mimetype": "text/x-python",
   "name": "python",
   "nbconvert_exporter": "python",
   "pygments_lexer": "ipython3",
   "version": "3.10.9"
  }
 },
 "nbformat": 4,
 "nbformat_minor": 5
}
