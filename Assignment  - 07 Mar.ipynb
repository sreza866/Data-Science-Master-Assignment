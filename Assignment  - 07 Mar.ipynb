{
 "cells": [
  {
   "cell_type": "code",
   "execution_count": 1,
   "id": "35509c8a",
   "metadata": {},
   "outputs": [],
   "source": [
    "# Q1. What are the three measures of central tendency?"
   ]
  },
  {
   "cell_type": "markdown",
   "id": "768a842c",
   "metadata": {},
   "source": [
    "### Solution 1-"
   ]
  },
  {
   "cell_type": "markdown",
   "id": "2a3c5626",
   "metadata": {},
   "source": [
    "<span style = 'font-size:0.8em;'>\n",
    "    \n",
    "The three measures of central tendency are:\n",
    "\n",
    "1. **Mean**: The arithmetic average of a set of values, calculated by adding all the values together and then dividing by the number of values.\n",
    "\n",
    "2. **Median**: The middle value in a data set when the values are arranged in ascending or descending order. If the data set has an even number of values, the median is the average of the two middle values.\n",
    "\n",
    "3. **Mode**: The value that appears most frequently in a data set. A set of data may have one mode, more than one mode, or no mode at all if no number repeats.\n",
    "</span>"
   ]
  },
  {
   "cell_type": "code",
   "execution_count": 2,
   "id": "f096344a",
   "metadata": {},
   "outputs": [],
   "source": [
    "# Q2. What is the difference between the mean, median, and mode? How are they used to measure the\n",
    "# central tendency of a dataset?"
   ]
  },
  {
   "cell_type": "markdown",
   "id": "8db7e090",
   "metadata": {},
   "source": [
    "### Solution 2-"
   ]
  },
  {
   "cell_type": "markdown",
   "id": "c9b1471a",
   "metadata": {},
   "source": [
    "<span style = 'font-size:0.8em;'>\n",
    "\n",
    "The mean, median, and mode are all measures of central tendency, but they describe different aspects of a dataset's distribution and can yield different insights:\n",
    "\n",
    "1. **Mean**:\n",
    "   - **Definition**: The arithmetic average of all the values in a dataset.\n",
    "   - **Calculation**: Sum of all values divided by the number of values.\n",
    "   - **Usage**: The mean is useful for datasets without extreme outliers because it incorporates all data points. It provides a general idea of the dataset's overall level.\n",
    "   - **Example**: For the dataset {2, 3, 5, 7, 11}, the mean is (2 + 3 + 5 + 7 + 11) / 5 = 5.6.\n",
    "\n",
    "2. **Median**:\n",
    "   - **Definition**: The middle value in a dataset when the values are arranged in ascending or descending order.\n",
    "   - **Calculation**: If the dataset has an odd number of values, the median is the middle one. If even, it is the average of the two middle values.\n",
    "   - **Usage**: The median is useful for skewed distributions or datasets with outliers, as it is not affected by extreme values. It represents the central position in the dataset.\n",
    "   - **Example**: For the dataset {2, 3, 5, 7, 11}, the median is 5. For {2, 3, 5, 7, 11, 13}, the median is (5 + 7) / 2 = 6.\n",
    "\n",
    "3. **Mode**:\n",
    "   - **Definition**: The value that occurs most frequently in a dataset.\n",
    "   - **Calculation**: Identified by finding the value(s) with the highest frequency.\n",
    "   - **Usage**: The mode is useful for categorical data to identify the most common category. It can also indicate the most frequent occurrence in numerical data.\n",
    "   - **Example**: For the dataset {2, 3, 5, 5, 7, 11}, the mode is 5. In {2, 3, 3, 5, 5, 7, 11}, both 3 and 5 are modes (bimodal).\n",
    "\n",
    "**Differences**:\n",
    "- **Mean** considers all values and can be skewed by outliers.\n",
    "- **Median** provides the middle point and is not affected by outliers.\n",
    "- **Mode** identifies the most frequent value and can highlight the most common category or value in the dataset.\n",
    "\n",
    "Each measure is used based on the context and nature of the data:\n",
    "- **Mean** for symmetric distributions without outliers.\n",
    "- **Median** for skewed distributions or when outliers are present.\n",
    "- **Mode** for categorical data or to identify the most common value in numerical data.\n",
    "</span>"
   ]
  },
  {
   "cell_type": "code",
   "execution_count": 3,
   "id": "141c0791",
   "metadata": {},
   "outputs": [],
   "source": [
    "# Q3. Measure the three measures of central tendency for the given height data:\n",
    "# [178,177,176,177,178.2,178,175,179,180,175,178.9,176.2,177,172.5,178,176.5]"
   ]
  },
  {
   "cell_type": "markdown",
   "id": "0292f550",
   "metadata": {},
   "source": [
    "### Solution 3-"
   ]
  },
  {
   "cell_type": "code",
   "execution_count": 4,
   "id": "5b20d14c",
   "metadata": {},
   "outputs": [],
   "source": [
    "import numpy as np\n",
    "import statistics as stats"
   ]
  },
  {
   "cell_type": "code",
   "execution_count": 5,
   "id": "b9fa0f78",
   "metadata": {},
   "outputs": [],
   "source": [
    "heights = [178,177,176,177,178.2,178,175,179,180,175,178.9,176.2,177,172.5,178,176.5]"
   ]
  },
  {
   "cell_type": "code",
   "execution_count": 6,
   "id": "5ce00d00",
   "metadata": {},
   "outputs": [
    {
     "data": {
      "text/plain": [
       "177.01875"
      ]
     },
     "execution_count": 6,
     "metadata": {},
     "output_type": "execute_result"
    }
   ],
   "source": [
    "np.mean(heights)"
   ]
  },
  {
   "cell_type": "code",
   "execution_count": 7,
   "id": "52546753",
   "metadata": {},
   "outputs": [
    {
     "data": {
      "text/plain": [
       "177.0"
      ]
     },
     "execution_count": 7,
     "metadata": {},
     "output_type": "execute_result"
    }
   ],
   "source": [
    "np.median(heights)"
   ]
  },
  {
   "cell_type": "code",
   "execution_count": 8,
   "id": "32536b6e",
   "metadata": {},
   "outputs": [
    {
     "data": {
      "text/plain": [
       "178"
      ]
     },
     "execution_count": 8,
     "metadata": {},
     "output_type": "execute_result"
    }
   ],
   "source": [
    "stats.mode(heights)"
   ]
  },
  {
   "cell_type": "code",
   "execution_count": 9,
   "id": "3ec15bd5",
   "metadata": {},
   "outputs": [],
   "source": [
    "# Q4. Find the standard deviation for the given data:\n",
    "# [178,177,176,177,178.2,178,175,179,180,175,178.9,176.2,177,172.5,178,176.5]"
   ]
  },
  {
   "cell_type": "markdown",
   "id": "b06bf641",
   "metadata": {},
   "source": [
    "### Solution 4-"
   ]
  },
  {
   "cell_type": "code",
   "execution_count": 10,
   "id": "e03b3e37",
   "metadata": {},
   "outputs": [],
   "source": [
    "heights = [178,177,176,177,178.2,178,175,179,180,175,178.9,176.2,177,172.5,178,176.5]"
   ]
  },
  {
   "cell_type": "code",
   "execution_count": 11,
   "id": "381e6271",
   "metadata": {},
   "outputs": [
    {
     "data": {
      "text/plain": [
       "1.7885814036548633"
      ]
     },
     "execution_count": 11,
     "metadata": {},
     "output_type": "execute_result"
    }
   ],
   "source": [
    "np.std(heights)"
   ]
  },
  {
   "cell_type": "code",
   "execution_count": 12,
   "id": "d53a8726",
   "metadata": {},
   "outputs": [],
   "source": [
    "# Q5. How are measures of dispersion such as range, variance, and standard deviation used to describe\n",
    "# the spread of a dataset? Provide an example."
   ]
  },
  {
   "cell_type": "markdown",
   "id": "37de5825",
   "metadata": {},
   "source": [
    "### Solution 5-"
   ]
  },
  {
   "cell_type": "markdown",
   "id": "61469986",
   "metadata": {},
   "source": [
    "<span style = 'font-size:0.8em;'>\n",
    "\n",
    "Measures of dispersion such as range, variance, and standard deviation provide insights into the spread or variability of a dataset.\n",
    "\n",
    "1. **Range**:\n",
    "   - **Definition**: The difference between the highest and lowest values in a dataset.\n",
    "   - **Calculation**: Range = Maximum value - Minimum value.\n",
    "   - **Usage**: The range gives a quick sense of the spread of the data but is sensitive to outliers.\n",
    "   - **Example**: For the dataset {2, 3, 5, 7, 11}, the range is 11 - 2 = 9.\n",
    "\n",
    "2. **Variance**:\n",
    "   - **Definition**: The average of the squared differences between each data point and the mean of the dataset.\n",
    "   - **Calculation**: \n",
    "     - For a population: \\(\\sigma^2 = \\frac{\\sum (x_i - \\mu)^2}{N}\\)\n",
    "     - For a sample: \\(s^2 = \\frac{\\sum (x_i - \\bar{x})^2}{n-1}\\)\n",
    "     - Where \\(x_i\\) is each value, \\(\\mu\\) is the population mean, \\(\\bar{x}\\) is the sample mean, \\(N\\) is the population size, and \\(n\\) is the sample size.\n",
    "   - **Usage**: Variance provides a measure of how spread out the values are around the mean. It is useful in statistical and financial analysis but can be hard to interpret because it is in squared units.\n",
    "   - **Example**: For the dataset {2, 3, 5, 7, 11}, the mean is 5.6. The variance (sample) is \\(\\frac{(2-5.6)^2 + (3-5.6)^2 + (5-5.6)^2 + (7-5.6)^2 + (11-5.6)^2}{4} = 11.3\\).\n",
    "\n",
    "3. **Standard Deviation**:\n",
    "   - **Definition**: The square root of the variance, representing the average distance of each data point from the mean.\n",
    "   - **Calculation**: \n",
    "     - For a population: \\(\\sigma = \\sqrt{\\sigma^2}\\)\n",
    "     - For a sample: \\(s = \\sqrt{s^2}\\)\n",
    "   - **Usage**: Standard deviation is widely used because it is in the same units as the data, making it easier to interpret. It provides a measure of the typical deviation from the mean.\n",
    "   - **Example**: For the dataset {2, 3, 5, 7, 11}, using the sample variance calculated earlier (11.3), the standard deviation is \\(\\sqrt{11.3} \\approx 3.36\\).\n",
    "\n",
    "**Example in context**:\n",
    "Consider the dataset {2, 3, 5, 7, 11}.\n",
    "\n",
    "- **Range**: \n",
    "  - Calculation: 11 - 2 = 9\n",
    "  - Interpretation: The data spans 9 units from the smallest to the largest value.\n",
    "\n",
    "- **Variance (sample)**: \n",
    "  - Calculation: \\(\\frac{(2-5.6)^2 + (3-5.6)^2 + (5-5.6)^2 + (7-5.6)^2 + (11-5.6)^2}{4} = 11.3\\)\n",
    "  - Interpretation: On average, the squared differences from the mean are 11.3 units squared.\n",
    "\n",
    "- **Standard Deviation (sample)**:\n",
    "  - Calculation: \\(\\sqrt{11.3} \\approx 3.36\\)\n",
    "  - Interpretation: On average, the values deviate from the mean by about 3.36 units.\n",
    "\n",
    "These measures help to understand the variability in the dataset. While the mean provides a central value, the range, variance, and standard deviation reveal how much the data points spread out around the mean.\n",
    "</span>"
   ]
  },
  {
   "cell_type": "code",
   "execution_count": 13,
   "id": "dffb3076",
   "metadata": {},
   "outputs": [],
   "source": [
    "# Q6. What is a Venn diagram?"
   ]
  },
  {
   "cell_type": "markdown",
   "id": "17cd6e47",
   "metadata": {},
   "source": [
    "### Solution 6-"
   ]
  },
  {
   "cell_type": "markdown",
   "id": "f3a71aef",
   "metadata": {},
   "source": [
    "<span style = 'font-size:0.8em;'>\n",
    "\n",
    "A Venn diagram is a visual tool used to illustrate the relationships between different sets. It consists of overlapping circles, each representing a set, and the areas where the circles overlap represent the common elements between those sets. Venn diagrams are particularly useful for showing all possible logical relationships between a finite collection of sets.\n",
    "\n",
    "**Components of a Venn Diagram**:\n",
    "- **Circles or Ellipses**: Each circle or ellipse represents a set.\n",
    "- **Overlapping Areas**: The areas where circles overlap represent the intersection of the sets, showing elements that are common to multiple sets.\n",
    "- **Non-Overlapping Areas**: Parts of the circles that do not overlap show elements that are unique to each set.\n",
    "- **Universal Set**: Sometimes, a rectangle is used to represent the universal set, which contains all possible elements under consideration.\n",
    "\n",
    "**Usage**:\n",
    "- **Set Operations**: Venn diagrams visually represent operations like union (all elements in any of the sets), intersection (elements common to all sets), and difference (elements in one set but not another).\n",
    "- **Problem Solving**: They help in solving problems related to probability, logic, statistics, and computer science.\n",
    "- **Logical Relationships**: They illustrate logical relationships in various fields such as mathematics, linguistics, and business.\n",
    "\n",
    "**Example**:\n",
    "Consider two sets, A and B:\n",
    "- Set A = {1, 2, 3}\n",
    "- Set B = {3, 4, 5}\n",
    "\n",
    "A Venn diagram for these sets would have two overlapping circles:\n",
    "- The circle for Set A includes the numbers 1, 2, and 3.\n",
    "- The circle for Set B includes the numbers 3, 4, and 5.\n",
    "- The overlapping area (intersection) includes the number 3, which is common to both sets.\n",
    "\n",
    "</span>"
   ]
  },
  {
   "cell_type": "code",
   "execution_count": 14,
   "id": "a098d65a",
   "metadata": {},
   "outputs": [],
   "source": [
    "# Q7. For the two given sets A = (2,3,4,5,6,7) & B = (0,2,6,8,10). Find:\n",
    "# (i) A ∩ B\n",
    "# (ii) A ⋃ B"
   ]
  },
  {
   "cell_type": "markdown",
   "id": "b88ff70e",
   "metadata": {},
   "source": [
    "### Solution 7-"
   ]
  },
  {
   "cell_type": "markdown",
   "id": "0bd92c48",
   "metadata": {},
   "source": [
    "<span style = 'font-size:0.8em;'>\n",
    "\n",
    "A = (2,3,4,5,6,7)\n",
    "B = (0,2,6,8,10)\n",
    "\n",
    "(i) A ∩ B = (2,6)\n",
    "    \n",
    "(ii) A U B = (0,2,3,4,5,6,7,8,10)\n",
    "</span>"
   ]
  },
  {
   "cell_type": "code",
   "execution_count": 15,
   "id": "1294d234",
   "metadata": {},
   "outputs": [],
   "source": [
    "# Q8. What do you understand about skewness in data?"
   ]
  },
  {
   "cell_type": "markdown",
   "id": "abf1641a",
   "metadata": {},
   "source": [
    "### Solution 8-"
   ]
  },
  {
   "cell_type": "markdown",
   "id": "9dee82d9",
   "metadata": {},
   "source": [
    "<span style = 'font-size:0.8em;'>\n",
    "\n",
    "\n",
    "Skewness in data refers to the measure of asymmetry or distortion from the symmetrical bell curve (normal distribution) in a dataset. It indicates the direction and relative magnitude of the data's deviation from the normal distribution.\n",
    "\n",
    "### Types of Skewness:\n",
    "\n",
    "1. **Positive Skewness (Right Skewness)**:\n",
    "   - **Definition**: When the tail on the right side of the distribution is longer or fatter than the left side.\n",
    "   - **Characteristics**: The mean is greater than the median, and the mode is less than the median. Most data points are concentrated on the left, with a few larger values stretching to the right.\n",
    "   - **Example**: Income distribution in many populations, where most people earn lower incomes and fewer people earn very high incomes.\n",
    "\n",
    "2. **Negative Skewness (Left Skewness)**:\n",
    "   - **Definition**: When the tail on the left side of the distribution is longer or fatter than the right side.\n",
    "   - **Characteristics**: The mean is less than the median, and the mode is greater than the median. Most data points are concentrated on the right, with a few smaller values stretching to the left.\n",
    "   - **Example**: Age at retirement, where most people retire at older ages, with fewer retiring very early.\n",
    "\n",
    "3. **No Skewness (Symmetrical Distribution)**:\n",
    "   - **Definition**: When the distribution is symmetrical, with no skewness.\n",
    "   - **Characteristics**: The mean, median, and mode are all equal, and the distribution looks like a mirror image on both sides of the center.\n",
    "   - **Example**: Heights of adult men in a specific population, assuming a normal distribution.\n",
    "\n",
    "### Measuring Skewness:\n",
    "- **Skewness Coefficient**: A statistical measure that quantifies the degree of skewness in a dataset. It is typically calculated using the third standardized moment about the mean.\n",
    "  - A skewness value of 0 indicates a perfectly symmetrical distribution.\n",
    "  - A positive skewness value indicates right skewness.\n",
    "  - A negative skewness value indicates left skewness.\n",
    "\n",
    "### Interpretation:\n",
    "- **Impact on Central Tendency**: Skewness affects the relationship between the mean, median, and mode. In positively skewed distributions, the mean is pulled to the right of the median. In negatively skewed distributions, the mean is pulled to the left of the median.\n",
    "- **Real-World Implications**: Understanding skewness is crucial in fields like finance, quality control, and any area involving data analysis, as it affects the interpretation of the data and the application of statistical methods.\n",
    "\n",
    "### Example:\n",
    "Consider two datasets:\n",
    "\n",
    "- **Positively Skewed**: \\[3, 4, 5, 6, 7, 100\\]\n",
    "  - The mean is significantly higher than the median due to the outlier (100).\n",
    "\n",
    "- **Negatively Skewed**: \\[-100, 1, 2, 3, 4, 5\\]\n",
    "  - The mean is significantly lower than the median due to the outlier (-100).\n",
    "\n",
    "</span>"
   ]
  },
  {
   "cell_type": "code",
   "execution_count": 17,
   "id": "94267dd5",
   "metadata": {},
   "outputs": [],
   "source": [
    "# Q9. If a data is right skewed then what will be the position of median with respect to mean?"
   ]
  },
  {
   "cell_type": "markdown",
   "id": "86f20c14",
   "metadata": {},
   "source": [
    "### Solution 9-"
   ]
  },
  {
   "cell_type": "markdown",
   "id": "32cb4318",
   "metadata": {},
   "source": [
    "<span style = 'font-size:0.8em;'>\n",
    "\n",
    "If a dataset is right skewed (positively skewed), the distribution has a longer tail on the right side. In this case, the position of the median with respect to the mean is typically as follows:\n",
    "\n",
    "- The **mean** will be **greater than** the **median**.\n",
    "\n",
    "This happens because the mean is affected by the extreme values (outliers) in the long right tail, pulling it to the right. The median, being the middle value, is less affected by these extreme values and remains closer to the bulk of the data.\n",
    "\n",
    "In a right-skewed distribution:\n",
    "```\n",
    "       |------|---|------|\n",
    "       Mode  Median  Mean\n",
    "```\n",
    "The mode is the highest peak of the distribution, the median is the middle value, and the mean is pulled towards the right tail.\n",
    "\n",
    "### Example:\n",
    "Consider the dataset: \\[2, 3, 5, 8, 50\\]\n",
    "\n",
    "- **Mean**: \\(\\frac{2 + 3 + 5 + 8 + 50}{5} = 13.6\\)\n",
    "- **Median**: The middle value when the data is sorted: \\[2, 3, 5, 8, 50\\] is 5.\n",
    "\n",
    "In this example, the mean (13.6) is greater than the median (5), illustrating the effect of right skewness.\n",
    "</span>"
   ]
  },
  {
   "cell_type": "code",
   "execution_count": 18,
   "id": "76be0005",
   "metadata": {},
   "outputs": [],
   "source": [
    "# Q10. Explain the difference between covariance and correlation. How are these measures used in\n",
    "# statistical analysis?"
   ]
  },
  {
   "cell_type": "markdown",
   "id": "214c836f",
   "metadata": {},
   "source": [
    "### Solution 10-"
   ]
  },
  {
   "attachments": {
    "image-2.png": {
     "image/png": "[encoded data removed]"
    },
    "image.png": {
     "image/png": "[encoded data removed]"
    }
   },
   "cell_type": "markdown",
   "id": "2b4759a3",
   "metadata": {},
   "source": [
    "<span style = 'font-size:0.8em;'>\n",
    "\n",
    "Covariance and correlation are both measures used to assess the relationship between two variables in statistical analysis. However, they differ in terms of scale, interpretation, and how they quantify the relationship.\n",
    "\n",
    "### Covariance:\n",
    "1. **Definition**:\n",
    "   - Covariance measures the directional relationship between two variables. It indicates whether the variables tend to increase or decrease together.\n",
    "   \n",
    "2. **Calculation**:\n",
    "![image.png](attachment:image.png)\n",
    "\n",
    "3. **Interpretation**:\n",
    "   - Positive Covariance: Indicates that the variables tend to move in the same direction.\n",
    "   - Negative Covariance: Indicates that the variables tend to move in opposite directions.\n",
    "   - Magnitude: The magnitude of covariance is difficult to interpret because it depends on the units of the variables.\n",
    "\n",
    "### Correlation:\n",
    "1. **Definition**:\n",
    "   - Correlation measures both the strength and direction of the linear relationship between two variables. It is a standardized measure, providing a dimensionless quantity.\n",
    "\n",
    "2. **Calculation**:\n",
    "![image-2.png](attachment:image-2.png)\n",
    "3. **Interpretation**:\n",
    "   - Value Range: Correlation values range from -1 to 1.\n",
    "     - +1: Perfect positive linear relationship.\n",
    "     - -1: Perfect negative linear relationship.\n",
    "     - 0: No linear relationship.\n",
    "   - Magnitude: The closer the value is to ±1, the stronger the linear relationship.\n",
    "\n",
    "### Key Differences:\n",
    "1. **Scale**:\n",
    "   - Covariance is not standardized and depends on the units of the variables.\n",
    "   - Correlation is standardized and unitless, allowing for comparison across different datasets.\n",
    "\n",
    "2. **Interpretation**:\n",
    "   - Covariance only indicates the direction of the relationship.\n",
    "   - Correlation indicates both the direction and strength of the relationship.\n",
    "\n",
    "### Usage in Statistical Analysis:\n",
    "- **Covariance**:\n",
    "  - Used in portfolio theory in finance to determine how two stocks might move together.\n",
    "  - Used to construct covariance matrices, which are fundamental in multivariate statistical analyses like Principal Component Analysis (PCA).\n",
    "\n",
    "- **Correlation**:\n",
    "  - Used to identify and quantify the strength and direction of linear relationships between variables.\n",
    "  - Commonly used in regression analysis, time series analysis, and feature selection in machine learning to identify relevant predictors.\n",
    "\n",
    "### Example:\n",
    "Consider two datasets:\n",
    "- \\(X = [1, 2, 3, 4, 5]\\)\n",
    "- \\(Y = [2, 4, 6, 8, 10]\\)\n",
    "\n",
    "**Covariance**:\n",
    "- Calculation would yield a positive value, indicating that \\(X\\) and \\(Y\\) tend to increase together.\n",
    "\n",
    "**Correlation**:\n",
    "- Calculation would yield +1, indicating a perfect positive linear relationship.\n",
    "</span>"
   ]
  },
  {
   "cell_type": "code",
   "execution_count": 19,
   "id": "b897d2a1",
   "metadata": {},
   "outputs": [],
   "source": [
    "# Q11. What is the formula for calculating the sample mean? Provide an example calculation for a\n",
    "# dataset."
   ]
  },
  {
   "cell_type": "markdown",
   "id": "b6ec076f",
   "metadata": {},
   "source": [
    "### Solution 11-"
   ]
  },
  {
   "cell_type": "markdown",
   "id": "e7040fea",
   "metadata": {},
   "source": [
    "<span style = 'font-size:0.8em;'>\n",
    "\n",
    "The formula for calculating the sample mean :\n",
    "x̄ =∑xi /n\n",
    "\n",
    "Here, x̄ is the sample mean.\n",
    "∑xi is the sum of all the sample observations.\n",
    "n is the sample size or the total number of observations.\n",
    "\n",
    "### Example Calculation\n",
    "\n",
    "Consider the dataset: [4, 8, 6, 5, 3, 7]\n",
    "\n",
    "**Step-by-Step Calculation**:\n",
    "\n",
    "1. **Sum the Data Points**:\n",
    "   \n",
    "   sum = 4 + 8 + 6 + 5 + 3 + 7 = 33\n",
    "   \n",
    "\n",
    "2. **Count the Number of Data Points**:\n",
    "   \n",
    "   n = 6\n",
    "   \n",
    "\n",
    "3. **Calculate the Sample Mean**:\n",
    "   \n",
    "   x̄ = {33}/{6} = 5.5\n",
    "  \n",
    "\n",
    "### Summary\n",
    "\n",
    "For the dataset \\[4, 8, 6, 5, 3, 7\\]:\n",
    "- The sum of the data points is 33.\n",
    "- The number of data points is 6.\n",
    "- The sample mean (x̄) is 5.5.\n",
    "\n",
    "Therefore, the sample mean of the dataset \\[4, 8, 6, 5, 3, 7\\] is 5.5.\n",
    "</span>"
   ]
  },
  {
   "cell_type": "code",
   "execution_count": 20,
   "id": "8222a9c4",
   "metadata": {},
   "outputs": [],
   "source": [
    "# Q12. For a normal distribution data what is the relationship between its measure of central tendency?"
   ]
  },
  {
   "cell_type": "markdown",
   "id": "1e10e05f",
   "metadata": {},
   "source": [
    "### Solution 12-"
   ]
  },
  {
   "cell_type": "markdown",
   "id": "240e5193",
   "metadata": {},
   "source": [
    "<span style = 'font-size:0.8em;'>\n",
    "\n",
    "For a normal distribution, the measures of central tendency—mean, median, and mode—are all equal. This relationship arises from the symmetrical, bell-shaped nature of the normal distribution.\n",
    "\n",
    "### Characteristics of a Normal Distribution:\n",
    "1. **Symmetry**: The normal distribution is perfectly symmetrical around its center.\n",
    "2. **Peak**: The highest point of the curve, where the frequency of observations is the highest, corresponds to the mode.\n",
    "3. **Equal Measures of Central Tendency**:\n",
    "   - **Mean**: The average of all data points.\n",
    "   - **Median**: The middle value when the data points are ordered.\n",
    "   - **Mode**: The most frequently occurring value in the dataset.\n",
    "\n",
    "### Relationship:\n",
    "- In a normal distribution:\n",
    "  \\[\n",
    "  {Mean} = {Median} = {Mode}\n",
    "  \\]\n",
    "\n",
    "This equality holds because the symmetry of the distribution ensures that half of the data points lie on either side of the mean, making the median equal to the mean. Additionally, the mode, being the peak point of the distribution, is located at the same center point as the mean and median.\n",
    "\n",
    "### Visual Representation:\n",
    "A normal distribution curve looks like this:\n",
    "\n",
    "```\n",
    "             *\n",
    "          *     *\n",
    "        *         *\n",
    "      *             *\n",
    "    *                 *\n",
    "   *                   *\n",
    " *                       *\n",
    "*                         *\n",
    "```\n",
    "\n",
    "In this bell-shaped curve:\n",
    "- The mean is at the center.\n",
    "- The median is also at the center.\n",
    "- The mode is at the peak of the curve.\n",
    "\n",
    "### Example:\n",
    "Consider a dataset that follows a normal distribution with a mean of 50 and a standard deviation  of 10. In this case:\n",
    "- The mean is 50.\n",
    "- The median is also 50.\n",
    "- The mode is also 50.\n",
    "\n",
    "In summary, for a normally distributed dataset, the mean, median, and mode are identical and located at the center of the distribution. This characteristic is a key feature of the normal distribution, distinguishing it from other types of distributions where these measures of central tendency may differ.\n",
    "</span>"
   ]
  },
  {
   "cell_type": "code",
   "execution_count": 21,
   "id": "e19841cd",
   "metadata": {},
   "outputs": [],
   "source": [
    "# Q13. How is covariance different from correlation?"
   ]
  },
  {
   "cell_type": "markdown",
   "id": "edf3c0a0",
   "metadata": {},
   "source": [
    "### Solution 13-"
   ]
  },
  {
   "attachments": {
    "image-2.png": {
     "image/png": "[encoded data removed]"
    },
    "image.png": {
     "image/png": "[encoded data removed]"
    }
   },
   "cell_type": "markdown",
   "id": "2c2c4dc4",
   "metadata": {},
   "source": [
    "<span style = 'font-size:0.8em;'>\n",
    "\n",
    "Covariance and correlation are both measures used to assess the relationship between two variables in statistical analysis. However, they differ in terms of scale, interpretation, and how they quantify the relationship.\n",
    "\n",
    "### Covariance:\n",
    "1. **Definition**:\n",
    "   - Covariance measures the directional relationship between two variables. It indicates whether the variables tend to increase or decrease together.\n",
    "   \n",
    "2. **Calculation**:\n",
    "![image-2.png](attachment:image-2.png)\n",
    "\n",
    "3. **Interpretation**:\n",
    "   - Positive Covariance: Indicates that the variables tend to move in the same direction.\n",
    "   - Negative Covariance: Indicates that the variables tend to move in opposite directions.\n",
    "   - Magnitude: The magnitude of covariance is difficult to interpret because it depends on the units of the variables.\n",
    "\n",
    "### Correlation:\n",
    "1. **Definition**:\n",
    "   - Correlation measures both the strength and direction of the linear relationship between two variables. It is a standardized measure, providing a dimensionless quantity.\n",
    "\n",
    "2. **Calculation**:\n",
    "    ![image.png](attachment:image.png)\n",
    "3. **Interpretation**:\n",
    "   - Value Range: Correlation values range from -1 to 1.\n",
    "     - +1: Perfect positive linear relationship.\n",
    "     - -1: Perfect negative linear relationship.\n",
    "     - 0: No linear relationship.\n",
    "   - Magnitude: The closer the value is to ±1, the stronger the linear relationship.\n",
    "\n",
    "### Key Differences:\n",
    "1. **Scale**:\n",
    "   - Covariance is not standardized and depends on the units of the variables.\n",
    "   - Correlation is standardized and unitless, allowing for comparison across different datasets.\n",
    "\n",
    "2. **Interpretation**:\n",
    "   - Covariance only indicates the direction of the relationship.\n",
    "   - Correlation indicates both the direction and strength of the relationship.\n",
    "\n",
    "### Usage in Statistical Analysis:\n",
    "- **Covariance**:\n",
    "  - Used in portfolio theory in finance to determine how two stocks might move together.\n",
    "  - Used to construct covariance matrices, which are fundamental in multivariate statistical analyses like Principal Component Analysis (PCA).\n",
    "\n",
    "- **Correlation**:\n",
    "  - Used to identify and quantify the strength and direction of linear relationships between variables.\n",
    "  - Commonly used in regression analysis, time series analysis, and feature selection in machine learning to identify relevant predictors.\n",
    "\n",
    "### Example:\n",
    "Consider two datasets:\n",
    "- \\(X = [1, 2, 3, 4, 5]\\)\n",
    "- \\(Y = [2, 4, 6, 8, 10]\\)\n",
    "\n",
    "**Covariance**:\n",
    "- Calculation would yield a positive value, indicating that \\(X\\) and \\(Y\\) tend to increase together.\n",
    "\n",
    "**Correlation**:\n",
    "- Calculation would yield +1, indicating a perfect positive linear relationship.\n",
    "</span>"
   ]
  },
  {
   "cell_type": "code",
   "execution_count": 22,
   "id": "cade66f9",
   "metadata": {},
   "outputs": [],
   "source": [
    "# Q14. How do outliers affect measures of central tendency and dispersion? Provide an example."
   ]
  },
  {
   "cell_type": "markdown",
   "id": "190bea8a",
   "metadata": {},
   "source": [
    "### Solution 14-"
   ]
  },
  {
   "cell_type": "markdown",
   "id": "fc68a08f",
   "metadata": {},
   "source": [
    "<span style = 'font-size:0.8em;'>\n",
    "\n",
    "\n",
    "### How Outliers Affect Measures of Central Tendency and Dispersion\n",
    "\n",
    "Outliers can significantly impact measures of central tendency and dispersion, often distorting the interpretation of the dataset. Here's how they affect each measure along with an example.\n",
    "\n",
    "### Measures of Central Tendency\n",
    "\n",
    "1. **Mean**:\n",
    "   - The mean is sensitive to outliers because it includes all data points in the calculation.\n",
    "   - An outlier can significantly increase or decrease the mean, making it less representative of the central location of the bulk of the data.\n",
    "\n",
    "2. **Median**:\n",
    "   - The median is more robust to outliers. It is the middle value when the data is sorted and is not affected by the actual values of the extreme points.\n",
    "   - An outlier has little to no effect on the median, making it a more reliable measure of central tendency when outliers are present.\n",
    "\n",
    "3. **Mode**:\n",
    "   - The mode is the value that appears most frequently in the dataset.\n",
    "   - Outliers typically do not affect the mode unless the outlier itself is the most frequent value.\n",
    "\n",
    "### Measures of Dispersion\n",
    "\n",
    "1. **Range**:\n",
    "   - The range is the difference between the maximum and minimum values in the dataset.\n",
    "   - It is highly sensitive to outliers because an outlier can significantly increase the range.\n",
    "\n",
    "2. **Variance and Standard Deviation**:\n",
    "   - Both variance and standard deviation are sensitive to outliers. These measures involve squaring the differences between each data point and the mean.\n",
    "   - An outlier increases these differences dramatically, leading to a much higher variance and standard deviation, suggesting greater variability in the data.\n",
    "\n",
    "### Example\n",
    "\n",
    "Consider two datasets:\n",
    "\n",
    "- Dataset A: \\([10, 12, 14, 16, 18]\\)\n",
    "- Dataset B: \\([10, 12, 14, 16, 100]\\) (with an outlier of 100)\n",
    "\n",
    "#### Measures of Central Tendency\n",
    "\n",
    "- **Mean**:\n",
    "  - Dataset A:\n",
    "    \\[\n",
    "   {Mean} = {10 + 12 + 14 + 16 + 18}/{5} = 14\n",
    "    \\]\n",
    "  - Dataset B:\n",
    "    \\[\n",
    "   {Mean} = {10 + 12 + 14 + 16 + 100}/{5} = 30.4\n",
    "    \\]\n",
    "  The mean of Dataset B is significantly higher due to the outlier.\n",
    "\n",
    "- **Median**:\n",
    "  - Dataset A:\n",
    "    \\[\n",
    "    {Median} = 14\n",
    "    \\]\n",
    "  - Dataset B:\n",
    "    \\[\n",
    "   {Median} = 14\n",
    "    \\]\n",
    "  The median remains the same, showing its robustness to the outlier.\n",
    "\n",
    "- **Mode**:\n",
    "  - Both datasets do not have a mode (no repeated values).\n",
    "\n",
    "#### Measures of Dispersion\n",
    "\n",
    "- **Range**:\n",
    "  - Dataset A:\n",
    "    \\[\n",
    "    {Range} = 18 - 10 = 8\n",
    "    \\]\n",
    "  - Dataset B:\n",
    "    \\[\n",
    "   {Range} = 100 - 10 = 90\n",
    "    \\]\n",
    "  The range of Dataset B is much larger due to the outlier.\n",
    "\n",
    "- **Variance and Standard Deviation**:\n",
    "  - Dataset A:\n",
    "    \\[\n",
    "   {Variance} = {(10-14)^2 + (12-14)^2 + (14-14)^2 + (16-14)^2 + (18-14)^2}/{4} = {16 + 4 + 0 + 4 + 16}/{4} = 10\n",
    "    \\]\n",
    "    \\[\n",
    "    {Standard Deviation} = sqrt{10}  = approx 3.16\n",
    "    \\]\n",
    "  - Dataset B:\n",
    "    \\[\n",
    "   {Variance} = {(10-30.4)^2 + (12-30.4)^2 + (14-30.4)^2 + (16-30.4)^2 + (100-30.4)^2}/{4} = {420.16 + 344.16 + 268.96 + 194.56 + 4840.96}/{4} = 1517.2\n",
    "    \\]\n",
    "    \\[\n",
    "    {Standard Deviation} = sqrt{1517.2}  = approx 38.94\n",
    "    \\]\n",
    "  The variance and standard deviation of Dataset B are much higher due to the outlier, indicating a higher spread.\n",
    "\n",
    "### Summary\n",
    "\n",
    "- **Mean**: Greatly affected by outliers, causing it to misrepresent the central tendency.\n",
    "- **Median and Mode**: Less affected by outliers, providing a more accurate central tendency when outliers are present.\n",
    "- **Range, Variance, and Standard Deviation**: Greatly affected by outliers, indicating increased dispersion and variability in the presence of outliers.\n",
    "\n",
    "By understanding how outliers impact these statistical measures, you can better interpret the data and consider using more robust measures (like the median) when outliers are present.\n",
    "\n",
    "---\n",
    "\n",
    "</span>"
   ]
  },
  {
   "cell_type": "code",
   "execution_count": null,
   "id": "de19dd58",
   "metadata": {},
   "outputs": [],
   "source": []
  }
 ],
 "metadata": {
  "kernelspec": {
   "display_name": "Python 3 (ipykernel)",
   "language": "python",
   "name": "python3"
  },
  "language_info": {
   "codemirror_mode": {
    "name": "ipython",
    "version": 3
   },
   "file_extension": ".py",
   "mimetype": "text/x-python",
   "name": "python",
   "nbconvert_exporter": "python",
   "pygments_lexer": "ipython3",
   "version": "3.10.9"
  }
 },
 "nbformat": 4,
 "nbformat_minor": 5
}
