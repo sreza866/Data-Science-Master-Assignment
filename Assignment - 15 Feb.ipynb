{
 "cells": [
  {
   "cell_type": "code",
   "execution_count": 1,
   "id": "535eb6bf-24ca-4788-a94f-5d1bb04838bf",
   "metadata": {},
   "outputs": [],
   "source": [
    "# Q1. What is multiprocessing in python? Why is it useful?"
   ]
  },
  {
   "cell_type": "markdown",
   "id": "398e636e-de2d-4d32-9c63-a944ae113819",
   "metadata": {},
   "source": [
    "### Solution 1-\n",
    "\n",
    "<span style = 'font-size:0.8em;'>\n",
    "\n",
    "Multiprocessing in Python refers to the capability of executing multiple processes simultaneously, utilizing the full capacity of multicore CPUs. Python's `multiprocessing` module provides a way to create and manage parallel processes, allowing tasks to be executed concurrently.\n",
    "\n",
    "### Why is multiprocessing useful?\n",
    "\n",
    "1. **Improved Performance**: Multiprocessing allows you to parallelize CPU-bound tasks, distributing the workload across multiple CPU cores. This can lead to significant performance improvements, particularly for tasks that can be divided into independent subtasks.\n",
    "\n",
    "2. **Utilization of Multicore CPUs**: With the widespread availability of multicore CPUs, multiprocessing enables Python programs to take full advantage of the hardware, making computations faster and more efficient.\n",
    "\n",
    "3. **Scalability**: Multiprocessing enables scaling of computation-intensive tasks to utilize the available hardware resources efficiently, allowing programs to handle larger workloads and process data more quickly.\n",
    "\n",
    "4. **Concurrency**: Multiprocessing allows you to execute multiple tasks concurrently, which is particularly useful for applications with parallelizable workloads, such as data processing, scientific computing, and machine learning.\n",
    "\n",
    "5. **Isolation**: Each process in multiprocessing has its own memory space, which provides isolation and prevents interference between processes. This ensures that changes made by one process do not affect others, enhancing reliability and robustness.\n",
    "\n",
    "Multiprocessing in Python is a powerful tool for improving performance, scalability, and concurrency in CPU-bound applications, making it essential for high-performance computing tasks and parallel processing requirements.\n",
    "</span>"
   ]
  },
  {
   "cell_type": "code",
   "execution_count": 2,
   "id": "191694b5-4c66-4067-8c9a-9c16e86e039a",
   "metadata": {},
   "outputs": [],
   "source": [
    "# Q2. What are the differences between multiprocessing and multithreading?"
   ]
  },
  {
   "cell_type": "markdown",
   "id": "1c29327a-6b52-427f-887c-c6ffbba4cbd5",
   "metadata": {},
   "source": [
    "### Solution 2-\n",
    "\n",
    "<span style = 'font-size:0.8em;'>\n",
    "\n",
    "Multiprocessing and multithreading are both techniques used for achieving concurrency in computer programs, but they differ in several key aspects:\n",
    "\n",
    "1. **Processes vs. Threads**:\n",
    "   - Multiprocessing involves executing multiple processes simultaneously. Each process has its own memory space, resources, and Python interpreter.\n",
    "   - Multithreading involves executing multiple threads within the same process. Threads share the same memory space and resources, including the same Python interpreter.\n",
    "\n",
    "2. **Memory Isolation**:\n",
    "   - Multiprocessing provides strong memory isolation because each process has its own memory space. This makes it less prone to issues like race conditions and data corruption.\n",
    "   - Multithreading shares memory space between threads within the same process, making it susceptible to data corruption and race conditions unless proper synchronization mechanisms are used.\n",
    "\n",
    "3. **Resource Consumption**:\n",
    "   - Multiprocessing typically consumes more system resources (such as memory and CPU) compared to multithreading because each process has its own memory space and resources.\n",
    "   - Multithreading consumes fewer system resources because threads share resources within the same process. However, excessive threading can lead to resource contention and decreased performance due to context switching overhead.\n",
    "\n",
    "4. **Scalability**:\n",
    "   - Multiprocessing is more scalable in terms of utilizing multiple CPU cores and handling CPU-bound tasks efficiently. Each process can run on a separate core, allowing for true parallelism.\n",
    "   - Multithreading is limited by the Global Interpreter Lock (GIL) in CPython, which prevents multiple threads from executing Python bytecode simultaneously. This limits the scalability of multithreading for CPU-bound tasks in Python.\n",
    "\n",
    "5. **Concurrency vs. Parallelism**:\n",
    "   - Multiprocessing provides true parallelism by executing multiple processes simultaneously on multiple CPU cores. It is suitable for CPU-bound tasks that can be parallelized.\n",
    "   - Multithreading achieves concurrency by allowing multiple threads to execute within the same process, but it does not necessarily result in true parallelism due to the GIL. It is suitable for I/O-bound tasks or tasks that involve waiting for external resources.\n",
    "\n",
    "In summary, multiprocessing and multithreading offer different concurrency models with distinct advantages and trade-offs. Multiprocessing is suitable for CPU-bound tasks requiring true parallelism, while multithreading is suitable for I/O-bound tasks or tasks requiring lightweight concurrency within a single process.\n",
    "</span>"
   ]
  },
  {
   "cell_type": "code",
   "execution_count": 3,
   "id": "5c4343cc-c518-465a-b770-1d3d67eb9c6e",
   "metadata": {},
   "outputs": [],
   "source": [
    "# Q3. Write a python code to create a process using the multiprocessing module."
   ]
  },
  {
   "cell_type": "markdown",
   "id": "ea9d3ced-cb2b-45ce-916a-d5414fd8c37b",
   "metadata": {},
   "source": [
    "### Solution 3-"
   ]
  },
  {
   "cell_type": "code",
   "execution_count": 4,
   "id": "2bac7824-77f2-4012-b1f5-830304f933df",
   "metadata": {},
   "outputs": [
    {
     "name": "stdout",
     "output_type": "stream",
     "text": [
      "This is my main program\n",
      "This is my multiprocessing program\n"
     ]
    }
   ],
   "source": [
    "import multiprocessing\n",
    "\n",
    "def test():\n",
    "    print(\"This is my multiprocessing program\")\n",
    "\n",
    "if __name__ == \"__main__\":\n",
    "    \n",
    "    m = multiprocessing.Process(target=test)\n",
    "    print(\"This is my main program\")\n",
    "    m.start()\n",
    "    m.join()"
   ]
  },
  {
   "cell_type": "code",
   "execution_count": 5,
   "id": "ccaf0de5-8f12-4715-8d82-b671995912dd",
   "metadata": {},
   "outputs": [],
   "source": [
    "# Q4. What is a multiprocessing pool in python? Why is it used?"
   ]
  },
  {
   "cell_type": "markdown",
   "id": "d4420bd4-30c7-4582-aa82-8fa298793a49",
   "metadata": {},
   "source": [
    "### Solution 4-\n",
    "<span style = 'font-size:0.8em;'>\n",
    "\n",
    "A multiprocessing pool in Python, specifically referring to `multiprocessing.Pool`, is a mechanism for parallelizing the execution of a function across multiple input values by distributing the workload among a pool of worker processes. It provides a convenient way to parallelize tasks, particularly when the tasks are independent and can be executed concurrently.\n",
    "\n",
    "Here's an overview of `multiprocessing.Pool` and why it's used:\n",
    "\n",
    "1. **Parallel Execution**:\n",
    "   - `multiprocessing.Pool` allows you to execute a function on multiple input values in parallel. It automatically distributes the workload across multiple processes, making it easy to leverage the full processing power of multicore CPUs.\n",
    "\n",
    "2. **Worker Processes**:\n",
    "   - When you create a `multiprocessing.Pool`, it creates a pool of worker processes, typically based on the number of CPU cores available on the system.\n",
    "   - These worker processes can execute tasks concurrently, enabling parallel processing without the complexity of managing individual processes manually.\n",
    "\n",
    "3. **Task Distribution**:\n",
    "   - You can submit tasks to the pool using methods like `map`, `apply`, `apply_async`, etc.\n",
    "   - The pool automatically distributes these tasks among the worker processes, ensuring that each task is executed efficiently.\n",
    "\n",
    "4. **Resource Management**:\n",
    "   - `multiprocessing.Pool` handles resource management, process creation, and termination internally, abstracting away the complexities of managing individual processes.\n",
    "   - It provides a high-level interface for parallel processing, making it easier to write parallel code without having to deal with low-level process management details.\n",
    "\n",
    "5. **Scalability**:\n",
    "   - `multiprocessing.Pool` scales well with the number of CPU cores available on the system. As the number of CPU cores increases, the pool can distribute tasks across more processes, leading to improved performance and scalability.\n",
    "\n",
    "Overall, `multiprocessing.Pool` is used to parallelize CPU-bound tasks, such as computation-intensive calculations or data processing, by distributing the workload across multiple processes. It simplifies parallel programming in Python and allows developers to take advantage of multicore CPUs effectively.\n",
    "\n",
    "</span>"
   ]
  },
  {
   "cell_type": "code",
   "execution_count": 6,
   "id": "910051e9-160f-448f-b439-29254b88d641",
   "metadata": {},
   "outputs": [],
   "source": [
    "# Q5. How can we create a pool of worker processes in python using the multiprocessing module?"
   ]
  },
  {
   "cell_type": "markdown",
   "id": "f980b30b-0dd5-4097-b243-b06cb4c4d70c",
   "metadata": {},
   "source": [
    "### Solution 5-\n",
    "<span style = 'font-size:0.8em;'>\n",
    "    \n",
    "    \n",
    "In Python, we can create a pool of worker processes using the `multiprocessing.Pool` class from the `multiprocessing` module. Here's how we can create a pool of worker processes:\n",
    "\n",
    "```python\n",
    "import multiprocessing\n",
    "\n",
    "if __name__ == \"__main__\":\n",
    "    # Create a pool of worker processes with 5 processes\n",
    "    with multiprocessing.Pool(processes=5) as pool:\n",
    "        # remaining code to use the pool goes here\n",
    "```\n",
    "\n",
    "In this code:\n",
    "\n",
    "- We import the `multiprocessing` module.\n",
    "- Inside the `if __name__ == \"__main__\":` block, we create a pool of worker processes using the `multiprocessing.Pool` constructor.\n",
    "- The `processes` parameter specifies the number of worker processes in the pool. In this example, we create a pool with 5 worker processes.\n",
    "- We use the `with` statement to ensure that the pool is properly closed and resources are released after use.\n",
    "\n",
    "Once we have created the pool, you can submit tasks to the pool using methods like `map`, `apply`, `apply_async`, etc., to execute functions in parallel across the worker processes in the pool.\n",
    "</span>"
   ]
  },
  {
   "cell_type": "code",
   "execution_count": 7,
   "id": "3807a4ee-2b3f-4b67-b0d1-06d44344d763",
   "metadata": {},
   "outputs": [
    {
     "name": "stdout",
     "output_type": "stream",
     "text": [
      "[4, 9, 16, 25, 36, 64]\n"
     ]
    }
   ],
   "source": [
    "# Example\n",
    "import multiprocessing\n",
    "\n",
    "def square(n):\n",
    "    return n**2\n",
    "\n",
    "if __name__ == \"__main__\":\n",
    "    with multiprocessing.Pool(processes=5) as pool:\n",
    "        ans = pool.map(square, [2,3,4,5,6,8])\n",
    "        print(ans)"
   ]
  },
  {
   "cell_type": "code",
   "execution_count": 8,
   "id": "67f00e90-7b36-4e1e-8cff-add16c1a297e",
   "metadata": {},
   "outputs": [],
   "source": [
    "# Q6. Write a python program to create 4 processes, each process should print a different number using the\n",
    "# multiprocessing module in python."
   ]
  },
  {
   "cell_type": "markdown",
   "id": "b5da4e8e-6968-4ca5-8fd0-4a8c1d28f228",
   "metadata": {},
   "source": [
    "### Solution 6-"
   ]
  },
  {
   "cell_type": "code",
   "execution_count": 9,
   "id": "b7898d18-910c-4867-861a-89b01bd5d0d0",
   "metadata": {},
   "outputs": [
    {
     "name": "stdout",
     "output_type": "stream",
     "text": [
      "Process- Process-7 prints: 1\n",
      "\n",
      "\n",
      "\n",
      "\n",
      "Process- Process-8 prints: 2\n",
      "\n",
      "\n",
      "Process- Process-9 prints: 3\n",
      "\n",
      "\n",
      "\n",
      "Process- Process-10 prints: 4\n",
      "\n",
      "\n",
      "\n"
     ]
    }
   ],
   "source": [
    "import multiprocessing\n",
    "\n",
    "def print_number(number):\n",
    "    process_name = multiprocessing.current_process().name\n",
    "    print(f\"Process- {process_name} prints: {number}\\n\")\n",
    "    print(\"\\n\")\n",
    "if __name__ == \"__main__\":\n",
    "    \n",
    "    numbers = [1,2,3,4]\n",
    "    process = []\n",
    "    for num in numbers:\n",
    "        m = multiprocessing.Process(target = print_number, args = (num,))\n",
    "        process.append(m)\n",
    "        m.start()\n",
    "    for m in process:\n",
    "        m.join()"
   ]
  },
  {
   "cell_type": "code",
   "execution_count": null,
   "id": "f620d145-7d07-488e-b976-369ba311c3d1",
   "metadata": {},
   "outputs": [],
   "source": []
  }
 ],
 "metadata": {
  "kernelspec": {
   "display_name": "Python 3 (ipykernel)",
   "language": "python",
   "name": "python3"
  },
  "language_info": {
   "codemirror_mode": {
    "name": "ipython",
    "version": 3
   },
   "file_extension": ".py",
   "mimetype": "text/x-python",
   "name": "python",
   "nbconvert_exporter": "python",
   "pygments_lexer": "ipython3",
   "version": "3.10.8"
  }
 },
 "nbformat": 4,
 "nbformat_minor": 5
}
