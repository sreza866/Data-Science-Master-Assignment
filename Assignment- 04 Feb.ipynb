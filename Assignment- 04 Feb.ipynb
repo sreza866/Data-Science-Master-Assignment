{
 "cells": [
  {
   "cell_type": "markdown",
   "id": "8dc437d5",
   "metadata": {},
   "source": [
    "Solution 1-"
   ]
  },
  {
   "cell_type": "code",
   "execution_count": 1,
   "id": "248c0fb3",
   "metadata": {},
   "outputs": [],
   "source": [
    "# Q1. Create a python program to sort the given list of tuples based on integer value using a\n",
    "# lambda function.\n",
    "# [('Sachin Tendulkar', 34357), ('Ricky Ponting', 27483), ('Jack Kallis', 25534), ('Virat Kohli', 24936)]"
   ]
  },
  {
   "cell_type": "code",
   "execution_count": 2,
   "id": "4e0470de",
   "metadata": {},
   "outputs": [],
   "source": [
    "l1 = [('Sachin Tendulkar', 34357), ('Ricky Ponting', 27483), ('Jack Kallis', 25534), ('Virat Kohli', 24936)]"
   ]
  },
  {
   "cell_type": "code",
   "execution_count": 3,
   "id": "df913c6c",
   "metadata": {},
   "outputs": [],
   "source": [
    "sorted_l1 = sorted(l1, key = lambda x: x[1])"
   ]
  },
  {
   "cell_type": "code",
   "execution_count": 4,
   "id": "83718fdf",
   "metadata": {},
   "outputs": [
    {
     "data": {
      "text/plain": [
       "[('Virat Kohli', 24936),\n",
       " ('Jack Kallis', 25534),\n",
       " ('Ricky Ponting', 27483),\n",
       " ('Sachin Tendulkar', 34357)]"
      ]
     },
     "execution_count": 4,
     "metadata": {},
     "output_type": "execute_result"
    }
   ],
   "source": [
    "sorted_l1"
   ]
  },
  {
   "cell_type": "markdown",
   "id": "38afd4f6",
   "metadata": {},
   "source": [
    "Soluution 2-"
   ]
  },
  {
   "cell_type": "code",
   "execution_count": 5,
   "id": "9d8ffb30",
   "metadata": {},
   "outputs": [],
   "source": [
    "# Q2. Write a Python Program to find the squares of all the numbers in the given list of integers using\n",
    "# lambda and map functions.\n",
    "# [1, 2, 3, 4, 5, 6, 7, 8, 9, 10]"
   ]
  },
  {
   "cell_type": "code",
   "execution_count": 6,
   "id": "0aac11c7",
   "metadata": {},
   "outputs": [],
   "source": [
    "l2 = [1, 2, 3, 4, 5, 6, 7, 8, 9, 10]"
   ]
  },
  {
   "cell_type": "code",
   "execution_count": 7,
   "id": "68c2d4b5",
   "metadata": {},
   "outputs": [],
   "source": [
    "squares = list(map(lambda x: x**2, l2))"
   ]
  },
  {
   "cell_type": "code",
   "execution_count": 8,
   "id": "c14e021f",
   "metadata": {},
   "outputs": [
    {
     "name": "stdout",
     "output_type": "stream",
     "text": [
      "squares of the list elements:  [1, 4, 9, 16, 25, 36, 49, 64, 81, 100]\n"
     ]
    }
   ],
   "source": [
    "print(\"squares of the list elements: \",squares)"
   ]
  },
  {
   "cell_type": "markdown",
   "id": "d687ec32",
   "metadata": {},
   "source": [
    "Solution 3-"
   ]
  },
  {
   "cell_type": "code",
   "execution_count": 9,
   "id": "f89d8fac",
   "metadata": {},
   "outputs": [],
   "source": [
    "# Q3. Write a python program to convert the given list of integers into a tuple of strings. Use map and\n",
    "# lambda functions\n",
    "# Given String: [1, 2, 3, 4, 5, 6, 7, 8, 9, 10]\n",
    "# Expected output: ('1', '2', '3', '4', '5', '6', '7', '8', '9', '10')"
   ]
  },
  {
   "cell_type": "code",
   "execution_count": 10,
   "id": "2aa9f67e",
   "metadata": {},
   "outputs": [],
   "source": [
    "s1 = [1, 2, 3, 4, 5, 6, 7, 8, 9, 10]"
   ]
  },
  {
   "cell_type": "code",
   "execution_count": 11,
   "id": "5188cfb4",
   "metadata": {},
   "outputs": [],
   "source": [
    "string_tuple = tuple(map(lambda x: str(x), s1))"
   ]
  },
  {
   "cell_type": "code",
   "execution_count": 12,
   "id": "bfbae1fc",
   "metadata": {},
   "outputs": [
    {
     "name": "stdout",
     "output_type": "stream",
     "text": [
      "tuple of strings:  ('1', '2', '3', '4', '5', '6', '7', '8', '9', '10')\n"
     ]
    }
   ],
   "source": [
    "print(\"tuple of strings: \",string_tuple)"
   ]
  },
  {
   "cell_type": "markdown",
   "id": "e609664d",
   "metadata": {},
   "source": [
    "Solution 4-"
   ]
  },
  {
   "cell_type": "code",
   "execution_count": 13,
   "id": "6dea9710",
   "metadata": {},
   "outputs": [],
   "source": [
    "# Write a python program using reduce function to compute the product of a list containing numbers\n",
    "# from 1 to 25."
   ]
  },
  {
   "cell_type": "code",
   "execution_count": 14,
   "id": "edaa0ad4",
   "metadata": {},
   "outputs": [],
   "source": [
    "l3 = list(range(1,26))"
   ]
  },
  {
   "cell_type": "code",
   "execution_count": 15,
   "id": "c7528de1",
   "metadata": {},
   "outputs": [
    {
     "data": {
      "text/plain": [
       "[1,\n",
       " 2,\n",
       " 3,\n",
       " 4,\n",
       " 5,\n",
       " 6,\n",
       " 7,\n",
       " 8,\n",
       " 9,\n",
       " 10,\n",
       " 11,\n",
       " 12,\n",
       " 13,\n",
       " 14,\n",
       " 15,\n",
       " 16,\n",
       " 17,\n",
       " 18,\n",
       " 19,\n",
       " 20,\n",
       " 21,\n",
       " 22,\n",
       " 23,\n",
       " 24,\n",
       " 25]"
      ]
     },
     "execution_count": 15,
     "metadata": {},
     "output_type": "execute_result"
    }
   ],
   "source": [
    "l3"
   ]
  },
  {
   "cell_type": "code",
   "execution_count": 16,
   "id": "95067f6b",
   "metadata": {},
   "outputs": [],
   "source": [
    "from functools import reduce"
   ]
  },
  {
   "cell_type": "code",
   "execution_count": 17,
   "id": "40e79502",
   "metadata": {},
   "outputs": [],
   "source": [
    "product_l3 = reduce(lambda x,y: x*y, l3)"
   ]
  },
  {
   "cell_type": "code",
   "execution_count": 18,
   "id": "05e6bb35",
   "metadata": {},
   "outputs": [
    {
     "name": "stdout",
     "output_type": "stream",
     "text": [
      "Product of numbers from 1 to 25: 15511210043330985984000000\n"
     ]
    }
   ],
   "source": [
    "print(\"Product of numbers from 1 to 25:\", product_l3)"
   ]
  },
  {
   "cell_type": "markdown",
   "id": "6e760f01",
   "metadata": {},
   "source": [
    "Solution 5-"
   ]
  },
  {
   "cell_type": "code",
   "execution_count": 19,
   "id": "c38be9ef",
   "metadata": {},
   "outputs": [],
   "source": [
    "# Q5. Write a python program to filter the numbers in a given list that are divisible by 2 and 3 using the\n",
    "# filter function.\n",
    "# [2, 3, 6, 9, 27, 60, 90, 120, 55, 46]"
   ]
  },
  {
   "cell_type": "code",
   "execution_count": 20,
   "id": "b1a7d481",
   "metadata": {},
   "outputs": [],
   "source": [
    "l4 =  [2, 3, 6, 9, 27, 60, 90, 120, 55, 46]"
   ]
  },
  {
   "cell_type": "code",
   "execution_count": 21,
   "id": "3d602189",
   "metadata": {},
   "outputs": [],
   "source": [
    "divisible_ans = list(filter(lambda x: x%2==0 and x%3==0,l4))"
   ]
  },
  {
   "cell_type": "code",
   "execution_count": 22,
   "id": "5ec966cd",
   "metadata": {},
   "outputs": [
    {
     "name": "stdout",
     "output_type": "stream",
     "text": [
      "Numbers divisible by 2 and 3: [6, 60, 90, 120]\n"
     ]
    }
   ],
   "source": [
    "print(\"Numbers divisible by 2 and 3:\", divisible_ans )"
   ]
  },
  {
   "cell_type": "markdown",
   "id": "6642064c",
   "metadata": {},
   "source": [
    "Solution 6-"
   ]
  },
  {
   "cell_type": "code",
   "execution_count": 23,
   "id": "8d0dfe70",
   "metadata": {},
   "outputs": [],
   "source": [
    "# Write a python program to find palindromes in the given list of strings using lambda and filter\n",
    "# function.\n",
    "# ['python', 'php', 'aba', 'radar', 'level']"
   ]
  },
  {
   "cell_type": "code",
   "execution_count": 24,
   "id": "95b47853",
   "metadata": {},
   "outputs": [],
   "source": [
    "l5 =  ['python', 'php', 'aba', 'radar', 'level']"
   ]
  },
  {
   "cell_type": "code",
   "execution_count": 25,
   "id": "3f199ed7",
   "metadata": {},
   "outputs": [],
   "source": [
    "palindromes = list(filter(lambda x: x == x[::-1], l5))"
   ]
  },
  {
   "cell_type": "code",
   "execution_count": 26,
   "id": "5dfbd9b4",
   "metadata": {},
   "outputs": [
    {
     "name": "stdout",
     "output_type": "stream",
     "text": [
      "Palindromes in the list: ['php', 'aba', 'radar', 'level']\n"
     ]
    }
   ],
   "source": [
    "print(\"Palindromes in the list:\", palindromes)"
   ]
  },
  {
   "cell_type": "code",
   "execution_count": null,
   "id": "f2075fb1",
   "metadata": {},
   "outputs": [],
   "source": []
  }
 ],
 "metadata": {
  "kernelspec": {
   "display_name": "Python 3 (ipykernel)",
   "language": "python",
   "name": "python3"
  },
  "language_info": {
   "codemirror_mode": {
    "name": "ipython",
    "version": 3
   },
   "file_extension": ".py",
   "mimetype": "text/x-python",
   "name": "python",
   "nbconvert_exporter": "python",
   "pygments_lexer": "ipython3",
   "version": "3.10.9"
  }
 },
 "nbformat": 4,
 "nbformat_minor": 5
}
