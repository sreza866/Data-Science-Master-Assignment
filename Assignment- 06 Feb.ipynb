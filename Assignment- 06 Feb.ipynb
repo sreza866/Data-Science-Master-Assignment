{
 "cells": [
  {
   "cell_type": "markdown",
   "id": "b8ad57b2",
   "metadata": {},
   "source": [
    "<span style = 'font-size:0.8em;'>\n",
    "Q1. Create a function which will take a list as an argument and return the product of all the numbers\n",
    "after creating a flat list.\n",
    "Use the below-given list as an argument for your function.\n",
    "\n",
    "```list1 = [1,2,3,4, [44,55,66, True], False, (34,56,78,89,34), {1,2,3,3,2,1}, {1:34, \"key2\": [55, 67, 78, 89], 4: (45,\n",
    "22, 61, 34)}, [56, 'data science'], 'Machine Learning']```<br>\n",
    "\n",
    "Note: you must extract numeric keys and values of the dictionary also.\n",
    "</span>"
   ]
  },
  {
   "cell_type": "code",
   "execution_count": 21,
   "id": "cd0cabaa",
   "metadata": {},
   "outputs": [],
   "source": [
    "def flat_list_prod(list1):\n",
    "    flat_list = []\n",
    "\n",
    "    def flatten(list1):\n",
    "         # Iterate through each element in the list\n",
    "        for i in list1:\n",
    "        # isinstance() return whether an object is an instance of a class or of a subclass thereof.\n",
    "        # If element is a nested list, tuple, or set, recursively call flatten\n",
    "            if isinstance(i, (list, tuple, set)):    \n",
    "                flatten(i)\n",
    "             # If element is a dictionary, flatten its keys and values\n",
    "            elif isinstance(i, dict):\n",
    "                flatten(i.values())\n",
    "                flatten(i.keys())\n",
    "            # If element is a numeric value, append it to flat_list\n",
    "            elif isinstance(i, (int, float)):\n",
    "                flat_list.append(i)\n",
    "\n",
    "    flatten(list1)\n",
    "    print('flattened list:', flat_list)\n",
    "\n",
    "    product = 1\n",
    "    for num in flat_list:\n",
    "        product *= num\n",
    "    return product\n"
   ]
  },
  {
   "cell_type": "code",
   "execution_count": 22,
   "id": "8f1606c7",
   "metadata": {},
   "outputs": [
    {
     "name": "stdout",
     "output_type": "stream",
     "text": [
      "flattened list: [1, 2, 3, 4, 44, 55, 66, True, False, 34, 56, 78, 89, 34, 1, 2, 3, 34, 55, 67, 78, 89, 45, 22, 61, 34, 1, 4, 56]\n",
      "0\n"
     ]
    }
   ],
   "source": [
    "list1 = [1, 2, 3, 4, [44, 55, 66, True], False, (34, 56, 78, 89, 34), {1, 2, 3, 3, 2, 1}, \n",
    "         {1: 34, \"key2\": [55, 67, 78, 89], 4: (45, 22, 61, 34)}, [56, 'data science'], 'Machine Learning']\n",
    "\n",
    "print(flat_list_prod(list1))"
   ]
  },
  {
   "cell_type": "code",
   "execution_count": 23,
   "id": "07ed5576",
   "metadata": {},
   "outputs": [
    {
     "name": "stdout",
     "output_type": "stream",
     "text": [
      "flattened list: [1, 2, 3]\n",
      "6\n"
     ]
    }
   ],
   "source": [
    "list2 = [1,2,3]\n",
    "print(flat_list_prod(list2))"
   ]
  },
  {
   "cell_type": "markdown",
   "id": "0e89f125",
   "metadata": {},
   "source": [
    "<span style = 'font-size:0.8em;'>\n",
    "Q2. Write a python program for encrypting a message sent to you by your friend. The logic of encryption\n",
    "should be such that, for a the output should be z. For b, the output should be y. For c, the output should\n",
    "be x respectively. Also, the whitespace should be replaced with a dollar sign. Keep the punctuation\n",
    "marks unchanged.<br>\n",
    "Input Sentence: I want to become a Data Scientist.<br>\n",
    "Encrypt the above input sentence using the program you just created.<br>\n",
    "<i>Note: Convert the given input sentence into lowercase before encrypting. The final output should be\n",
    "    lowercase.</i>\n",
    "</span>"
   ]
  },
  {
   "cell_type": "code",
   "execution_count": 62,
   "id": "abd42277",
   "metadata": {},
   "outputs": [],
   "source": [
    "def encryption(msg):\n",
    "    msg = msg.lower()\n",
    "    encrypted_msg = \"\"\n",
    "    \n",
    "    for char in msg:\n",
    "        if char.isalpha():\n",
    "            # Convert letters to their respective encrypted characters\n",
    "            encrypted_char = chr((ord(char)+1-97)%26+97)\n",
    "            encrypted_msg += encrypted_char\n",
    "        elif char == ' ':\n",
    "            # Replace whitespace with a dollar sign\n",
    "            encrypted_msg += '$'\n",
    "        else:\n",
    "            # Keep punctuation marks unchanged\n",
    "            encrypted_msg += char\n",
    "    return encrypted_msg\n",
    "    "
   ]
  },
  {
   "cell_type": "code",
   "execution_count": 63,
   "id": "56e05a0c",
   "metadata": {},
   "outputs": [],
   "source": [
    "s = 'I want to become a Data Scientist.'"
   ]
  },
  {
   "cell_type": "code",
   "execution_count": 64,
   "id": "fd382aab",
   "metadata": {},
   "outputs": [
    {
     "data": {
      "text/plain": [
       "'j$xbou$up$cfdpnf$b$ebub$tdjfoujtu.'"
      ]
     },
     "execution_count": 64,
     "metadata": {},
     "output_type": "execute_result"
    }
   ],
   "source": [
    "encryption(s)"
   ]
  },
  {
   "cell_type": "code",
   "execution_count": null,
   "id": "4fba5a1f",
   "metadata": {},
   "outputs": [],
   "source": []
  }
 ],
 "metadata": {
  "kernelspec": {
   "display_name": "Python 3 (ipykernel)",
   "language": "python",
   "name": "python3"
  },
  "language_info": {
   "codemirror_mode": {
    "name": "ipython",
    "version": 3
   },
   "file_extension": ".py",
   "mimetype": "text/x-python",
   "name": "python",
   "nbconvert_exporter": "python",
   "pygments_lexer": "ipython3",
   "version": "3.10.9"
  }
 },
 "nbformat": 4,
 "nbformat_minor": 5
}
