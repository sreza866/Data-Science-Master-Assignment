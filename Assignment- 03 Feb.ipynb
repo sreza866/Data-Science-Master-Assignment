{
 "cells": [
  {
   "cell_type": "markdown",
   "id": "f4deb03a",
   "metadata": {},
   "source": [
    "Solution 1-<br>\n",
    "<span style=\"font-size:0.8em;\">\n",
    "A function is a block of code that performs a specific task.\n",
    "    In Python, we use <code>def</code> keyword to create a function.\n",
    "</span>"
   ]
  },
  {
   "cell_type": "code",
   "execution_count": 1,
   "id": "1426e171",
   "metadata": {},
   "outputs": [],
   "source": [
    "# Create a function to return a list of odd numbers in the\n",
    "# range of 1 to 25.\n",
    "def test_odd():\n",
    "    l = []\n",
    "    for i in range(1,25):\n",
    "        if i%2 != 0:\n",
    "            l.append(i)\n",
    "    return l"
   ]
  },
  {
   "cell_type": "code",
   "execution_count": 2,
   "id": "c4efae5f",
   "metadata": {},
   "outputs": [
    {
     "name": "stdout",
     "output_type": "stream",
     "text": [
      "[1, 3, 5, 7, 9, 11, 13, 15, 17, 19, 21, 23]\n"
     ]
    }
   ],
   "source": [
    "print(test_odd())"
   ]
  },
  {
   "cell_type": "markdown",
   "id": "f679f882",
   "metadata": {},
   "source": [
    "Solution 2-<br>\n",
    "<span style=\"font-size: 0.8em;\">\n",
    "In Python, <code>*args</code> and <code>**kwargs</code> are special syntax used in function definitions to pass a variable number of arguments to a function.\n",
    "</span>\n",
    "<br>\n",
    "<span style=\"font-size: 0.8em;\">1. <code>*args</code> allows us to pass a variable number of positional arguments to a function.</span><br>\n",
    "<span style=\"font-size: 0.8em;\">2. <code>**kwargs</code> allows us to pass a variable number of arguments into a dictionary or key-value arguments in a function.</span><br>\n",
    "\n",
    "\n",
    "\n"
   ]
  },
  {
   "cell_type": "code",
   "execution_count": 3,
   "id": "87e6f7d1",
   "metadata": {},
   "outputs": [],
   "source": [
    "# Create a function each for *args and **kwargs to\n",
    "# demonstrate their use."
   ]
  },
  {
   "cell_type": "code",
   "execution_count": 4,
   "id": "987025d2",
   "metadata": {},
   "outputs": [],
   "source": [
    "# Example for *args used in a function to return list of string.\n",
    "def test_args(*args):\n",
    "    n = []\n",
    "    for i in args:\n",
    "        if type(i)==str:\n",
    "            n.append(i)\n",
    "    return n\n",
    "    "
   ]
  },
  {
   "cell_type": "code",
   "execution_count": 5,
   "id": "21bdaf3d",
   "metadata": {},
   "outputs": [
    {
     "name": "stdout",
     "output_type": "stream",
     "text": [
      "['python', 'java', 'cobol', 'julia', 'R']\n"
     ]
    }
   ],
   "source": [
    "print(test_args('python','java',33,87,'cobol',6,0,'julia','R',True,[1,2,3,4]))"
   ]
  },
  {
   "cell_type": "code",
   "execution_count": 6,
   "id": "11b06ff8",
   "metadata": {},
   "outputs": [],
   "source": [
    "# Example for **kwargs used in a function to show greeting.\n",
    "def test_kwargs(**kwargs):\n",
    "    if 'name' in kwargs:\n",
    "        print(f\"Hello, {kwargs['name']}!\")\n",
    "    else:\n",
    "        print(\"Hello, Guest!\")\n",
    "\n",
    "    if 'age' in kwargs:\n",
    "        print(f\"You are {kwargs['age']} years old.\")\n",
    "\n",
    "    if 'city' in kwargs:\n",
    "        print(f\"You live in {kwargs['city']}.\")\n"
   ]
  },
  {
   "cell_type": "code",
   "execution_count": 7,
   "id": "e7b9db03",
   "metadata": {},
   "outputs": [
    {
     "name": "stdout",
     "output_type": "stream",
     "text": [
      "Hello, Subhan!\n",
      "You are 23 years old.\n",
      "You live in Bangalore.\n",
      "Hello, Reza!\n"
     ]
    }
   ],
   "source": [
    "test_kwargs(name='Subhan', age=23, city='Bangalore')\n",
    "test_kwargs(name='Reza')"
   ]
  },
  {
   "cell_type": "markdown",
   "id": "4fd69724",
   "metadata": {},
   "source": [
    "Solution 3-<br>\n",
    "\n",
    "<span style=\"font-size: 0.8em;\">\n",
    "In Python, an iterator is an object that enables traversal through a container, such as a list, tuple, dictionary, or any other iterable object. It provides a way to access the elements of the container one at a time without needing to know the internal details of the container's implementation.\n",
    "<br>\n",
    "\n",
    "Iterators implement two methods:<br>\n",
    "\n",
    "\n",
    "<code>\\__iter__()</code>: Returns the iterator object itself. This method is called when the iterator is initialized.\n",
    "<br>\n",
    "\n",
    "<code>\\__next__()</code>: Returns the next element in the container. When there are no more elements left, it raises the  <code>StopIteration exception</code><br>\n",
    "</span>\n"
   ]
  },
  {
   "cell_type": "code",
   "execution_count": 8,
   "id": "74a01cad",
   "metadata": {},
   "outputs": [],
   "source": [
    "# Use these methods to print the first five elements of the given list\n",
    "# [2, 4, 6, 8, 10, 12, 14, 16,18, 20]."
   ]
  },
  {
   "cell_type": "code",
   "execution_count": 9,
   "id": "6e1022b3",
   "metadata": {},
   "outputs": [
    {
     "data": {
      "text/plain": [
       "[2, 4, 6, 8, 10, 12, 14, 16, 18, 20]"
      ]
     },
     "execution_count": 9,
     "metadata": {},
     "output_type": "execute_result"
    }
   ],
   "source": [
    "# Given list\n",
    "l = [2, 4, 6, 8, 10, 12, 14, 16, 18, 20]\n",
    "l"
   ]
  },
  {
   "cell_type": "code",
   "execution_count": 10,
   "id": "5a08257d",
   "metadata": {},
   "outputs": [],
   "source": [
    "# Get an iterator for the list in my_iterator variable\n",
    "my_iterator = iter(l)"
   ]
  },
  {
   "cell_type": "code",
   "execution_count": 11,
   "id": "b603e804",
   "metadata": {},
   "outputs": [
    {
     "name": "stdout",
     "output_type": "stream",
     "text": [
      "2\n",
      "4\n",
      "6\n",
      "8\n",
      "10\n"
     ]
    }
   ],
   "source": [
    "# Print the first five elements using the next() function\n",
    "for _ in range(5):           # '_' is just used for running loop and not accessing element\n",
    "    print(next(my_iterator))"
   ]
  },
  {
   "cell_type": "markdown",
   "id": "0e4e86a4",
   "metadata": {},
   "source": [
    "Solution 4-\n",
    "\n",
    "<span style=\"font-size: 0.8em;\">\n",
    "<b>Generator Function in Python</b><br>\n",
    "In Python, a generator is a function that returns an iterator that produces a sequence of values when iterated over. Generators are useful when we want to produce a large sequence of values, but we don't want to store all of them in memory at once.<br>\n",
    "The <code>yield</code> keyword is used in a generator function to yield (or produce) a value to the caller while pausing the function's execution state. When the generator is called again, it resumes execution from the point where it left off, retaining its local variables and state.\n",
    "</span>"
   ]
  },
  {
   "cell_type": "code",
   "execution_count": 12,
   "id": "7a59c490",
   "metadata": {},
   "outputs": [],
   "source": [
    "# Give an example of a generator function."
   ]
  },
  {
   "cell_type": "code",
   "execution_count": 13,
   "id": "80eee294",
   "metadata": {},
   "outputs": [],
   "source": [
    "# Example of a generator function that generates a sequence of even numbers:\n",
    "def even_generator(n):\n",
    "    for i in range(n):\n",
    "        if i%2 == 0:\n",
    "            yield i\n",
    "    "
   ]
  },
  {
   "cell_type": "code",
   "execution_count": 14,
   "id": "fe325935",
   "metadata": {},
   "outputs": [],
   "source": [
    "# Getting the generator function object\n",
    "generator = even_generator(20)"
   ]
  },
  {
   "cell_type": "code",
   "execution_count": 15,
   "id": "b73e4951",
   "metadata": {},
   "outputs": [
    {
     "name": "stdout",
     "output_type": "stream",
     "text": [
      "0\n",
      "2\n",
      "4\n",
      "6\n",
      "8\n",
      "10\n",
      "12\n",
      "14\n",
      "16\n",
      "18\n"
     ]
    }
   ],
   "source": [
    "# Iterating over the generator to get values\n",
    "for num in generator:\n",
    "    print(num)"
   ]
  },
  {
   "cell_type": "markdown",
   "id": "3495f0d5",
   "metadata": {},
   "source": [
    "Solution 5-<br>\n",
    "<span style=\"font-size: 0.8em;\">\n",
    "    Create a generator function for prime numbers less than 1000. Use the <code>next()</code> method to print the\n",
    "first 20 prime numbers.\n",
    "</span>"
   ]
  },
  {
   "cell_type": "code",
   "execution_count": 16,
   "id": "e08804d5",
   "metadata": {},
   "outputs": [],
   "source": [
    "def prime_generator(n):\n",
    "    num = 2\n",
    "    while num < n:\n",
    "        is_prime = True\n",
    "        for j in range(2, int(num ** 0.5) + 1):\n",
    "            if num % j == 0:\n",
    "                is_prime = False\n",
    "                break\n",
    "        if is_prime:\n",
    "            yield num\n",
    "            \n",
    "        num += 1"
   ]
  },
  {
   "cell_type": "code",
   "execution_count": 17,
   "id": "038c21b5",
   "metadata": {},
   "outputs": [],
   "source": [
    "# Create a generator object\n",
    "generator = prime_generator(1000)"
   ]
  },
  {
   "cell_type": "code",
   "execution_count": 18,
   "id": "04b6502d",
   "metadata": {},
   "outputs": [
    {
     "name": "stdout",
     "output_type": "stream",
     "text": [
      "2\n",
      "3\n",
      "5\n",
      "7\n",
      "11\n",
      "13\n",
      "17\n",
      "19\n",
      "23\n",
      "29\n",
      "31\n",
      "37\n",
      "41\n",
      "43\n",
      "47\n",
      "53\n",
      "59\n",
      "61\n",
      "67\n",
      "71\n",
      "73\n",
      "79\n",
      "83\n",
      "89\n",
      "97\n",
      "101\n",
      "103\n",
      "107\n",
      "109\n",
      "113\n",
      "127\n",
      "131\n",
      "137\n",
      "139\n",
      "149\n",
      "151\n",
      "157\n",
      "163\n",
      "167\n",
      "173\n",
      "179\n",
      "181\n",
      "191\n",
      "193\n",
      "197\n",
      "199\n",
      "211\n",
      "223\n",
      "227\n",
      "229\n",
      "233\n",
      "239\n",
      "241\n",
      "251\n",
      "257\n",
      "263\n",
      "269\n",
      "271\n",
      "277\n",
      "281\n",
      "283\n",
      "293\n",
      "307\n",
      "311\n",
      "313\n",
      "317\n",
      "331\n",
      "337\n",
      "347\n",
      "349\n",
      "353\n",
      "359\n",
      "367\n",
      "373\n",
      "379\n",
      "383\n",
      "389\n",
      "397\n",
      "401\n",
      "409\n",
      "419\n",
      "421\n",
      "431\n",
      "433\n",
      "439\n",
      "443\n",
      "449\n",
      "457\n",
      "461\n",
      "463\n",
      "467\n",
      "479\n",
      "487\n",
      "491\n",
      "499\n",
      "503\n",
      "509\n",
      "521\n",
      "523\n",
      "541\n",
      "547\n",
      "557\n",
      "563\n",
      "569\n",
      "571\n",
      "577\n",
      "587\n",
      "593\n",
      "599\n",
      "601\n",
      "607\n",
      "613\n",
      "617\n",
      "619\n",
      "631\n",
      "641\n",
      "643\n",
      "647\n",
      "653\n",
      "659\n",
      "661\n",
      "673\n",
      "677\n",
      "683\n",
      "691\n",
      "701\n",
      "709\n",
      "719\n",
      "727\n",
      "733\n",
      "739\n",
      "743\n",
      "751\n",
      "757\n",
      "761\n",
      "769\n",
      "773\n",
      "787\n",
      "797\n",
      "809\n",
      "811\n",
      "821\n",
      "823\n",
      "827\n",
      "829\n",
      "839\n",
      "853\n",
      "857\n",
      "859\n",
      "863\n",
      "877\n",
      "881\n",
      "883\n",
      "887\n",
      "907\n",
      "911\n",
      "919\n",
      "929\n",
      "937\n",
      "941\n",
      "947\n",
      "953\n",
      "967\n",
      "971\n",
      "977\n",
      "983\n",
      "991\n",
      "997\n"
     ]
    }
   ],
   "source": [
    "while True:\n",
    "    try:\n",
    "        print(next(generator))\n",
    "    except StopIteration:      # It tells about the end from iterator.__next__().\n",
    "        break"
   ]
  },
  {
   "cell_type": "code",
   "execution_count": null,
   "id": "08319be6",
   "metadata": {},
   "outputs": [],
   "source": []
  }
 ],
 "metadata": {
  "kernelspec": {
   "display_name": "Python 3 (ipykernel)",
   "language": "python",
   "name": "python3"
  },
  "language_info": {
   "codemirror_mode": {
    "name": "ipython",
    "version": 3
   },
   "file_extension": ".py",
   "mimetype": "text/x-python",
   "name": "python",
   "nbconvert_exporter": "python",
   "pygments_lexer": "ipython3",
   "version": "3.10.9"
  }
 },
 "nbformat": 4,
 "nbformat_minor": 5
}
