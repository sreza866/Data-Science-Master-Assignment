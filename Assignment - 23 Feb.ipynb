{
 "cells": [
  {
   "cell_type": "code",
   "execution_count": 1,
   "id": "98a3cfb6",
   "metadata": {},
   "outputs": [],
   "source": [
    "# Q1. Create a Pandas Series that contains the following data: 4, 8, 15, 16, 23, and 42. Then, print the series."
   ]
  },
  {
   "cell_type": "markdown",
   "id": "7eec75b0",
   "metadata": {},
   "source": [
    "### Solution 1-"
   ]
  },
  {
   "cell_type": "code",
   "execution_count": 2,
   "id": "338590c3",
   "metadata": {},
   "outputs": [],
   "source": [
    "import pandas as pd"
   ]
  },
  {
   "cell_type": "code",
   "execution_count": 3,
   "id": "53452355",
   "metadata": {},
   "outputs": [],
   "source": [
    "data = [4,8,15,16,23,42]"
   ]
  },
  {
   "cell_type": "code",
   "execution_count": 4,
   "id": "cf0c326b",
   "metadata": {},
   "outputs": [],
   "source": [
    "series = pd.Series(data)"
   ]
  },
  {
   "cell_type": "code",
   "execution_count": 5,
   "id": "dbe5c739",
   "metadata": {},
   "outputs": [
    {
     "name": "stdout",
     "output_type": "stream",
     "text": [
      "0     4\n",
      "1     8\n",
      "2    15\n",
      "3    16\n",
      "4    23\n",
      "5    42\n",
      "dtype: int64\n"
     ]
    }
   ],
   "source": [
    "print(series)"
   ]
  },
  {
   "cell_type": "code",
   "execution_count": 6,
   "id": "dc850b5e",
   "metadata": {},
   "outputs": [],
   "source": [
    "# Q2. Create a variable of list type containing 10 elements in it, and apply pandas.Series function on the\n",
    "# variable print it."
   ]
  },
  {
   "cell_type": "markdown",
   "id": "e42e309f",
   "metadata": {},
   "source": [
    "### Solution 2-"
   ]
  },
  {
   "cell_type": "code",
   "execution_count": 7,
   "id": "20fabc4f",
   "metadata": {},
   "outputs": [],
   "source": [
    "l = [1,2,3,4,5,6,7,8,9,10]"
   ]
  },
  {
   "cell_type": "code",
   "execution_count": 8,
   "id": "d51e7de7",
   "metadata": {},
   "outputs": [],
   "source": [
    "series = pd.Series(l)"
   ]
  },
  {
   "cell_type": "code",
   "execution_count": 9,
   "id": "c266117a",
   "metadata": {},
   "outputs": [
    {
     "name": "stdout",
     "output_type": "stream",
     "text": [
      "0     1\n",
      "1     2\n",
      "2     3\n",
      "3     4\n",
      "4     5\n",
      "5     6\n",
      "6     7\n",
      "7     8\n",
      "8     9\n",
      "9    10\n",
      "dtype: int64\n"
     ]
    }
   ],
   "source": [
    "print(series)"
   ]
  },
  {
   "cell_type": "code",
   "execution_count": 10,
   "id": "5fd95f9d",
   "metadata": {},
   "outputs": [],
   "source": [
    "# Q3. Create a Pandas DataFrame that contains the following data:\n",
    "#      Name  Age  Gender\n",
    "# 0   Alice   25  Female\n",
    "# 1     Bob   30    Male\n",
    "# 2  Claire   27  Female"
   ]
  },
  {
   "cell_type": "markdown",
   "id": "e830baf3",
   "metadata": {},
   "source": [
    "### Solution 3-"
   ]
  },
  {
   "cell_type": "code",
   "execution_count": 11,
   "id": "54d1fc91",
   "metadata": {},
   "outputs": [],
   "source": [
    "data = {\n",
    "        \"Name\": [\"Alice\",\"Bob\",\"Claire\"],\n",
    "         \"Age\": [25,30,27],\n",
    "         \"Claire\": [\"Female\",\"Male\",\"Female\"]\n",
    "}"
   ]
  },
  {
   "cell_type": "code",
   "execution_count": 12,
   "id": "151e71df",
   "metadata": {},
   "outputs": [],
   "source": [
    "df = pd.DataFrame(data)"
   ]
  },
  {
   "cell_type": "code",
   "execution_count": 13,
   "id": "9b56aacd",
   "metadata": {},
   "outputs": [
    {
     "name": "stdout",
     "output_type": "stream",
     "text": [
      "     Name  Age  Claire\n",
      "0   Alice   25  Female\n",
      "1     Bob   30    Male\n",
      "2  Claire   27  Female\n"
     ]
    }
   ],
   "source": [
    "print(df)"
   ]
  },
  {
   "cell_type": "code",
   "execution_count": 14,
   "id": "1dff72b3",
   "metadata": {},
   "outputs": [],
   "source": [
    "# Q4. What is ‘DataFrame’ in pandas and how is it different from pandas.series? Explain with an example."
   ]
  },
  {
   "cell_type": "markdown",
   "id": "d15c833e",
   "metadata": {},
   "source": [
    "### Solutuion 4-"
   ]
  },
  {
   "cell_type": "markdown",
   "id": "c2461725",
   "metadata": {},
   "source": [
    "<span style = 'font-size:0.8em;'>\n",
    "    \n",
    "In Pandas, a DataFrame is a two-dimensional, size-mutable, and potentially heterogeneous tabular data structure with labeled axes (rows and columns). It is essentially a table or spreadsheet-like data structure containing an ordered collection of columns, each of which can be a different data type (integer, float, string, etc.). DataFrames are highly versatile and offer functionalities for data manipulation, cleaning, analysis, and visualization.\n",
    "    \n",
    "\n",
    "On the other hand, a Pandas Series is a one-dimensional labeled array capable of holding data of any type (integer, float, string, etc.). It can be thought of as a single column of a DataFrame, and it shares many characteristics with NumPy arrays. However, Series has additional features such as axis labels, which allow for more intuitive data access and manipulation.\n",
    "    \n",
    "</span>"
   ]
  },
  {
   "cell_type": "code",
   "execution_count": 15,
   "id": "26fe003e",
   "metadata": {},
   "outputs": [
    {
     "name": "stdout",
     "output_type": "stream",
     "text": [
      "DataFrame:\n",
      "     Name  Age  Gender\n",
      "0   Alice   25  Female\n",
      "1     Bob   30    Male\n",
      "2  Claire   27  Female\n",
      "\n",
      "Series (Age column from DataFrame):\n",
      "0    25\n",
      "1    30\n",
      "2    27\n",
      "Name: Age, dtype: int64\n"
     ]
    }
   ],
   "source": [
    "# Example\n",
    "# Creating a DataFrame\n",
    "data = {\n",
    "    'Name': ['Alice', 'Bob', 'Claire'],\n",
    "    'Age': [25, 30, 27],\n",
    "    'Gender': ['Female', 'Male', 'Female']\n",
    "}\n",
    "df = pd.DataFrame(data)\n",
    "print(\"DataFrame:\")\n",
    "print(df)\n",
    "print()\n",
    "\n",
    "# Accessing a Series (a single column) from the DataFrame\n",
    "age_series = df['Age']\n",
    "print(\"Series (Age column from DataFrame):\")\n",
    "print(age_series)"
   ]
  },
  {
   "cell_type": "markdown",
   "id": "82bb1c6a",
   "metadata": {},
   "source": [
    "<span style = 'font-size:0.8em;'>\n",
    "    \n",
    "In the example above, df is a DataFrame containing three columns ('Name', 'Age', 'Gender'). We access the 'Age' column using square brackets (df['Age']), which returns a Series containing the ages of individuals. So, while a DataFrame represents tabular data with rows and columns, a Series represents a single column of data with an index.\n",
    "</span>\n"
   ]
  },
  {
   "cell_type": "code",
   "execution_count": 16,
   "id": "8d613593",
   "metadata": {},
   "outputs": [],
   "source": [
    "# Q5. What are some common functions you can use to manipulate data in a Pandas DataFrame? Can\n",
    "# you give an example of when you might use one of these functions?"
   ]
  },
  {
   "cell_type": "markdown",
   "id": "d10f8e9d",
   "metadata": {},
   "source": [
    "### Solution 5-"
   ]
  },
  {
   "cell_type": "markdown",
   "id": "7afc4fe4",
   "metadata": {},
   "source": [
    "<span style = 'font-size:0.8em;'>\n",
    "\n",
    "\n",
    "Pandas provides a wide range of functions for data manipulation in a DataFrame. Some common functions include:\n",
    "\n",
    "1. **`head()` and `tail()`**: These functions are used to view the first or last few rows of a DataFrame, respectively. They are helpful for quickly inspecting the structure and contents of the DataFrame.\n",
    "\n",
    "2. **`info()` and `describe()`**: `info()` provides a concise summary of the DataFrame including the data types and number of non-null values in each column, while `describe()` computes summary statistics for numerical columns (e.g., count, mean, min, max, etc.).\n",
    "\n",
    "3. **`set_index()` and `reset_index()`**: `set_index()` is used to set one or more columns as the index of the DataFrame, while `reset_index()` resets the index, optionally turning it into a column.\n",
    "\n",
    "4. **`loc[]` and `iloc[]`**: These are used for selection and indexing of rows and columns. `loc[]` is label-based, while `iloc[]` is integer-based.\n",
    "\n",
    "5. **`drop()`**: This function is used to remove rows or columns from the DataFrame based on labels or index.\n",
    "\n",
    "6. **`fillna()` and `dropna()`**: These functions are used for handling missing data. `fillna()` fills missing values with specified values, while `dropna()` drops rows or columns containing missing values.\n",
    "\n",
    "7. **`groupby()`**: This function is used to group data based on one or more columns and perform operations on the grouped data.\n",
    "\n",
    "8. **`merge()` and `concat()`**: These functions are used for combining DataFrames. `merge()` is used to merge DataFrames similar to SQL joins, while `concat()` is used to concatenate DataFrames along rows or columns.\n",
    "\n",
    "9. **`apply()`**: This function applies a function along an axis of the DataFrame.\n",
    "\n",
    "10. **`sort_values()` and `sort_index()`**: These functions are used for sorting data either by values or index labels.\n",
    "</span>\n"
   ]
  },
  {
   "cell_type": "code",
   "execution_count": 17,
   "id": "ca1929ea",
   "metadata": {},
   "outputs": [
    {
     "name": "stdout",
     "output_type": "stream",
     "text": [
      "Product\n",
      "A    250\n",
      "B    450\n",
      "Name: Sales, dtype: int64\n"
     ]
    }
   ],
   "source": [
    "# Here's an example of using one of these functions: \n",
    "data = {\n",
    "    'Date': ['2024-05-01', '2024-05-01', '2024-05-02', '2024-05-02'],\n",
    "    'Product': ['A', 'B', 'A', 'B'],\n",
    "    'Sales': [100, 200, 150, 250]\n",
    "}\n",
    "df = pd.DataFrame(data)\n",
    "\n",
    "# Grouping by 'Product' and calculating total sales\n",
    "total_sales = df.groupby('Product')['Sales'].sum()\n",
    "\n",
    "print(total_sales)"
   ]
  },
  {
   "cell_type": "markdown",
   "id": "67363241",
   "metadata": {},
   "source": [
    "<span style = 'font-size:0.8em;'>\n",
    "    \n",
    "In this example, `groupby('Product')['Sales'].sum()` groups the DataFrame by the 'Product' column and calculates the sum of 'Sales' for each product, giving us the total sales for each product.\n",
    "</span>"
   ]
  },
  {
   "cell_type": "code",
   "execution_count": 18,
   "id": "4d7a47ec",
   "metadata": {},
   "outputs": [],
   "source": [
    "# Q6. Which of the following is mutable in nature Series, DataFrame, Panel?"
   ]
  },
  {
   "cell_type": "markdown",
   "id": "270cdbf6",
   "metadata": {},
   "source": [
    "### Solution 6-"
   ]
  },
  {
   "cell_type": "markdown",
   "id": "ead9568a",
   "metadata": {},
   "source": [
    "<span style = 'font-size:0.8em;'>\n",
    "\n",
    "Among Series, DataFrame, and Panel in Pandas, only DataFrame is mutable in nature. \n",
    "\n",
    "- Series: Series objects are immutable, meaning you cannot modify their values after creation. You can, however, modify the index labels.\n",
    "- DataFrame: DataFrame objects are mutable, meaning you can modify their values, add or remove columns, and perform other operations to alter the DataFrame's structure and content.\n",
    "- Panel: Panel objects were deprecated in Pandas 0.25.0 and removed in Pandas 1.0.0. They were three-dimensional data structures and were also mutable. However, since they are deprecated and removed, they are no longer relevant for current versions of Pandas.\n",
    "\n",
    "Hence, **DataFrame** is mutable in nature\n",
    "</span>"
   ]
  },
  {
   "cell_type": "code",
   "execution_count": 19,
   "id": "da14687a",
   "metadata": {},
   "outputs": [
    {
     "name": "stdout",
     "output_type": "stream",
     "text": [
      "Original DataFrame:\n",
      "     Name  Age  Gender\n",
      "0   Alice   25  Female\n",
      "1     Bob   30    Male\n",
      "2  Claire   27  Female\n",
      "\n",
      "Modified DataFrame (added 'Country' column):\n",
      "     Name  Age  Gender Country\n",
      "0   Alice   25  Female     USA\n",
      "1     Bob   30    Male      UK\n",
      "2  Claire   27  Female  Canada\n"
     ]
    }
   ],
   "source": [
    "# Here's an example demonstrating how we can modify a DataFrame, showing its mutable nature:\n",
    "\n",
    "# Create a DataFrame\n",
    "data = {\n",
    "    'Name': ['Alice', 'Bob', 'Claire'],\n",
    "    'Age': [25, 30, 27],\n",
    "    'Gender': ['Female', 'Male', 'Female']\n",
    "}\n",
    "df = pd.DataFrame(data)\n",
    "\n",
    "print(\"Original DataFrame:\")\n",
    "print(df)\n",
    "print()\n",
    "\n",
    "# Modify the DataFrame by adding a new column\n",
    "df['Country'] = ['USA', 'UK', 'Canada']\n",
    "\n",
    "print(\"Modified DataFrame (added 'Country' column):\")\n",
    "print(df)\n"
   ]
  },
  {
   "cell_type": "code",
   "execution_count": 20,
   "id": "30ff659c",
   "metadata": {},
   "outputs": [],
   "source": [
    "# Q7. Create a DataFrame using multiple Series. Explain with an example."
   ]
  },
  {
   "cell_type": "markdown",
   "id": "60d669f6",
   "metadata": {},
   "source": [
    "### Solution 7-"
   ]
  },
  {
   "cell_type": "markdown",
   "id": "4a59668e",
   "metadata": {},
   "source": [
    "<span style = 'font-size:0.8em;'>\n",
    "    \n",
    "We can create a DataFrame using multiple Series by passing them as a dictionary to the pd.DataFrame(). Each Series will represent a column in the DataFrame, and their indexes should match if we want them to align correctly.\n",
    "</span>\n"
   ]
  },
  {
   "cell_type": "code",
   "execution_count": 21,
   "id": "f228b478",
   "metadata": {},
   "outputs": [
    {
     "name": "stdout",
     "output_type": "stream",
     "text": [
      "     Name  Age  Gender\n",
      "0   Alice   25  Female\n",
      "1     Bob   30    Male\n",
      "2  Claire   27  Female\n"
     ]
    }
   ],
   "source": [
    "# Here's an example:\n",
    "\n",
    "# Create multiple Series\n",
    "name_series = pd.Series(['Alice', 'Bob', 'Claire'])\n",
    "age_series = pd.Series([25, 30, 27])\n",
    "gender_series = pd.Series(['Female', 'Male', 'Female'])\n",
    "\n",
    "# Create a DataFrame using the Series\n",
    "data = {\n",
    "    'Name': name_series,\n",
    "    'Age': age_series,\n",
    "    'Gender': gender_series\n",
    "}\n",
    "df = pd.DataFrame(data)\n",
    "\n",
    "# Print the DataFrame\n",
    "print(df)\n"
   ]
  },
  {
   "cell_type": "code",
   "execution_count": null,
   "id": "2b9ea583",
   "metadata": {},
   "outputs": [],
   "source": []
  }
 ],
 "metadata": {
  "kernelspec": {
   "display_name": "Python 3 (ipykernel)",
   "language": "python",
   "name": "python3"
  },
  "language_info": {
   "codemirror_mode": {
    "name": "ipython",
    "version": 3
   },
   "file_extension": ".py",
   "mimetype": "text/x-python",
   "name": "python",
   "nbconvert_exporter": "python",
   "pygments_lexer": "ipython3",
   "version": "3.10.9"
  }
 },
 "nbformat": 4,
 "nbformat_minor": 5
}
