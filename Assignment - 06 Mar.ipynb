{
 "cells": [
  {
   "cell_type": "markdown",
   "id": "73ac46ee",
   "metadata": {},
   "source": [
    "### Assignment - 06 Mar"
   ]
  },
  {
   "cell_type": "code",
   "execution_count": 1,
   "id": "f3174bb9",
   "metadata": {},
   "outputs": [],
   "source": [
    "# Q1. What is Statistics?"
   ]
  },
  {
   "cell_type": "markdown",
   "id": "c48e4e10",
   "metadata": {},
   "source": [
    "### Solution 1-"
   ]
  },
  {
   "cell_type": "markdown",
   "id": "5efd212e",
   "metadata": {},
   "source": [
    "<span style  = 'font-size:0.8em;'>\n",
    "    \n",
    "Statistics is the study of collecting, analyzing, interpreting, and presenting data to understand patterns and make informed decisions.\n",
    "    \n",
    "Statistics is used to understand patterns and relationships in data, make predictions, and test hypotheses.\n",
    "It provides tools for describing the variability and uncertainty inherent in real-world phenomena, helping researchers and decision-makers to make informed choices and draw reliable conclusions.\n",
    "</span>"
   ]
  },
  {
   "cell_type": "code",
   "execution_count": 2,
   "id": "9e12b752",
   "metadata": {},
   "outputs": [],
   "source": [
    "# Q2. Define the different types of statistics and give an example of when each type might be used."
   ]
  },
  {
   "cell_type": "markdown",
   "id": "ed8ee60e",
   "metadata": {},
   "source": [
    "<span style  = 'font-size:0.8em;'>\n",
    "\n",
    "The different types of statistics:\n",
    "\n",
    "1. Descriptive Statistics: These are used to summarize and describe the important characteristics of a dataset. Examples include measures like mean, median, mode, range, and standard deviation. For instance, descriptive statistics might be used to summarize the average income of a population.\n",
    "\n",
    "2. Inferential Statistics: This type is used to make inferences or predictions about a population based on a sample of data. For example, inferential statistics might be used to determine if a new drug is effective by testing it on a sample of patients and then drawing conclusions about its effectiveness for the wider population.\n",
    "\n",
    "3. Exploratory Data Analysis (EDA): EDA involves techniques for visually exploring and analyzing data to uncover patterns, trends, and relationships. For instance, EDA might be used to visualize the distribution of customer ages in a dataset to understand the demographics of a target market.\n",
    "\n",
    "4. Predictive Analytics: This involves using statistical models and algorithms to make predictions about future outcomes based on historical data. For example, predictive analytics might be used by a retail company to forecast future sales based on past sales data and other relevant variables.\n",
    "\n",
    "These types of statistics are often used in combination to gain a comprehensive understanding of data and to make informed decisions.\n",
    "\n",
    "</span>"
   ]
  },
  {
   "cell_type": "code",
   "execution_count": 3,
   "id": "8e4a437e",
   "metadata": {},
   "outputs": [],
   "source": [
    "# Q3. What are the different types of data and how do they differ from each other? Provide an example of\n",
    "# each type of data."
   ]
  },
  {
   "cell_type": "markdown",
   "id": "ad8b1772",
   "metadata": {},
   "source": [
    "### Solution 3-"
   ]
  },
  {
   "cell_type": "markdown",
   "id": "c2713303",
   "metadata": {},
   "source": [
    "<span style  = 'font-size:0.8em;'>\n",
    "    \n",
    "## Types of Data\n",
    "\n",
    "### Quantitative\n",
    "- **Numerical**\n",
    "\n",
    "#### Discrete\n",
    "- Whole numbers\n",
    "  - Eg: No. of bank accounts, No. of children in family\n",
    "\n",
    "#### Continuous\n",
    "- Any value\n",
    "  - Eg: Weight, Height, Temperature, Speed\n",
    "\n",
    "### Qualitative\n",
    "- **Categorical**\n",
    "\n",
    "#### Nominal\n",
    "- This type of data consists of categories with no inherent order or ranking. It's purely qualitative. Examples include gender (male, female), marital status (single, married, divorced), or types of fruits (apple, banana, orange).\n",
    "- Name/Label\n",
    "  - Eg: Gender (M/F), Workgroup, Color\n",
    "\n",
    "#### Ordinal\n",
    "- Ordinal data has categories with a meaningful order or ranking, but the intervals between them are not necessarily equal. Examples include rating scales (1-star, 2-star, 3-star), education level (high school, bachelor's, master's), or socioeconomic status (low, middle, high).\n",
    "- Rank\n",
    "  - Eg: Good, Bad, Satisfactory\n",
    "\n",
    "### Examples\n",
    "1. What kind of variable Marital Status is? **Nominal**\n",
    "2. What kind of variable Nile River length is? **Continuous**\n",
    "3. What kind of variable is movie duration? **Continuous**\n",
    "</span>"
   ]
  },
  {
   "cell_type": "code",
   "execution_count": 4,
   "id": "42f73f95",
   "metadata": {},
   "outputs": [],
   "source": [
    "#  Q4. Categorise the following datasets with respect to quantitative and qualitative data types:\n",
    "# (i) Grading in exam: A+, A, B+, B, C+, C, D, E\n",
    "# (ii) Colour of mangoes: yellow, green, orange, red\n",
    "# (iii) Height data of a class: [178.9, 179, 179.5, 176, 177.2, 178.3, 175.8,...]\n",
    "# (iv) Number of mangoes exported by a farm: [500, 600, 478, 672, ...]"
   ]
  },
  {
   "cell_type": "markdown",
   "id": "b49346cd",
   "metadata": {},
   "source": [
    "### Solution 4-"
   ]
  },
  {
   "cell_type": "markdown",
   "id": "7f7bfbd2",
   "metadata": {},
   "source": [
    "<span style  = 'font-size:0.8em;'>\n",
    "\n",
    "\n",
    "(i) Grading in exam: This dataset is qualitative, specifically ordinal, as it represents categories with a meaningful order (A+ > A > B+ > B > C+ > C > D > E).\n",
    "\n",
    "(ii) Colour of mangoes: This dataset is qualitative, specifically nominal, as it consists of categories (yellow, green, orange, red) with no inherent order or ranking.\n",
    "\n",
    "(iii) Height data of a class: This dataset is quantitative, specifically continuous, as it represents measurements that can take on any value within a certain range without interruption.\n",
    "\n",
    "(iv) Number of mangoes exported by a farm: This dataset is quantitative, specifically discrete, as it represents whole, countable values of mangoes exported.\n",
    "</span>"
   ]
  },
  {
   "cell_type": "code",
   "execution_count": 5,
   "id": "a4beb756",
   "metadata": {},
   "outputs": [],
   "source": [
    "# Q5. Explain the concept of levels of measurement and give an example of a variable for each level."
   ]
  },
  {
   "cell_type": "markdown",
   "id": "be8bb8ea",
   "metadata": {},
   "source": [
    "### Solution 5-"
   ]
  },
  {
   "cell_type": "markdown",
   "id": "31180cce",
   "metadata": {},
   "source": [
    "<span style = 'font-size:0.8em;'>\n",
    "    \n",
    "Levels of measurement, also known as scales of measurement, refer to the different ways in which variables can be categorized or measured. There are four main levels of measurement:\n",
    "\n",
    "1. **Nominal Level**: This is the simplest level of measurement, where variables are categorized into distinct, non-ordered categories. Nominal variables do not have a quantitative value, and there is no inherent order or ranking among the categories. Examples include gender (male, female), eye color (blue, brown, green), or marital status (single, married, divorced).\n",
    "    \n",
    "**Eg**: Survey [10]\n",
    "- Red: 5 → 50%\n",
    "- Blue: 3 → 30%\n",
    "- Green: 2 → 20%\n",
    "\n",
    "2. **Ordinal Level**: At this level, variables have categories that can be ordered or ranked, but the differences between the categories are not uniform or quantifiable. In other words, ordinal variables have a meaningful order, but the intervals between categories are not necessarily equal. Examples include rating scales (1-star, 2-star, 3-star), educational attainment (high school, bachelor's degree, master's degree), or socioeconomic status (low, middle, high).\n",
    "    \n",
    "**Eg**: Qualification\n",
    "- PhD: 1st\n",
    "- BE: 3rd\n",
    "- Masters: 2nd\n",
    "- B.Com: 5th\n",
    "- B.Sc: 4th\n",
    "\n",
    "3. **Interval Level**: Interval-level variables have categories with equal intervals between them, but there is no true zero point. This means that while differences between values are meaningful, ratios are not. Examples include temperature measured in Celsius or Fahrenheit (0°C or 0°F does not represent absence of temperature), or years (0 AD is an arbitrary starting point).\n",
    "    \n",
    "**Eg**: Temperature\n",
    "- Temperatures: 30°F, 60°F, 80°F, 90°F\n",
    "- Difference between 60°F and 30°F: 60°F - 30°F = 30°F\n",
    "- This difference of 30°F is meaningful and shows how much warmer 60°F is compared to 30°F. However, you cannot say that 60°F is \"twice as warm\" as 30°F because the zero point on the Fahrenheit scale (0°F) does not represent the complete absence of temperature.\n",
    "\n",
    "4. **Ratio Level**: At the highest level of measurement, ratio-level variables have categories with equal intervals and a true zero point, meaning absence of the phenomenon being measured. This allows for meaningful ratios between values. Examples include height, weight, age, income, and number of children.\n",
    "    \n",
    "**Eg**: Weight\n",
    "- If you have weights of 0 kg, 10 kg, 20 kg, and 30 kg.\n",
    "- 20:10 = 2:1 \n",
    "- You can say 20 kg is twice as heavy as 10 kg.\n",
    "\n",
    "\n",
    "</span>"
   ]
  },
  {
   "cell_type": "code",
   "execution_count": 6,
   "id": "4aacfd32",
   "metadata": {},
   "outputs": [],
   "source": [
    "# Q6. Why is it important to understand the level of measurement when analyzing data? Provide an\n",
    "# example to illustrate your answer."
   ]
  },
  {
   "cell_type": "markdown",
   "id": "a5f142bb",
   "metadata": {},
   "source": [
    "### Solution 5-"
   ]
  },
  {
   "cell_type": "markdown",
   "id": "fe634782",
   "metadata": {},
   "source": [
    "<span style = 'font-size:0.8em;'>\n",
    "    \n",
    "Understanding the level of measurement is crucial when analyzing data because it determines the types of statistical analyses that are appropriate and the conclusions that can be drawn. Different levels of measurement provide different types and amounts of information, and using the wrong statistical methods can lead to incorrect interpretations and conclusions.\n",
    "\n",
    "### Importance of Levels of Measurement:\n",
    "\n",
    "1. **Appropriate Statistical Techniques**: Each level of measurement dictates which statistical tests and measures are suitable. For example, you can calculate the mean and standard deviation for interval and ratio data, but not for nominal or ordinal data.\n",
    "2. **Accuracy of Interpretation**: Using the correct level of measurement ensures that the conclusions drawn from the data are valid. Misinterpreting the level can lead to inaccurate results.\n",
    "3. **Data Visualization**: The level of measurement affects how data can be visually represented. For example, bar charts are appropriate for nominal data, while histograms are better for interval or ratio data.\n",
    "\n",
    "### Example:\n",
    "\n",
    "Consider a survey that collects the following data from a group of people:\n",
    "- **Nominal Data**: Gender (male, female)\n",
    "- **Ordinal Data**: Education level (high school, bachelor's, master's, Ph.D.)\n",
    "- **Interval Data**: Temperature preferences (measured in Celsius)\n",
    "- **Ratio Data**: Income (measured in dollars)\n",
    "\n",
    "#### Analysis:\n",
    "- **Nominal Data**: For gender, you might use mode to determine the most common gender in the sample. You could also use chi-square tests to examine the relationship between gender and another categorical variable.\n",
    "- **Ordinal Data**: For education level, you might use median or rank-based tests (like the Mann-Whitney U test) to compare educational attainment between different groups.\n",
    "- **Interval Data**: For temperature preferences, you could calculate the mean and standard deviation, or use correlation coefficients to explore relationships with other interval or ratio variables.\n",
    "- **Ratio Data**: For income, you could perform a wide range of statistical analyses, including mean, standard deviation, t-tests, ANOVA, and regression analysis, because income has a true zero point and allows for meaningful ratios.\n",
    "\n",
    "If you incorrectly treat ordinal data as interval data, for example by calculating the mean education level, the analysis would not accurately reflect the underlying ordinal nature of the data, leading to potentially misleading conclusions. Thus, understanding the level of measurement ensures the use of appropriate statistical methods and accurate interpretation of data.\n",
    "</span>"
   ]
  },
  {
   "cell_type": "code",
   "execution_count": 7,
   "id": "28f41fba",
   "metadata": {},
   "outputs": [],
   "source": [
    "# Q7. How nominal data type is different from ordinal data type."
   ]
  },
  {
   "cell_type": "markdown",
   "id": "6b0b4e8b",
   "metadata": {},
   "source": [
    "### Solution 7-"
   ]
  },
  {
   "cell_type": "markdown",
   "id": "e24c62ab",
   "metadata": {},
   "source": [
    "<span style = 'font-size:0.8em;'>\n",
    "\n",
    "Nominal and ordinal data types are both categories of qualitative data, but they differ in terms of the information they provide and how they can be analyzed.\n",
    "\n",
    "### Nominal Data:\n",
    "Nominal data consists of categories that have no intrinsic order or ranking. Each category is simply a label or name.\n",
    "\n",
    "- **Example**: Eye color (blue, green, brown), types of fruits (apple, banana, orange), or marital status (single, married, divorced).\n",
    "\n",
    "### Ordinal Data:\n",
    "Ordinal data consists of categories that have a meaningful order or ranking, but the intervals between the categories are not necessarily equal or known.\n",
    "\n",
    "- **Example**: Educational level (high school, bachelor's, master's, Ph.D.), customer satisfaction ratings (very dissatisfied, dissatisfied, neutral, satisfied, very satisfied), or class ranks (first, second, third).\n",
    "\n",
    "### Key Differences:\n",
    "1. **Order**:\n",
    "   - **Nominal**: No inherent order (e.g., types of fruit).\n",
    "   - **Ordinal**: Inherent order (e.g., satisfaction levels).\n",
    "\n",
    "2. **Measurement**:\n",
    "   - **Nominal**: Only qualitative distinction (categories differ in name only).\n",
    "   - **Ordinal**: Qualitative distinction with a ranking (categories have a specific order).\n",
    "\n",
    "3. **Statistical Analysis**:\n",
    "   - **Nominal**: Limited to frequency counts, mode, and chi-square tests for independence.\n",
    "   - **Ordinal**: In addition to nominal analyses, you can use median, percentile, and non-parametric tests like the Mann-Whitney U test or Spearman's rank correlation.\n",
    "\n",
    "### Example to Illustrate the Difference:\n",
    "- **Nominal Example**: Consider a survey where respondents are asked their preferred type of pet: dog, cat, bird, or fish. The responses are nominal data because there is no inherent order to these categories.\n",
    "- **Ordinal Example**: Consider a survey where respondents rate their satisfaction with a service on a scale: very dissatisfied, dissatisfied, neutral, satisfied, very satisfied. The responses are ordinal data because there is a clear order, but the intervals between the levels are not necessarily equal.\n",
    "\n",
    "</span>"
   ]
  },
  {
   "cell_type": "code",
   "execution_count": 8,
   "id": "434ee379",
   "metadata": {},
   "outputs": [],
   "source": [
    "# Q8. Which type of plot can be used to display data in terms of range?"
   ]
  },
  {
   "cell_type": "markdown",
   "id": "49b50c15",
   "metadata": {},
   "source": [
    "### Solution 8-"
   ]
  },
  {
   "cell_type": "markdown",
   "id": "19ddcf45",
   "metadata": {},
   "source": [
    "<span style = 'font-size:0.8em;'>\n",
    "    \n",
    "Plots for displaying data in terms of range :\n",
    "- **Box Plot**:  A box plot visually represents the distribution of a dataset and shows the range, interquartile range (IQR), median, and potential outliers.\n",
    "- **Components**:\n",
    "  - **Box**: Indicates the interquartile range (the middle 50% of the data).\n",
    "  - **Line inside the box**: Represents the median (the middle value of the dataset).\n",
    "  - **Whiskers**: Extend from the box to the smallest and largest values within 1.5 * IQR from the quartiles.\n",
    "  - **Outliers**: Data points outside the whiskers are considered potential outliers and are often plotted as individual points.\n",
    "- **Range Plot (Line Plot)**: Displays the minimum and maximum values as lines extending from the lowest to highest data points.\n",
    "- **Histogram**: Can indicate the range by showing the spread of data, though it primarily shows frequency distribution.\n",
    "- **Violin Plot**: Similar to a box plot but also shows the kernel density estimation of the data, providing more insight into the data distribution.\n",
    "\n",
    "</span>"
   ]
  },
  {
   "cell_type": "code",
   "execution_count": 9,
   "id": "76dc1b6c",
   "metadata": {},
   "outputs": [],
   "source": [
    "# Q9. Describe the difference between descriptive and inferential statistics. Give an example of each\n",
    "# type of statistics and explain how they are used."
   ]
  },
  {
   "cell_type": "markdown",
   "id": "ef714a46",
   "metadata": {},
   "source": [
    "### Solution 9-"
   ]
  },
  {
   "cell_type": "markdown",
   "id": "831e06d3",
   "metadata": {},
   "source": [
    "<span style = 'font-size:0.8em;'>\n",
    "\n",
    "### Descriptive Statistics:\n",
    "Descriptive statistics are used to summarize and describe the main features of a dataset. They provide simple summaries about the sample and the measures. These statistics help to present data in a meaningful way, allowing for a simpler interpretation of the data.\n",
    "\n",
    "#### Examples:\n",
    "1. **Measures of Central Tendency**: Mean, median, and mode.\n",
    "2. **Measures of Dispersion**: Range, variance, and standard deviation.\n",
    "3. **Charts and Graphs**: Histograms, bar charts, pie charts, and box plots.\n",
    "\n",
    "#### Usage Example:\n",
    "- **Example**: Suppose a teacher calculates the average score of a class on a test.\n",
    "  - **Descriptive Statistic**: The mean test score (e.g., the average score is 75).\n",
    "  - **Usage**: The teacher uses this information to understand the overall performance of the class and to identify any general trends in the data.\n",
    "\n",
    "### Inferential Statistics:\n",
    "Inferential statistics are used to make inferences and predictions about a population based on a sample of data. These statistics help to determine the probability that an observed pattern in the sample exists in the larger population.\n",
    "\n",
    "#### Examples:\n",
    "1. **Hypothesis Testing**: t-tests, chi-square tests, and ANOVA.\n",
    "2. **Confidence Intervals**: Estimates of population parameters.\n",
    "3. **Regression Analysis**: Predicting the value of a dependent variable based on one or more independent variables.\n",
    "\n",
    "#### Usage Example:\n",
    "- **Example**: A researcher wants to know if a new drug is effective in reducing blood pressure.\n",
    "  - **Inferential Statistic**: The researcher conducts a t-test to compare the blood pressure levels of the treatment group (who received the drug) and the control group (who received a placebo).\n",
    "  - **Usage**: If the t-test shows a statistically significant difference between the two groups, the researcher infers that the drug is likely effective in reducing blood pressure for the larger population.\n",
    "\n",
    "### Key Differences:\n",
    "1. **Purpose**:\n",
    "   - **Descriptive Statistics**: Summarize and describe data.\n",
    "   - **Inferential Statistics**: Make predictions or inferences about a population based on a sample.\n",
    "\n",
    "2. **Scope**:\n",
    "   - **Descriptive Statistics**: Limited to the data at hand.\n",
    "   - **Inferential Statistics**: Extends beyond the data to make generalizations about a larger population.\n",
    "\n",
    "3. **Application**:\n",
    "   - **Descriptive Statistics**: Used to present the raw data in a meaningful way.\n",
    "   - **Inferential Statistics**: Used to draw conclusions and make predictions about a population.\n",
    "\n",
    "By understanding and using both types of statistics appropriately, researchers and analysts can effectively interpret data and make informed decisions.\n",
    "</span>"
   ]
  },
  {
   "cell_type": "code",
   "execution_count": 10,
   "id": "f149234d",
   "metadata": {},
   "outputs": [],
   "source": [
    "# Q10. What are some common measures of central tendency and variability used in statistics? Explain\n",
    "# how each measure can be used to describe a dataset."
   ]
  },
  {
   "cell_type": "markdown",
   "id": "625bfc8b",
   "metadata": {},
   "source": [
    "### Solution 10-"
   ]
  },
  {
   "cell_type": "markdown",
   "id": "95f4912c",
   "metadata": {},
   "source": [
    "<span style = 'font-size:0.8em;'>\n",
    "\n",
    "### Measures of Central Tendency:\n",
    "Measures of central tendency describe the center point of a dataset. They provide an indication of the typical or average value.\n",
    "\n",
    "1. **Mean**:\n",
    "   - **Definition**: The arithmetic average of a dataset, calculated by summing all the values and dividing by the number of values.\n",
    "   - **Usage**: The mean is used to find the average score or value. It is useful when the data is symmetrically distributed without outliers.\n",
    "   - **Example**: If test scores are 70, 80, 90, the mean is (70 + 80 + 90) / 3 = 80.\n",
    "\n",
    "2. **Median**:\n",
    "   - **Definition**: The middle value when the data is ordered from least to greatest. If there is an even number of observations, the median is the average of the two middle values.\n",
    "   - **Usage**: The median is used to understand the center of a dataset, especially when there are outliers or the data is skewed.\n",
    "   - **Example**: For the test scores 70, 80, 90, the median is 80. For the scores 70, 80, 90, 100, the median is (80 + 90) / 2 = 85.\n",
    "\n",
    "3. **Mode**:\n",
    "   - **Definition**: The value that appears most frequently in a dataset.\n",
    "   - **Usage**: The mode is useful for categorical data to identify the most common category or for understanding the most common value in a dataset.\n",
    "   - **Example**: For the test scores 70, 80, 80, 90, the mode is 80.\n",
    "\n",
    "### Measures of Variability:\n",
    "Measures of variability describe the spread or dispersion of a dataset. They indicate how much the values in a dataset differ from the central tendency.\n",
    "\n",
    "1. **Range**:\n",
    "   - **Definition**: The difference between the maximum and minimum values in a dataset.\n",
    "   - **Usage**: The range provides a simple measure of the spread of the data.\n",
    "   - **Example**: For the test scores 70, 80, 90, the range is 90 - 70 = 20.\n",
    "\n",
    "2. **Variance**:\n",
    "   - **Definition**: The average of the squared differences from the mean.\n",
    "   - **Usage**: Variance measures the degree of spread in the data. It is useful in statistical models and for understanding data variability.\n",
    "   - **Example**: For the test scores 70, 80, 90, the mean is 80. The squared differences from the mean are (70-80)², (80-80)², (90-80)², which are 100, 0, and 100. The variance is (100 + 0 + 100) / 3 = 66.67.\n",
    "\n",
    "3. **Standard Deviation**:\n",
    "   - **Definition**: The square root of the variance.\n",
    "   - **Usage**: Standard deviation provides a measure of the average distance of each data point from the mean. It is widely used because it is in the same units as the data.\n",
    "   - **Example**: For the variance of 66.67, the standard deviation is √66.67 ≈ 8.16.\n",
    "\n",
    "4. **Interquartile Range (IQR)**:\n",
    "   - **Definition**: The difference between the 75th percentile (Q3) and the 25th percentile (Q1) of the data.\n",
    "   - **Usage**: IQR measures the spread of the middle 50% of the data, which is useful for identifying the variability while minimizing the effect of outliers.\n",
    "   - **Example**: For the data values 10, 20, 30, 40, 50, 60, 70, the Q1 is 25 and Q3 is 55, so the IQR is 55 - 25 = 30.\n",
    "\n",
    "### How Each Measure Describes a Dataset:\n",
    "- **Mean**: Provides the overall average value, giving a quick sense of the central tendency, but can be skewed by outliers.\n",
    "- **Median**: Offers a middle point that is not affected by extreme values, representing the center of the dataset better when the data is skewed.\n",
    "- **Mode**: Shows the most common value, useful for categorical data or when identifying the most frequent occurrence is important.\n",
    "- **Range**: Gives a basic sense of the spread of the data by highlighting the difference between the extremes.\n",
    "- **Variance and Standard Deviation**: Indicate how spread out the values are around the mean, with standard deviation being more interpretable due to its unit consistency with the original data.\n",
    "- **Interquartile Range (IQR)**: Focuses on the middle portion of the data, providing a measure of variability that is robust to outliers. \n",
    "\n",
    "Using these measures, one can gain a comprehensive understanding of both the central tendency and the variability within a dataset, allowing for better analysis and interpretation of the data.\n",
    "</span>"
   ]
  },
  {
   "cell_type": "code",
   "execution_count": null,
   "id": "0b2becb8",
   "metadata": {},
   "outputs": [],
   "source": []
  }
 ],
 "metadata": {
  "kernelspec": {
   "display_name": "Python 3 (ipykernel)",
   "language": "python",
   "name": "python3"
  },
  "language_info": {
   "codemirror_mode": {
    "name": "ipython",
    "version": 3
   },
   "file_extension": ".py",
   "mimetype": "text/x-python",
   "name": "python",
   "nbconvert_exporter": "python",
   "pygments_lexer": "ipython3",
   "version": "3.10.9"
  }
 },
 "nbformat": 4,
 "nbformat_minor": 5
}
