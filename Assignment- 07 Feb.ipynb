{
 "cells": [
  {
   "cell_type": "markdown",
   "id": "a7993f85",
   "metadata": {},
   "source": [
    "<span style = 'font-size:0.8em'>\n",
    "Q1. You are writing code for a company. The requirement of the company is that you create a python\n",
    "function that will check whether the password entered by the user is correct or not. The function should\n",
    "take the password as input and return the string “Valid Password” if the entered password follows the\n",
    "below-given password guidelines else it should return “Invalid Password”.<br>\n",
    "Note:<br> \n",
    "1. The Password should contain at least two uppercase letters and at least two lowercase letters.<br>\n",
    "2. The Password should contain at least a number and three special characters.<br>\n",
    "3. The length of the password should be 10 characters long.<br>\n",
    "</span>"
   ]
  },
  {
   "cell_type": "code",
   "execution_count": 3,
   "id": "6453a8ed",
   "metadata": {},
   "outputs": [
    {
     "name": "stdout",
     "output_type": "stream",
     "text": [
      "Enter your password: youAREmycloud9__*\n"
     ]
    },
    {
     "data": {
      "text/plain": [
       "'Valid Password'"
      ]
     },
     "execution_count": 3,
     "metadata": {},
     "output_type": "execute_result"
    }
   ],
   "source": [
    "def checkPassword(password):\n",
    "    lower = 0\n",
    "    upper = 0\n",
    "    number = 0\n",
    "    special_char = 0\n",
    "    password_length = len(password)\n",
    "    # count for the lowercase,uppercase and number\n",
    "    for char in password:\n",
    "        if char.islower():\n",
    "            lower+=1\n",
    "        if char.isupper():\n",
    "            upper+=1\n",
    "        if char.isdigit():\n",
    "            number+=1\n",
    "    # count for special character\n",
    "    for char in password:\n",
    "        if char.isalpha():\n",
    "            continue\n",
    "        elif char.isdigit():\n",
    "            continue\n",
    "        else:\n",
    "            special_char+=1\n",
    "            \n",
    "    cond1 = upper>=2 and lower>=2\n",
    "    cond2 = number>=1 and special_char>=3\n",
    "    cond3 = password_length>=10\n",
    "    \n",
    "    if cond1 and cond2 and cond3:\n",
    "        return \"Valid Password\"\n",
    "    else:\n",
    "        return \"Invalid Password\"\n",
    "\n",
    "password = input(\"Enter your password: \")\n",
    "checkPassword(password)"
   ]
  },
  {
   "cell_type": "markdown",
   "id": "e54d1c76",
   "metadata": {},
   "source": [
    "<span style = 'font-size:0.8em'>\n",
    "Q2. Solve the below-given questions using at least one of the following:<br>\n",
    "1. Lambda function<br>\n",
    "2. Filter function<br>\n",
    "3. Zap function<br>\n",
    "4. List Comprehension<br>"
   ]
  },
  {
   "cell_type": "code",
   "execution_count": null,
   "id": "4fa6f3e8",
   "metadata": {},
   "outputs": [],
   "source": [
    "# a. Check if the string starts with a particular letter."
   ]
  },
  {
   "cell_type": "code",
   "execution_count": 6,
   "id": "b7e0967d",
   "metadata": {},
   "outputs": [
    {
     "data": {
      "text/plain": [
       "True"
      ]
     },
     "execution_count": 6,
     "metadata": {},
     "output_type": "execute_result"
    }
   ],
   "source": [
    "# lambda function\n",
    "start_letter = lambda string,letter: string.startswith(letter) \n",
    "start_letter('snakeandladder','s')"
   ]
  },
  {
   "cell_type": "code",
   "execution_count": 7,
   "id": "32b6019a",
   "metadata": {},
   "outputs": [],
   "source": [
    "#list comprehension\n",
    "string_list = [\"apple\", \"banana\", \"orange\"]  \n",
    "filtered_strings = [string for string in string_list if string.startswith(\"a\")]"
   ]
  },
  {
   "cell_type": "code",
   "execution_count": 8,
   "id": "86a84991",
   "metadata": {},
   "outputs": [
    {
     "data": {
      "text/plain": [
       "['apple']"
      ]
     },
     "execution_count": 8,
     "metadata": {},
     "output_type": "execute_result"
    }
   ],
   "source": [
    "filtered_strings"
   ]
  },
  {
   "cell_type": "code",
   "execution_count": 9,
   "id": "b8b368da",
   "metadata": {},
   "outputs": [],
   "source": [
    "# b. Check if the string is numeric."
   ]
  },
  {
   "cell_type": "code",
   "execution_count": 13,
   "id": "2c1064c6",
   "metadata": {},
   "outputs": [],
   "source": [
    "# lambda function\n",
    "check_numeric = lambda numeric: numeric.isnumeric()"
   ]
  },
  {
   "cell_type": "code",
   "execution_count": 16,
   "id": "2d46010e",
   "metadata": {},
   "outputs": [
    {
     "data": {
      "text/plain": [
       "True"
      ]
     },
     "execution_count": 16,
     "metadata": {},
     "output_type": "execute_result"
    }
   ],
   "source": [
    "check_numeric('1234')"
   ]
  },
  {
   "cell_type": "code",
   "execution_count": 20,
   "id": "b8a19519",
   "metadata": {},
   "outputs": [],
   "source": [
    "# filter function\n",
    "string_list = [\"123\", \"abc\", \"456\"]\n",
    "filtered_numeric = list(filter(lambda x: x.isnumeric(), string_list))"
   ]
  },
  {
   "cell_type": "code",
   "execution_count": 21,
   "id": "a1403dcc",
   "metadata": {},
   "outputs": [
    {
     "name": "stdout",
     "output_type": "stream",
     "text": [
      "['123', '456']\n"
     ]
    }
   ],
   "source": [
    "print(filtered_numeric)"
   ]
  },
  {
   "cell_type": "code",
   "execution_count": 22,
   "id": "1a4e6cbc",
   "metadata": {},
   "outputs": [],
   "source": [
    "# c. Sort a list of tuples having fruit names and their quantity. [(\"mango\",99),(\"orange\",80), (\"grapes\", 1000)]-"
   ]
  },
  {
   "cell_type": "code",
   "execution_count": 23,
   "id": "b26583d7",
   "metadata": {},
   "outputs": [
    {
     "data": {
      "text/plain": [
       "[('mango', 99), ('orange', 80), ('grapes', 1000)]"
      ]
     },
     "execution_count": 23,
     "metadata": {},
     "output_type": "execute_result"
    }
   ],
   "source": [
    "fruits = [(\"mango\",99),(\"orange\",80), (\"grapes\", 1000)]\n",
    "fruits"
   ]
  },
  {
   "cell_type": "code",
   "execution_count": 24,
   "id": "aa80f8e8",
   "metadata": {},
   "outputs": [
    {
     "name": "stdout",
     "output_type": "stream",
     "text": [
      "[('orange', 80), ('mango', 99), ('grapes', 1000)]\n"
     ]
    }
   ],
   "source": [
    "# lambda function\n",
    "sorted_fruits = sorted(fruits, key=lambda x: x[1])\n",
    "print(sorted_fruits)\n"
   ]
  },
  {
   "cell_type": "code",
   "execution_count": 25,
   "id": "f3e9be96",
   "metadata": {},
   "outputs": [],
   "source": [
    "# d. Find the squares of numbers from 1 to 10."
   ]
  },
  {
   "cell_type": "code",
   "execution_count": 34,
   "id": "89df087b",
   "metadata": {},
   "outputs": [
    {
     "data": {
      "text/plain": [
       "[1, 4, 9, 16, 25, 36, 49, 64, 81, 100]"
      ]
     },
     "execution_count": 34,
     "metadata": {},
     "output_type": "execute_result"
    }
   ],
   "source": [
    "# list comprehension\n",
    "squares = [x**2 for x in range(1,11)]\n",
    "squares"
   ]
  },
  {
   "cell_type": "code",
   "execution_count": 35,
   "id": "47dd34c4",
   "metadata": {},
   "outputs": [],
   "source": [
    "# e. Find the cube root of numbers from 1 to 10."
   ]
  },
  {
   "cell_type": "code",
   "execution_count": 36,
   "id": "e1c9a780",
   "metadata": {},
   "outputs": [
    {
     "data": {
      "text/plain": [
       "[1, 8, 27, 64, 125, 216, 343, 512, 729, 1000]"
      ]
     },
     "execution_count": 36,
     "metadata": {},
     "output_type": "execute_result"
    }
   ],
   "source": [
    "# list comprehension\n",
    "cube = [x**3 for x in range(1,11)]\n",
    "cube"
   ]
  },
  {
   "cell_type": "code",
   "execution_count": 37,
   "id": "17a12494",
   "metadata": {},
   "outputs": [],
   "source": [
    "# f. Check if a given number is even."
   ]
  },
  {
   "cell_type": "code",
   "execution_count": 38,
   "id": "d12c4440",
   "metadata": {},
   "outputs": [
    {
     "data": {
      "text/plain": [
       "True"
      ]
     },
     "execution_count": 38,
     "metadata": {},
     "output_type": "execute_result"
    }
   ],
   "source": [
    "# lambda function\n",
    "check_even = lambda x: x%2==0\n",
    "check_even(18)"
   ]
  },
  {
   "cell_type": "code",
   "execution_count": 39,
   "id": "0399bbd9",
   "metadata": {},
   "outputs": [],
   "source": [
    "# g. Filter odd numbers from the given list.[1,2,3,4,5,6,7,8,9,10]"
   ]
  },
  {
   "cell_type": "code",
   "execution_count": 41,
   "id": "bdd62f6e",
   "metadata": {},
   "outputs": [
    {
     "data": {
      "text/plain": [
       "[1, 3, 5, 7, 9]"
      ]
     },
     "execution_count": 41,
     "metadata": {},
     "output_type": "execute_result"
    }
   ],
   "source": [
    "# list comprehension\n",
    "lst1 = [1,2,3,4,5,6,7,8,9,10]\n",
    "filtered_lst1 = [i for i in lst1 if i%2!=0]\n",
    "filtered_lst1"
   ]
  },
  {
   "cell_type": "code",
   "execution_count": 42,
   "id": "465e8edf",
   "metadata": {},
   "outputs": [],
   "source": [
    "# h. Sort a list of integers into positive and negative integers lists.[1,2,3,4,5,6,-1,-2,-3,-4,-5,0]"
   ]
  },
  {
   "cell_type": "code",
   "execution_count": 45,
   "id": "1b4daf50",
   "metadata": {},
   "outputs": [
    {
     "name": "stdout",
     "output_type": "stream",
     "text": [
      "Sorted numbers: [-1, -2, -3, -4, -5, 0, 1, 2, 3, 4, 5, 6]\n"
     ]
    }
   ],
   "source": [
    "# lambda function\n",
    "numbers = [1, 2, 3, 4, 5, 6, -1, -2, -3, -4, -5, 0]\n",
    "sorted_numbers = sorted(numbers, key=lambda x: (x >= 0, abs(x)))\n",
    "print(\"Sorted numbers:\", sorted_numbers)"
   ]
  },
  {
   "cell_type": "code",
   "execution_count": null,
   "id": "c61e8e0f",
   "metadata": {},
   "outputs": [],
   "source": []
  }
 ],
 "metadata": {
  "kernelspec": {
   "display_name": "Python 3 (ipykernel)",
   "language": "python",
   "name": "python3"
  },
  "language_info": {
   "codemirror_mode": {
    "name": "ipython",
    "version": 3
   },
   "file_extension": ".py",
   "mimetype": "text/x-python",
   "name": "python",
   "nbconvert_exporter": "python",
   "pygments_lexer": "ipython3",
   "version": "3.10.9"
  }
 },
 "nbformat": 4,
 "nbformat_minor": 5
}
