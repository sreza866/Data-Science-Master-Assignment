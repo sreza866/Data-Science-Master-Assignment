{
 "cells": [
  {
   "cell_type": "code",
   "execution_count": 1,
   "id": "70f25ab2",
   "metadata": {},
   "outputs": [],
   "source": [
    "# Q1. What is multithreading in python? why is it used? Name the module used to handle threads in python."
   ]
  },
  {
   "cell_type": "markdown",
   "id": "feadba25",
   "metadata": {},
   "source": [
    "### Solution 1-\n",
    "<span style = 'font-size:0.8em;'>\n",
    "Multithreading in Python refers to the ability of a program to execute multiple threads concurrently. A thread is a lightweight process, and multithreading allows different parts of a program to run concurrently. This is particularly useful for tasks that involve I/O operations or tasks that can be parallelized, such as fetching data from the internet or performing complex calculations.<br>\n",
    "\n",
    "Multithreading is used to improve the responsiveness of applications by allowing them to perform multiple tasks simultaneously. It can also be used to make efficient use of resources, such as CPU cores, by executing tasks concurrently.<br>\n",
    "\n",
    "In Python, the <code>threading</code> module is commonly used to handle threads. This module provides a high-level interface for creating and managing threads. It allows you to create new threads, start them, and coordinate their execution. With the threading module, you can easily implement multithreaded programs in Python.\n",
    "</span>"
   ]
  },
  {
   "cell_type": "code",
   "execution_count": 2,
   "id": "f6a52909",
   "metadata": {},
   "outputs": [],
   "source": [
    "# Q2. Why threading module used? Write the use of the following functions\n",
    "#  activeCount()\n",
    "#  currentThread()\n",
    "#  enumerate()"
   ]
  },
  {
   "cell_type": "code",
   "execution_count": 3,
   "id": "66a07655",
   "metadata": {},
   "outputs": [
    {
     "name": "stderr",
     "output_type": "stream",
     "text": [
      "C:\\Users\\sreza\\AppData\\Local\\Temp\\ipykernel_17892\\1746319123.py:6: DeprecationWarning: currentThread() is deprecated, use current_thread() instead\n",
      "  print(f\"{threading.currentThread().getName()} starting...\")\n",
      "C:\\Users\\sreza\\AppData\\Local\\Temp\\ipykernel_17892\\1746319123.py:6: DeprecationWarning: getName() is deprecated, get the name attribute instead\n",
      "  print(f\"{threading.currentThread().getName()} starting...\")\n",
      "C:\\Users\\sreza\\AppData\\Local\\Temp\\ipykernel_17892\\1746319123.py:18: DeprecationWarning: activeCount() is deprecated, use active_count() instead\n",
      "  print(f\"Number of active threads: {threading.activeCount()}\")\n",
      "C:\\Users\\sreza\\AppData\\Local\\Temp\\ipykernel_17892\\1746319123.py:21: DeprecationWarning: currentThread() is deprecated, use current_thread() instead\n",
      "  current_thread = threading.currentThread()\n",
      "C:\\Users\\sreza\\AppData\\Local\\Temp\\ipykernel_17892\\1746319123.py:22: DeprecationWarning: getName() is deprecated, get the name attribute instead\n",
      "  print(f\"Current thread: {current_thread.getName()}\")\n",
      "C:\\Users\\sreza\\AppData\\Local\\Temp\\ipykernel_17892\\1746319123.py:28: DeprecationWarning: getName() is deprecated, get the name attribute instead\n",
      "  print(thread.getName())\n"
     ]
    },
    {
     "name": "stdout",
     "output_type": "stream",
     "text": [
      "Thread-5 (worker) starting...\n",
      "Thread-6 (worker) starting...\n",
      "Thread-7 (worker) starting...\n",
      "Thread-8 (worker) starting...\n",
      "Thread-9 (worker) starting...\n",
      "Number of active threads: 11\n",
      "Current thread: MainThread\n",
      "List of all active threads:\n",
      "MainThread\n",
      "IOPub\n",
      "Heartbeat\n",
      "Control\n",
      "IPythonHistorySavingThread\n",
      "Thread-4\n",
      "Thread-5 (worker)\n",
      "Thread-6 (worker)\n",
      "Thread-7 (worker)\n",
      "Thread-8 (worker)\n",
      "Thread-9 (worker)\n",
      "Thread-6 (worker) exiting...\n",
      "Thread-8 (worker) exiting...\n",
      "Thread-7 (worker) exiting...\n",
      "Thread-5 (worker) exiting...\n",
      "Thread-9 (worker) exiting...\n",
      "All threads have finished.\n"
     ]
    },
    {
     "name": "stderr",
     "output_type": "stream",
     "text": [
      "C:\\Users\\sreza\\AppData\\Local\\Temp\\ipykernel_17892\\1746319123.py:8: DeprecationWarning: currentThread() is deprecated, use current_thread() instead\n",
      "  print(f\"{threading.currentThread().getName()} exiting...\")\n",
      "C:\\Users\\sreza\\AppData\\Local\\Temp\\ipykernel_17892\\1746319123.py:8: DeprecationWarning: getName() is deprecated, get the name attribute instead\n",
      "  print(f\"{threading.currentThread().getName()} exiting...\")\n"
     ]
    }
   ],
   "source": [
    "# Example\n",
    "import threading\n",
    "import time\n",
    "\n",
    "def worker():\n",
    "    print(f\"{threading.currentThread().getName()} starting...\")\n",
    "    time.sleep(2)\n",
    "    print(f\"{threading.currentThread().getName()} exiting...\")\n",
    "\n",
    "# Creating multiple threads\n",
    "threads = []\n",
    "for i in range(5):\n",
    "    t = threading.Thread(target=worker)\n",
    "    threads.append(t)\n",
    "    t.start()\n",
    "\n",
    "# Using activeCount() to get the count of active threads\n",
    "print(f\"Number of active threads: {threading.activeCount()}\")\n",
    "\n",
    "# Using currentThread() to get the current thread\n",
    "current_thread = threading.currentThread()\n",
    "print(f\"Current thread: {current_thread.getName()}\")\n",
    "\n",
    "# Using enumerate() to get a list of all active threads\n",
    "all_threads = threading.enumerate()\n",
    "print(\"List of all active threads:\")\n",
    "for thread in all_threads:\n",
    "    print(thread.getName())\n",
    "\n",
    "# Waiting for all threads to finish\n",
    "for t in threads:\n",
    "    t.join()\n",
    "\n",
    "print(\"All threads have finished.\")\n"
   ]
  },
  {
   "cell_type": "markdown",
   "id": "7add4a96",
   "metadata": {},
   "source": [
    "### Solution 2-\n",
    "<span style = 'font-size:0.8em;'>\n",
    "\n",
    "\n",
    "The `threading` module in Python is used to handle threads, allowing you to create, start, and manage threads within your programs.<br>\n",
    "    \n",
    "The use of listed function are following:<br>\n",
    "\n",
    "`activeCount()`: This function returns the number of Thread objects currently alive. It gives you a count of active threads in the current program. This can be useful for monitoring the number of threads at runtime.<br>\n",
    "`currentThread()`: This function returns the current Thread object, representing the thread from which it is called. It allows you to obtain a reference to the currently executing thread, which can be useful for identifying the current thread or accessing its attributes.<br>\n",
    "`enumerate()`: This function returns a list of all Thread objects currently alive. It returns a list containing all active Thread objects in the current program. Each Thread object represents a thread that is currently running or has not yet been garbage collected. This function is useful for obtaining references to all active threads and performing operations on them, such as joining or terminating.\n",
    "</span>"
   ]
  },
  {
   "cell_type": "code",
   "execution_count": 4,
   "id": "60ca54e8",
   "metadata": {},
   "outputs": [],
   "source": [
    "# Q3. Explain the following functions\n",
    "#  run()\n",
    "#  start()\n",
    "#  join()\n",
    "#  isAlive()"
   ]
  },
  {
   "cell_type": "markdown",
   "id": "4d9dcf7f",
   "metadata": {},
   "source": [
    "### Solution 3-\n",
    "<span style ='font-size:0.8em;'>\n",
    "Let's understand  each of these functions:\n",
    "\n",
    "1. `run()`: The `run()` method is called when you start a thread using the `start()` method. This method contains the code that you want the thread to execute. You override this method in your subclass of `threading.Thread` to define the behavior of your thread.\n",
    "\n",
    "2. `start()`: The `start()` method is used to begin the execution of the thread's activity. It spawns a new thread and calls the `run()` method in that thread. Calling `start()` multiple times on the same thread will raise a `RuntimeError`.\n",
    "\n",
    "3. `join()`: The `join()` method is used to wait for the thread to complete its execution. It blocks the calling thread until the thread whose `join()` method is called terminates. This is useful for ensuring that a program waits for all threads to finish before proceeding further.\n",
    "\n",
    "4. `is_alive()`: The `is_alive()` method returns `True` if the thread is currently executing (i.e., has been started but has not yet finished its `run()` method), and `False` otherwise. It's a way to check if a thread is still active or has completed its execution.\n",
    "</span>\n",
    "\n"
   ]
  },
  {
   "cell_type": "code",
   "execution_count": 5,
   "id": "a40229c3",
   "metadata": {},
   "outputs": [
    {
     "name": "stderr",
     "output_type": "stream",
     "text": [
      "C:\\Users\\sreza\\AppData\\Local\\Temp\\ipykernel_17892\\1037618525.py:7: DeprecationWarning: getName() is deprecated, get the name attribute instead\n",
      "  print(f\"{self.getName()} started\")\n",
      "C:\\Users\\sreza\\AppData\\Local\\Temp\\ipykernel_17892\\1037618525.py:16: DeprecationWarning: getName() is deprecated, get the name attribute instead\n",
      "  print(f\"Is {thread1.getName()} alive? {thread1.is_alive()}\")\n"
     ]
    },
    {
     "name": "stdout",
     "output_type": "stream",
     "text": [
      "Thread-10 started\n",
      "Is Thread-10 alive? True\n",
      "Thread-10 finished\n",
      "Is Thread-10 alive? False\n",
      "All threads have finished.\n"
     ]
    },
    {
     "name": "stderr",
     "output_type": "stream",
     "text": [
      "C:\\Users\\sreza\\AppData\\Local\\Temp\\ipykernel_17892\\1037618525.py:9: DeprecationWarning: getName() is deprecated, get the name attribute instead\n",
      "  print(f\"{self.getName()} finished\")\n",
      "C:\\Users\\sreza\\AppData\\Local\\Temp\\ipykernel_17892\\1037618525.py:20: DeprecationWarning: getName() is deprecated, get the name attribute instead\n",
      "  print(f\"Is {thread1.getName()} alive? {thread1.is_alive()}\")\n"
     ]
    }
   ],
   "source": [
    "# Example\n",
    "import threading\n",
    "import time\n",
    "\n",
    "class MyThread(threading.Thread):\n",
    "    def run(self):\n",
    "        print(f\"{self.getName()} started\")\n",
    "        time.sleep(2)\n",
    "        print(f\"{self.getName()} finished\")\n",
    "\n",
    "# Creating and starting a thread\n",
    "thread1 = MyThread()\n",
    "thread1.start()\n",
    "\n",
    "# Checking if the thread is alive\n",
    "print(f\"Is {thread1.getName()} alive? {thread1.is_alive()}\")\n",
    "\n",
    "# Waiting for the thread to finish\n",
    "thread1.join()\n",
    "print(f\"Is {thread1.getName()} alive? {thread1.is_alive()}\")\n",
    "\n",
    "print(\"All threads have finished.\")\n"
   ]
  },
  {
   "cell_type": "markdown",
   "id": "1fe8a3b6",
   "metadata": {},
   "source": [
    "<span style ='font-size:0.8em;'>\n",
    "\n",
    "In this example:<br>\n",
    "\n",
    "We define a subclass of threading.Thread called MyThread and override its run() method to define the thread's behavior.<br>\n",
    "We create an instance of MyThread and start it using the start() method.<br>\n",
    "We check if the thread is alive using the is_alive() method before and after waiting for it to finish with join().<br>\n",
    "</span>"
   ]
  },
  {
   "cell_type": "code",
   "execution_count": 6,
   "id": "d67bac36",
   "metadata": {},
   "outputs": [],
   "source": [
    "# Q4. Write a python program to create two threads. Thread one must print the list of squares and thread\n",
    "# two must print the list of cubes"
   ]
  },
  {
   "cell_type": "markdown",
   "id": "d7b06006",
   "metadata": {},
   "source": [
    "### Solution 4-"
   ]
  },
  {
   "cell_type": "code",
   "execution_count": 7,
   "id": "efa3854c",
   "metadata": {},
   "outputs": [
    {
     "name": "stdout",
     "output_type": "stream",
     "text": [
      "square of 2 is : 4\n",
      "square of 3 is : 9\n",
      "square of 4 is : 16\n",
      "square of 5 is : 25\n",
      "cube of 2 is : 8\n",
      "cube of 3 is : 27\n",
      "cube of 4 is : 64\n",
      "cube of 5 is : 125\n",
      "All threads have finished.\n"
     ]
    }
   ],
   "source": [
    "def square(x):\n",
    "    print(f\"square of {x} is :\",x**2)\n",
    "\n",
    "def cube(x):\n",
    "    print(f\"cube of {x} is :\",x**3)\n",
    "    \n",
    "# Creating threads for squares\n",
    "thread_square = [threading.Thread(target = square, args = (i,)) for i in [2,3,4,5]]\n",
    "\n",
    "# Creating threads for cubes\n",
    "thread_cube = [threading.Thread(target = cube, args = (i,)) for i in [2,3,4,5]]\n",
    "\n",
    "# Starting threads for squares\n",
    "for t in thread_square:\n",
    "    t.start()\n",
    "\n",
    "# Starting threads for cubes\n",
    "for t in thread_cube:\n",
    "    t.start()\n",
    "\n",
    "# Waiting for all threads to finish\n",
    "for t in thread_square:\n",
    "    t.join()\n",
    "\n",
    "for t in thread_cube:\n",
    "    t.join()\n",
    "\n",
    "print(\"All threads have finished.\")"
   ]
  },
  {
   "cell_type": "markdown",
   "id": "c40f21bf",
   "metadata": {},
   "source": [
    "<span style ='font-size:0.8em;'>\n",
    "\n",
    "This program defines two functions square() and cube() which generate lists of squares and cubes of numbers from list [2,3,4,5], respectively. Then, it creates two threads, each targeting one of these functions. Both threads are started and joined to wait for their completion. Finally, a message is printed indicating that all threads have finished.\n",
    "</span>"
   ]
  },
  {
   "cell_type": "code",
   "execution_count": null,
   "id": "368ea0c1",
   "metadata": {},
   "outputs": [],
   "source": [
    "# Q5. State advantages and disadvantages of multithreading"
   ]
  },
  {
   "cell_type": "markdown",
   "id": "434d413b",
   "metadata": {},
   "source": [
    "### Solution 5-\n",
    "<span style ='font-size:0.8em;'>\n",
    "\n",
    "Multithreading has several advantages and disadvantages:\n",
    "\n",
    "Advantages:\n",
    "\n",
    "1. **Improved Responsiveness**: Multithreading allows a program to remain responsive to user input even when performing long-running tasks in the background. This is particularly useful in graphical user interfaces (GUIs) and interactive applications.\n",
    "\n",
    "2. **Resource Sharing**: Threads within the same process can share resources such as memory space, files, and sockets, which can lead to efficient resource utilization.\n",
    "\n",
    "3. **Parallelism**: Multithreading enables parallel execution of multiple tasks, which can lead to performance improvements, especially on multi-core systems. Tasks that can be divided into smaller units of work can be executed concurrently, reducing overall execution time.\n",
    "\n",
    "4. **Simplified Program Structure**: Multithreading can simplify program design by allowing different parts of the program to be executed independently in separate threads. This can lead to cleaner, more modular code.\n",
    "\n",
    "Disadvantages:\n",
    "\n",
    "1. **Complexity and Synchronization**: Multithreaded programs can be more complex to design, implement, and debug compared to single-threaded programs. Synchronization mechanisms such as locks, semaphores, and mutexes are often required to coordinate access to shared resources, which can introduce the risk of deadlocks and race conditions.\n",
    "\n",
    "2. **Resource Overhead**: Creating and managing threads incurs some overhead in terms of memory and CPU resources. Creating too many threads can lead to increased memory consumption and context-switching overhead.\n",
    "\n",
    "3. **Potential for Bottlenecks**: In some cases, multithreading can introduce bottlenecks due to contention for shared resources or inefficient thread scheduling. Poorly designed multithreaded programs may experience diminishing returns or even performance degradation compared to single-threaded counterparts.\n",
    "\n",
    "4. **Difficulty in Debugging**: Multithreading can make debugging more challenging due to the non-deterministic nature of thread execution. Race conditions and timing-related bugs may only manifest under specific conditions, making them difficult to reproduce and diagnose.\n",
    "</span>\n"
   ]
  },
  {
   "cell_type": "code",
   "execution_count": 8,
   "id": "f90dff65",
   "metadata": {},
   "outputs": [],
   "source": [
    "# Q6. Explain deadlocks and race conditions."
   ]
  },
  {
   "cell_type": "markdown",
   "id": "9f14960f",
   "metadata": {},
   "source": [
    "### Solution 6-\n",
    "\n",
    "<span style ='font-size:0.8em;'>\n",
    "\n",
    "\n",
    "Deadlocks:\n",
    "- Deadlock is a situation where two or more threads are unable to proceed because each is waiting for the other to release a resource.\n",
    "- It typically occurs in multithreaded programs when threads acquire locks on resources in a non-sequential order, leading to a circular waiting dependency.\n",
    "- Deadlocks can result in a complete halt of program execution and can be challenging to diagnose and resolve.\n",
    "\n",
    "Race Conditions:\n",
    "- Race conditions occur when the outcome of a program depends on the timing or interleaving of multiple threads accessing shared resources.\n",
    "- It arises when multiple threads access and modify shared data concurrently without proper synchronization.\n",
    "- Race conditions can lead to unpredictable behavior, data corruption, or incorrect results in a program.\n",
    "- Synchronization mechanisms such as locks, mutexes, or semaphores are used to prevent race conditions by ensuring mutual exclusion and orderly access to shared resources.\n",
    "</span>"
   ]
  },
  {
   "cell_type": "code",
   "execution_count": null,
   "id": "bf598f08",
   "metadata": {},
   "outputs": [],
   "source": []
  }
 ],
 "metadata": {
  "kernelspec": {
   "display_name": "Python 3 (ipykernel)",
   "language": "python",
   "name": "python3"
  },
  "language_info": {
   "codemirror_mode": {
    "name": "ipython",
    "version": 3
   },
   "file_extension": ".py",
   "mimetype": "text/x-python",
   "name": "python",
   "nbconvert_exporter": "python",
   "pygments_lexer": "ipython3",
   "version": "3.10.9"
  }
 },
 "nbformat": 4,
 "nbformat_minor": 5
}
