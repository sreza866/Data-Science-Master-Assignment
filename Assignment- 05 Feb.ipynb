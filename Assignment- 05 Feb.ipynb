{
 "cells": [
  {
   "cell_type": "code",
   "execution_count": 1,
   "id": "633fc1f9",
   "metadata": {},
   "outputs": [],
   "source": [
    "# Q1. Explain Class and Object with respect to Object-Oriented Programming. Give a suitable example."
   ]
  },
  {
   "cell_type": "markdown",
   "id": "b0ec9437",
   "metadata": {},
   "source": [
    "Solution 1-<br>\n",
    "<span style = font-size:0.8em;>\n",
    "Class:<br>\n",
    "In object-oriented programming, a class is a blueprint or template for creating objects. It defines the properties (attributes or variables) and behaviors (methods or functions) that all objects of that type will have.\n",
    "Classes provide a way to organize and structure code by grouping related data and functions together. They promote code reusability and modularity.\n",
    "In Python, a class is defined using the class keyword followed by the class name, a colon, and an indented block containing class members (attributes and methods).\n",
    "</span>\n"
   ]
  },
  {
   "cell_type": "code",
   "execution_count": 5,
   "id": "ab412de5",
   "metadata": {},
   "outputs": [],
   "source": [
    "# Example of a class\n",
    "class Dog:\n",
    "    def __init__(self, name, age):\n",
    "        self.name = name\n",
    "        self.age = age\n",
    "\n",
    "    def bark(self):\n",
    "        return \"Woo\"\n"
   ]
  },
  {
   "cell_type": "markdown",
   "id": "fff701c7",
   "metadata": {},
   "source": [
    "<span style = font-size:0.8em;>\n",
    "Object:\n",
    "\n",
    "An object, also known as an instance, is a specific realization of a class. It is created using the class definition as a blueprint. Each object represents a unique entity with its own state (values of attributes) and behavior (execution of methods).<br>\n",
    "Objects encapsulate data and behavior, allowing for the manipulation and interaction of data in a structured and controlled manner. They enable the implementation of real-world entities and concepts in code.<br>\n",
    "Objects are created by calling the class name followed by parentheses, optionally passing arguments to the class constructor if it has one.<br>\n",
    "</span>"
   ]
  },
  {
   "cell_type": "code",
   "execution_count": 11,
   "id": "d20faf81",
   "metadata": {},
   "outputs": [],
   "source": [
    "# Example of an object\n",
    "dog1 = Dog(\"Rodger\", 3)\n",
    "dog2 = Dog(\"Tommy\", 5)"
   ]
  },
  {
   "cell_type": "code",
   "execution_count": 12,
   "id": "622f513a",
   "metadata": {},
   "outputs": [
    {
     "name": "stdout",
     "output_type": "stream",
     "text": [
      "Rodger\n",
      "3\n",
      "Woo\n",
      "Tommy\n",
      "5\n",
      "Woo\n"
     ]
    }
   ],
   "source": [
    "print(dog1.name)   \n",
    "print(dog1.age)    \n",
    "print(dog1.bark()) \n",
    "\n",
    "print(dog2.name)   \n",
    "print(dog2.age)    \n",
    "print(dog2.bark()) \n"
   ]
  },
  {
   "cell_type": "code",
   "execution_count": null,
   "id": "dbd5acdb",
   "metadata": {},
   "outputs": [],
   "source": [
    "# Q2. Name the four pillars of OOPs."
   ]
  },
  {
   "cell_type": "markdown",
   "id": "0c99bba6",
   "metadata": {},
   "source": [
    "Solution 2-<br>\n",
    "<span style=\"font-size: 0.8em;\">The four pillars of Object-Oriented Programming (OOP) are:</span>\n",
    "\n",
    "1. <span style=\"font-size: 0.8em;\"><b>Encapsulation</b>:Encapsulation is the bundling of data (attributes) and methods (functions) that operate on the data into a single unit called a class. It hides the internal state of objects from the outside world and only exposes the necessary functionality through methods. This helps in preventing unauthorized access and modification of data.</span>\n",
    "\n",
    "2. <span style=\"font-size: 0.8em;\"><b>Abstraction</b>:Abstraction refers to the concept of hiding the complex implementation details of a class and only showing the essential features of the object. It allows programmers to focus on what an object does rather than how it achieves it. Abstraction is achieved through abstract classes and interfaces, which provide a blueprint for creating concrete classes.</span>\n",
    "\n",
    "3. <span style=\"font-size: 0.8em;\"><b>Inheritance</b>:Inheritance is a mechanism by which a new class (subclass or derived class) is created from an existing class (superclass or base class), inheriting its attributes and methods. It promotes code reuse and facilitates the creation of a hierarchical structure of classes. Subclasses can extend or override the behavior of their superclass while inheriting its common functionality.</span> \n",
    "\n",
    "4. <span style=\"font-size: 0.8em;\"><b>Polymorphism</b>:Polymorphism allows objects of different classes to be treated as objects of a common superclass. It enables objects to be processed uniformly by providing a way to perform a single action in different ways. Polymorphism is achieved through method overriding (runtime polymorphism) and method overloading (compile-time polymorphism). It enhances flexibility and extensibility in object-oriented systems.</span> \n",
    "\n",
    "<span style=\"font-size: 0.8em;\">These four pillars together provide the foundation for building robust, modular, and maintainable software systems using the principles of object-oriented programming.</span>\n"
   ]
  },
  {
   "cell_type": "code",
   "execution_count": null,
   "id": "0513034a",
   "metadata": {},
   "outputs": [],
   "source": [
    "# Q3. Explain why the __init__() function is used. Give a suitable example."
   ]
  },
  {
   "cell_type": "markdown",
   "id": "ca7f5db6",
   "metadata": {},
   "source": [
    "Solution 3-<br>\n",
    "<span style=\"font-size: 0.8em;\"> \n",
    "The ```__init__()```function is a special method in Python classes that is automatically called when a new instance of the class is created. It is commonly used to initialize the attributes of the object with values provided during object creation. The ```__init__()``` method is also known as the constructor method.<br>\n",
    "</span>\n",
    "\n",
    "<span style=\"font-size: 0.8em;\"> \n",
    "Here's why the <code>__init__()</code> function is used:<br><br>\n",
    "</span>\n",
    "\n",
    "<span style=\"font-size: 0.8em;\"> \n",
    "    <i>Initialization</i>: The primary purpose of the <code>__init__()</code> method is to initialize the state of newly created objects. It allows you to set initial values for the object's attributes based on arguments passed to the class constructor.<br><br>\n",
    "</span>\n",
    "<span style=\"font-size: 0.8em;\">\n",
    "    <i>Attribute Assignment</i>: Within the <code>__init__()</code> method, you can assign values to the object's attributes using the <code>self</code> keyword, which represents the instance of the <code>class</code>. This allows you to define the initial state of the object.<br><br>\n",
    "</span>\n",
    "    \n",
    "<span style=\"font-size: 0.8em;\">\n",
    "    <i>Customization</i>: The <code>__init__()</code> method provides a way to customize object creation by accepting arguments and performing any necessary setup or validation. This makes it flexible and versatile, allowing different instances of the class to be initialized with different values.\n",
    "</span>\n",
    "\n",
    "\n"
   ]
  },
  {
   "cell_type": "code",
   "execution_count": 13,
   "id": "cbad1442",
   "metadata": {},
   "outputs": [],
   "source": [
    "# Example of __init__() method\n",
    "class Person:\n",
    "    def __init__(self, name, age):\n",
    "        self.name = name\n",
    "        self.age = age\n",
    "\n",
    "    def display_info(self):\n",
    "        print(f\"Name: {self.name}, Age: {self.age}\")"
   ]
  },
  {
   "cell_type": "code",
   "execution_count": 14,
   "id": "d8098d01",
   "metadata": {},
   "outputs": [],
   "source": [
    "# Creating instances of the Person class\n",
    "person1 = Person(\"Subhan\", 23)\n",
    "person2 = Person(\"Sohan\", 25)\n"
   ]
  },
  {
   "cell_type": "code",
   "execution_count": 15,
   "id": "e78e61fa",
   "metadata": {},
   "outputs": [
    {
     "name": "stdout",
     "output_type": "stream",
     "text": [
      "Name: Subhan, Age: 23\n",
      "Name: Sohan, Age: 25\n"
     ]
    }
   ],
   "source": [
    "person1.display_info()\n",
    "person2.display_info()"
   ]
  },
  {
   "cell_type": "code",
   "execution_count": 8,
   "id": "f044205f",
   "metadata": {},
   "outputs": [],
   "source": [
    "# Q4. Why self is used in OOPs?"
   ]
  },
  {
   "cell_type": "markdown",
   "id": "bed38178",
   "metadata": {},
   "source": [
    "Solution 4-<br>\n",
    "<span style=\"font-size: 0.8em;\"> \n",
    "```self``` is used to refer to the instance of the class. It is a reference to the current object on which a method is being invoked.It allows methods to access and manipulate instance variables and call other methods within the same class.\n",
    "</span>\n"
   ]
  },
  {
   "cell_type": "code",
   "execution_count": 5,
   "id": "f5da78ed",
   "metadata": {},
   "outputs": [],
   "source": [
    "# Example of self in python OOPS\n",
    "class Car:\n",
    "    def __init__(self, brand, model):\n",
    "        self.brand = brand\n",
    "        self.model = model\n",
    "\n",
    "    def display_info(self):\n",
    "        print(f\"Brand: {self.brand}, Model: {self.model}\")"
   ]
  },
  {
   "cell_type": "code",
   "execution_count": 6,
   "id": "7fcf8c3b",
   "metadata": {},
   "outputs": [],
   "source": [
    "# Creating an instance of Car class\n",
    "my_car = Car(\"Toyota\", \"Innova\")"
   ]
  },
  {
   "cell_type": "code",
   "execution_count": 7,
   "id": "6004ce3b",
   "metadata": {},
   "outputs": [
    {
     "name": "stdout",
     "output_type": "stream",
     "text": [
      "Brand: Toyota, Model: Innova\n"
     ]
    }
   ],
   "source": [
    "# Calling display_info method on the instance\n",
    "my_car.display_info()"
   ]
  },
  {
   "cell_type": "markdown",
   "id": "8182654b",
   "metadata": {},
   "source": [
    "<span style=\"font-size: 0.8em;\"> \n",
    "    In this example, <code>self</code> is used within the <code>display_info()</code> method to access the instance variables brand and model of the <code>Car</code> class. When calling the <code>display_info()</code> method on the <code>my_car</code> instance, self refers to <code>my_car</code>, allowing it to display the brand and model of the car instance.\n",
    "</span>\n"
   ]
  },
  {
   "cell_type": "code",
   "execution_count": 9,
   "id": "59af22ad",
   "metadata": {},
   "outputs": [],
   "source": [
    "# Q5. What is inheritance? Give an example for each type of inheritance."
   ]
  },
  {
   "cell_type": "markdown",
   "id": "5f1251fc",
   "metadata": {},
   "source": [
    "Solution 5-<br>\n",
    "<span style='font-size:0.8em;'>\n",
    "Inheritance in object-oriented programming is a mechanism where a new class inherits properties and behaviors (methods) from an existing class. The existing class is often referred to as the base class, parent class, or superclass, while the new class is known as the derived class, child class, or subclass. Inheritance facilitates code reusability and promotes the concept of hierarchical classification.<br><br>\n",
    "There are several types of inheritance:\n",
    " <small>   \n",
    "1.single inheritance<br>\n",
    "2.multiple inheritance<br>\n",
    "3.multi-level inheritace<br>\n",
    "4.hierarchical inheritance<br>\n",
    "</small>\n",
    "    \n",
    "</span>"
   ]
  },
  {
   "cell_type": "code",
   "execution_count": 10,
   "id": "bfd307b7",
   "metadata": {},
   "outputs": [
    {
     "name": "stdout",
     "output_type": "stream",
     "text": [
      "Animal speaks\n",
      "Dog barks\n"
     ]
    }
   ],
   "source": [
    "# Single Inheritance: A subclass inherits from only one superclass.\n",
    "class Animal:\n",
    "    def speak(self):\n",
    "        print('Animal speaks')\n",
    "    \n",
    "class Dog(Animal):\n",
    "    def bark(self):\n",
    "        print(\"Dog barks\")\n",
    "# Creating an instance of Dog class\n",
    "my_dog = Dog()\n",
    "my_dog.speak()  \n",
    "my_dog.bark()   \n"
   ]
  },
  {
   "cell_type": "code",
   "execution_count": 12,
   "id": "f78b792e",
   "metadata": {},
   "outputs": [
    {
     "name": "stdout",
     "output_type": "stream",
     "text": [
      "method A\n",
      "method B\n",
      "method C\n"
     ]
    }
   ],
   "source": [
    "# Multiple Inheritance: A subclass inherits from multiple superclasses.\n",
    "class A:\n",
    "    def method_A(self):\n",
    "        print('method A')\n",
    "        \n",
    "class B:\n",
    "    def method_B(self):\n",
    "        print('method B')\n",
    "        \n",
    "class C(A,B):            # C inherits from both A and B\n",
    "    def method_C(self):\n",
    "        print('method C')\n",
    "\n",
    "# Creating an instance of C class\n",
    "obj_c = C()\n",
    "obj_c.method_A()  \n",
    "obj_c.method_B()  \n",
    "obj_c.method_C()  \n",
    "    "
   ]
  },
  {
   "cell_type": "code",
   "execution_count": 13,
   "id": "ab19f2d2",
   "metadata": {},
   "outputs": [
    {
     "name": "stdout",
     "output_type": "stream",
     "text": [
      "Method A\n",
      "Method B\n",
      "Method C\n"
     ]
    }
   ],
   "source": [
    "# Multilevel Inheritance: A subclass inherits from another subclass.\n",
    "class A:\n",
    "    def method_A(self):\n",
    "        print(\"Method A\")\n",
    "\n",
    "class B(A):\n",
    "    def method_B(self):\n",
    "        print(\"Method B\")\n",
    "\n",
    "class C(B):  # C inherits from B\n",
    "    def method_C(self):\n",
    "        print(\"Method C\")\n",
    "\n",
    "# Creating an instance of C class\n",
    "obj_c = C()\n",
    "obj_c.method_A()  \n",
    "obj_c.method_B()  \n",
    "obj_c.method_C()  \n"
   ]
  },
  {
   "cell_type": "code",
   "execution_count": 15,
   "id": "a939ca72",
   "metadata": {},
   "outputs": [
    {
     "name": "stdout",
     "output_type": "stream",
     "text": [
      "Animal speaks\n",
      "Dog barks\n",
      "Animal speaks\n",
      "Cat meows\n"
     ]
    }
   ],
   "source": [
    "# Hierarchical Inheritance: Multiple subclasses inherit from a single superclass.\n",
    "class Animal:\n",
    "    def speak(self):\n",
    "        print(\"Animal speaks\")\n",
    "\n",
    "class Dog(Animal):\n",
    "    def bark(self):\n",
    "        print(\"Dog barks\")\n",
    "\n",
    "class Cat(Animal):\n",
    "    def meow(self):\n",
    "        print(\"Cat meows\")\n",
    "\n",
    "# Creating instances of Dog and Cat classes\n",
    "my_dog = Dog()\n",
    "my_cat = Cat()\n",
    "my_dog.speak()  # Dog object accessing animalm properties\n",
    "my_dog.bark()   \n",
    "my_cat.speak()  # Cat object accessing animalm properties \n",
    "my_cat.meow()   \n"
   ]
  },
  {
   "cell_type": "code",
   "execution_count": null,
   "id": "eb76de2c",
   "metadata": {},
   "outputs": [],
   "source": []
  }
 ],
 "metadata": {
  "kernelspec": {
   "display_name": "Python 3 (ipykernel)",
   "language": "python",
   "name": "python3"
  },
  "language_info": {
   "codemirror_mode": {
    "name": "ipython",
    "version": 3
   },
   "file_extension": ".py",
   "mimetype": "text/x-python",
   "name": "python",
   "nbconvert_exporter": "python",
   "pygments_lexer": "ipython3",
   "version": "3.10.9"
  }
 },
 "nbformat": 4,
 "nbformat_minor": 5
}
